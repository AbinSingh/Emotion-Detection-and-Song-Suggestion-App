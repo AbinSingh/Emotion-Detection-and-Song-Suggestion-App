{
 "cells": [
  {
   "cell_type": "markdown",
   "metadata": {},
   "source": [
    "https://www.shirin-glander.de/2019/01/text_classification_keras_data_prep/      \n",
    "https://apilist.fun/?page=2\n",
    "https://medium.com/rakuten-rapidapi/top-10-social-media-apis-twitter-facebook-instagram-and-many-more-5c13262c61fe\n",
    "https://www.kaggle.com/anik424/sentiment-analysis-multiclassification-using-bert?select=train.txt"
   ]
  },
  {
   "cell_type": "code",
   "execution_count": 1,
   "metadata": {},
   "outputs": [
    {
     "name": "stderr",
     "output_type": "stream",
     "text": [
      "C:\\Users\\Abin\\Anaconda3\\lib\\site-packages\\h5py\\__init__.py:36: FutureWarning: Conversion of the second argument of issubdtype from `float` to `np.floating` is deprecated. In future, it will be treated as `np.float64 == np.dtype(float).type`.\n",
      "  from ._conv import register_converters as _register_converters\n"
     ]
    }
   ],
   "source": [
    "from numpy.random import seed\n",
    "seed(1)\n",
    "from tensorflow import set_random_seed\n",
    "set_random_seed(2)"
   ]
  },
  {
   "cell_type": "code",
   "execution_count": 2,
   "metadata": {},
   "outputs": [],
   "source": [
    "import os\n",
    "import pandas as pd\n",
    "import numpy as np\n",
    "os.getcwd()\n",
    "os.chdir('C:\\\\Users\\\\Abin\\\\Desktop\\\\Emotion_Prediction')"
   ]
  },
  {
   "cell_type": "code",
   "execution_count": 3,
   "metadata": {},
   "outputs": [],
   "source": [
    "df_train = pd.read_csv('train.txt', header =None, sep =';', names = ['Input','Sentiment'], encoding='utf-8')\n",
    "df_test = pd.read_csv('test.txt', header = None, sep =';', names = ['Input','Sentiment'],encoding='utf-8')"
   ]
  },
  {
   "cell_type": "code",
   "execution_count": 6,
   "metadata": {},
   "outputs": [
    {
     "data": {
      "text/html": [
       "<div>\n",
       "<style scoped>\n",
       "    .dataframe tbody tr th:only-of-type {\n",
       "        vertical-align: middle;\n",
       "    }\n",
       "\n",
       "    .dataframe tbody tr th {\n",
       "        vertical-align: top;\n",
       "    }\n",
       "\n",
       "    .dataframe thead th {\n",
       "        text-align: right;\n",
       "    }\n",
       "</style>\n",
       "<table border=\"1\" class=\"dataframe\">\n",
       "  <thead>\n",
       "    <tr style=\"text-align: right;\">\n",
       "      <th></th>\n",
       "      <th>Input</th>\n",
       "      <th>Sentiment</th>\n",
       "    </tr>\n",
       "  </thead>\n",
       "  <tbody>\n",
       "    <tr>\n",
       "      <th>15995</th>\n",
       "      <td>i just had a very brief time in the beanbag an...</td>\n",
       "      <td>sadness</td>\n",
       "    </tr>\n",
       "    <tr>\n",
       "      <th>15996</th>\n",
       "      <td>i am now turning and i feel pathetic that i am...</td>\n",
       "      <td>sadness</td>\n",
       "    </tr>\n",
       "    <tr>\n",
       "      <th>15997</th>\n",
       "      <td>i feel strong and good overall</td>\n",
       "      <td>joy</td>\n",
       "    </tr>\n",
       "    <tr>\n",
       "      <th>15998</th>\n",
       "      <td>i feel like this was such a rude comment and i...</td>\n",
       "      <td>anger</td>\n",
       "    </tr>\n",
       "    <tr>\n",
       "      <th>15999</th>\n",
       "      <td>i know a lot but i feel so stupid because i ca...</td>\n",
       "      <td>sadness</td>\n",
       "    </tr>\n",
       "  </tbody>\n",
       "</table>\n",
       "</div>"
      ],
      "text/plain": [
       "                                                   Input Sentiment\n",
       "15995  i just had a very brief time in the beanbag an...   sadness\n",
       "15996  i am now turning and i feel pathetic that i am...   sadness\n",
       "15997                     i feel strong and good overall       joy\n",
       "15998  i feel like this was such a rude comment and i...     anger\n",
       "15999  i know a lot but i feel so stupid because i ca...   sadness"
      ]
     },
     "execution_count": 6,
     "metadata": {},
     "output_type": "execute_result"
    }
   ],
   "source": [
    "df_train.tail()"
   ]
  },
  {
   "cell_type": "code",
   "execution_count": 191,
   "metadata": {},
   "outputs": [
    {
     "data": {
      "text/html": [
       "<div>\n",
       "<style scoped>\n",
       "    .dataframe tbody tr th:only-of-type {\n",
       "        vertical-align: middle;\n",
       "    }\n",
       "\n",
       "    .dataframe tbody tr th {\n",
       "        vertical-align: top;\n",
       "    }\n",
       "\n",
       "    .dataframe thead th {\n",
       "        text-align: right;\n",
       "    }\n",
       "</style>\n",
       "<table border=\"1\" class=\"dataframe\">\n",
       "  <thead>\n",
       "    <tr style=\"text-align: right;\">\n",
       "      <th></th>\n",
       "      <th>Input</th>\n",
       "      <th>Sentiment</th>\n",
       "      <th>format</th>\n",
       "    </tr>\n",
       "  </thead>\n",
       "  <tbody>\n",
       "    <tr>\n",
       "      <th>0</th>\n",
       "      <td>i didnt feel humiliated</td>\n",
       "      <td>sadness</td>\n",
       "      <td>train</td>\n",
       "    </tr>\n",
       "    <tr>\n",
       "      <th>1</th>\n",
       "      <td>i can go from feeling so hopeless to so damned...</td>\n",
       "      <td>sadness</td>\n",
       "      <td>train</td>\n",
       "    </tr>\n",
       "    <tr>\n",
       "      <th>2</th>\n",
       "      <td>im grabbing a minute to post i feel greedy wrong</td>\n",
       "      <td>anger</td>\n",
       "      <td>train</td>\n",
       "    </tr>\n",
       "    <tr>\n",
       "      <th>3</th>\n",
       "      <td>i am ever feeling nostalgic about the fireplac...</td>\n",
       "      <td>love</td>\n",
       "      <td>train</td>\n",
       "    </tr>\n",
       "    <tr>\n",
       "      <th>4</th>\n",
       "      <td>i am feeling grouchy</td>\n",
       "      <td>anger</td>\n",
       "      <td>train</td>\n",
       "    </tr>\n",
       "  </tbody>\n",
       "</table>\n",
       "</div>"
      ],
      "text/plain": [
       "                                               Input Sentiment format\n",
       "0                            i didnt feel humiliated   sadness  train\n",
       "1  i can go from feeling so hopeless to so damned...   sadness  train\n",
       "2   im grabbing a minute to post i feel greedy wrong     anger  train\n",
       "3  i am ever feeling nostalgic about the fireplac...      love  train\n",
       "4                               i am feeling grouchy     anger  train"
      ]
     },
     "execution_count": 191,
     "metadata": {},
     "output_type": "execute_result"
    }
   ],
   "source": [
    "df_train.head()"
   ]
  },
  {
   "cell_type": "markdown",
   "metadata": {},
   "source": [
    "X_train = df_train.Input.tolist()\n",
    "X_test = df_test.Input.tolist()\n",
    "y_train = df_train.Sentiment.tolist()\n",
    "y_test = df_test.Sentiment.tolist()"
   ]
  },
  {
   "cell_type": "markdown",
   "metadata": {},
   "source": [
    "print(len(X_train),len(X_test),len(y_train),len(y_test))\n",
    "\n",
    "factors = ['anger', 'fear', 'joy', 'love', 'sadness','surprise']\n",
    "\n",
    "encoding = { 'anger': 0,\n",
    "    'fear': 1,\n",
    "    'joy': 2,\n",
    "    'love': 3,\n",
    "    'sadness': 4,\n",
    "    'surprise': 5\n",
    "}"
   ]
  },
  {
   "cell_type": "markdown",
   "metadata": {},
   "source": [
    "train_y = [encoding[key] for key in y_train]\n",
    "test_y = [encoding[key] for key in y_test]"
   ]
  },
  {
   "cell_type": "markdown",
   "metadata": {},
   "source": [
    "                                                         Contents"
   ]
  },
  {
   "cell_type": "markdown",
   "metadata": {},
   "source": [
    "01. Data Sourcing, Data Cleaning and Sampling\n",
    "02. Bag of Words Model\n",
    "03. Cost Sensitive Learning and Evaluation Metrics\n",
    "04. Building Base-Line Model (Logistic Regression)\n",
    "05. Building Traditional Models (Random Forest, Support Vector Machine, Adaptive Boosting and Gradient Boosting)\n",
    "06. Implementing Deep Neural Network\n",
    "07. Word Embedings and Embedding layer\n",
    "08. Implementing Convolutional Neural Network\n",
    "09. Conclusion"
   ]
  },
  {
   "cell_type": "markdown",
   "metadata": {},
   "source": [
    "                                           01. Data Sourcing, Data Cleaning and Sampling"
   ]
  },
  {
   "cell_type": "code",
   "execution_count": 7,
   "metadata": {},
   "outputs": [
    {
     "data": {
      "text/plain": [
       "joy         5362\n",
       "sadness     4666\n",
       "anger       2159\n",
       "fear        1937\n",
       "love        1304\n",
       "surprise     572\n",
       "Name: Sentiment, dtype: int64"
      ]
     },
     "execution_count": 7,
     "metadata": {},
     "output_type": "execute_result"
    }
   ],
   "source": [
    "df_train.Sentiment.value_counts() # Imbalanced Class"
   ]
  },
  {
   "cell_type": "code",
   "execution_count": 8,
   "metadata": {},
   "outputs": [
    {
     "data": {
      "text/plain": [
       "(18000, 3)"
      ]
     },
     "execution_count": 8,
     "metadata": {},
     "output_type": "execute_result"
    }
   ],
   "source": [
    "df_train['format']='train'\n",
    "df_test['format']='test'\n",
    "\n",
    "total_df=pd.concat([df_train,df_test],axis=0)\n",
    "total_df.shape"
   ]
  },
  {
   "cell_type": "markdown",
   "metadata": {},
   "source": [
    "                                                 01. Data Cleaning\n",
    "                                                  \n",
    "                                                  a. Tokenization (Word and Regex)\n",
    "                                                  b. Convert Tokens to Lower Case\n",
    "                                                  b. Filter Out Punctuation\n",
    "                                                  c. Filter out Stop Words (and Pipeline)\n",
    "                                                  d. Stem Words"
   ]
  },
  {
   "cell_type": "markdown",
   "metadata": {},
   "source": [
    "                                            a. Tokenization (word_tokenize) "
   ]
  },
  {
   "cell_type": "code",
   "execution_count": 9,
   "metadata": {},
   "outputs": [
    {
     "name": "stdout",
     "output_type": "stream",
     "text": [
      "[nltk_data] Downloading package punkt to\n",
      "[nltk_data]     C:\\Users\\Abin\\AppData\\Roaming\\nltk_data...\n",
      "[nltk_data]   Package punkt is already up-to-date!\n"
     ]
    }
   ],
   "source": [
    "import nltk\n",
    "nltk.download('punkt')\n",
    "from nltk.tokenize import word_tokenize"
   ]
  },
  {
   "cell_type": "code",
   "execution_count": 10,
   "metadata": {},
   "outputs": [
    {
     "data": {
      "text/plain": [
       "0                         [i, didnt, feel, humiliated]\n",
       "1    [i, can, go, from, feeling, so, hopeless, to, ...\n",
       "2    [im, grabbing, a, minute, to, post, i, feel, g...\n",
       "3    [i, am, ever, feeling, nostalgic, about, the, ...\n",
       "4                            [i, am, feeling, grouchy]\n",
       "Name: tokenized_Tweet, dtype: object"
      ]
     },
     "execution_count": 10,
     "metadata": {},
     "output_type": "execute_result"
    }
   ],
   "source": [
    "df=total_df.copy()\n",
    "df['tokenized_Tweet'] = df.Input.values\n",
    "# Split each sentence into tokens\n",
    "df['tokenized_Tweet']=df['tokenized_Tweet'].apply(lambda row: nltk.word_tokenize(row))\n",
    "df['tokenized_Tweet'].head()"
   ]
  },
  {
   "cell_type": "code",
   "execution_count": 11,
   "metadata": {},
   "outputs": [],
   "source": [
    "df['tokenized_Tweet']=df['tokenized_Tweet'].astype('str')"
   ]
  },
  {
   "cell_type": "markdown",
   "metadata": {},
   "source": [
    "                                           a. Tokenization (RegexpTokenizer) "
   ]
  },
  {
   "cell_type": "markdown",
   "metadata": {},
   "source": [
    "tokenizer that picks out sequences of alphanumeric characters as tokens and drops everything else: \n",
    "(example: azithromycin-induced, we can drop hypen here. )"
   ]
  },
  {
   "cell_type": "code",
   "execution_count": 12,
   "metadata": {},
   "outputs": [
    {
     "data": {
      "text/plain": [
       "0                         [i, didnt, feel, humiliated]\n",
       "1    [i, can, go, from, feeling, so, hopeless, to, ...\n",
       "2    [im, grabbing, a, minute, to, post, i, feel, g...\n",
       "3    [i, am, ever, feeling, nostalgic, about, the, ...\n",
       "4                            [i, am, feeling, grouchy]\n",
       "Name: tokenized_Tweet, dtype: object"
      ]
     },
     "execution_count": 12,
     "metadata": {},
     "output_type": "execute_result"
    }
   ],
   "source": [
    "from nltk.tokenize import RegexpTokenizer\n",
    "\n",
    "tokenizer = RegexpTokenizer(r'\\w+')\n",
    "df['tokenized_Tweet'] = df['tokenized_Tweet'].apply(lambda row: tokenizer.tokenize(row))\n",
    "df['tokenized_Tweet'].head()"
   ]
  },
  {
   "cell_type": "markdown",
   "metadata": {},
   "source": [
    "                                               b. Convert Tokens to Lower Case"
   ]
  },
  {
   "cell_type": "code",
   "execution_count": 13,
   "metadata": {},
   "outputs": [
    {
     "data": {
      "text/plain": [
       "0                         [i, didnt, feel, humiliated]\n",
       "1    [i, can, go, from, feeling, so, hopeless, to, ...\n",
       "2    [im, grabbing, a, minute, to, post, i, feel, g...\n",
       "3    [i, am, ever, feeling, nostalgic, about, the, ...\n",
       "4                            [i, am, feeling, grouchy]\n",
       "Name: tokenized_Tweet, dtype: object"
      ]
     },
     "execution_count": 13,
     "metadata": {},
     "output_type": "execute_result"
    }
   ],
   "source": [
    "df['tokenized_Tweet'] = df['tokenized_Tweet'].apply(lambda row:[x.lower() for x in row])\n",
    "df['tokenized_Tweet'].head()"
   ]
  },
  {
   "cell_type": "markdown",
   "metadata": {},
   "source": [
    "                                                 C. Filter Out Punctuation"
   ]
  },
  {
   "cell_type": "code",
   "execution_count": 14,
   "metadata": {},
   "outputs": [
    {
     "data": {
      "text/plain": [
       "0                         [i, didnt, feel, humiliated]\n",
       "1    [i, can, go, from, feeling, so, hopeless, to, ...\n",
       "2    [im, grabbing, a, minute, to, post, i, feel, g...\n",
       "3    [i, am, ever, feeling, nostalgic, about, the, ...\n",
       "4                            [i, am, feeling, grouchy]\n",
       "Name: token_filter, dtype: object"
      ]
     },
     "execution_count": 14,
     "metadata": {},
     "output_type": "execute_result"
    }
   ],
   "source": [
    "df['token_filter']=df['tokenized_Tweet']\n",
    "# remove all tokens that are not alphabetic\n",
    "df['token_filter'] = df['token_filter'].apply(lambda row: [x for x in row if x.isalpha()])\n",
    "df['token_filter'].head()"
   ]
  },
  {
   "cell_type": "markdown",
   "metadata": {},
   "source": [
    "                                             d. Filter out Stop Words (and Pipeline)"
   ]
  },
  {
   "cell_type": "code",
   "execution_count": 15,
   "metadata": {},
   "outputs": [
    {
     "name": "stdout",
     "output_type": "stream",
     "text": [
      "[nltk_data] Downloading package stopwords to\n",
      "[nltk_data]     C:\\Users\\Abin\\AppData\\Roaming\\nltk_data...\n",
      "[nltk_data]   Package stopwords is already up-to-date!\n"
     ]
    },
    {
     "data": {
      "text/plain": [
       "True"
      ]
     },
     "execution_count": 15,
     "metadata": {},
     "output_type": "execute_result"
    }
   ],
   "source": [
    "from nltk.corpus import stopwords\n",
    "nltk.download('stopwords')"
   ]
  },
  {
   "cell_type": "code",
   "execution_count": 16,
   "metadata": {},
   "outputs": [
    {
     "data": {
      "text/plain": [
       "0                            [didnt, feel, humiliated]\n",
       "1    [go, feeling, hopeless, damned, hopeful, aroun...\n",
       "2    [im, grabbing, minute, post, feel, greedy, wrong]\n",
       "3    [ever, feeling, nostalgic, fireplace, know, st...\n",
       "4                                   [feeling, grouchy]\n",
       "Name: token_filter_Stop, dtype: object"
      ]
     },
     "execution_count": 16,
     "metadata": {},
     "output_type": "execute_result"
    }
   ],
   "source": [
    "stop_words = set(stopwords.words('english'))\n",
    "df['token_filter_Stop'] = df['token_filter'].apply(lambda row: [x for x in row if not x in stop_words])\n",
    "df['token_filter_Stop'].head() # We, the, about etc words are removed from the sentences"
   ]
  },
  {
   "cell_type": "markdown",
   "metadata": {},
   "source": [
    "                                                 e. Stem Words"
   ]
  },
  {
   "cell_type": "code",
   "execution_count": 17,
   "metadata": {},
   "outputs": [],
   "source": [
    "from nltk.stem.porter import PorterStemmer\n",
    "porter = PorterStemmer()"
   ]
  },
  {
   "cell_type": "code",
   "execution_count": 18,
   "metadata": {},
   "outputs": [
    {
     "data": {
      "text/plain": [
       "0                                [didnt, feel, humili]\n",
       "1    [go, feel, hopeless, damn, hope, around, someo...\n",
       "2         [im, grab, minut, post, feel, greedi, wrong]\n",
       "3    [ever, feel, nostalg, fireplac, know, still, p...\n",
       "4                                      [feel, grouchi]\n",
       "Name: token_filter_Stop_Stem, dtype: object"
      ]
     },
     "execution_count": 18,
     "metadata": {},
     "output_type": "execute_result"
    }
   ],
   "source": [
    "df['token_filter_Stop_Stem'] = df['token_filter_Stop'].apply(lambda row: [porter.stem(word) for word in row])\n",
    "df['token_filter_Stop_Stem'].head()"
   ]
  },
  {
   "cell_type": "markdown",
   "metadata": {},
   "source": [
    "                                              Sample to train and test set"
   ]
  },
  {
   "cell_type": "code",
   "execution_count": 20,
   "metadata": {},
   "outputs": [],
   "source": [
    "data=df.copy() # Copying the original data frame\n",
    "\n",
    "train_x=data.loc[data['format']=='train','token_filter_Stop_Stem']\n",
    "train_x=train_x.astype('str')\n",
    "y_train=data.loc[data['format']=='train','Sentiment']\n",
    "\n",
    "test_x=data.loc[data['format']=='test','token_filter_Stop_Stem']\n",
    "test_x=test_x.astype('str')\n",
    "y_test=data.loc[data['format']=='test','Sentiment']\n"
   ]
  },
  {
   "cell_type": "code",
   "execution_count": 21,
   "metadata": {},
   "outputs": [],
   "source": [
    "encoding = { 'anger': 0,\n",
    "    'fear': 1,\n",
    "    'joy': 2,\n",
    "    'love': 3,\n",
    "    'sadness': 4,\n",
    "    'surprise': 5\n",
    "}\n",
    "\n",
    "train_y = [encoding[key] for key in y_train]\n",
    "test_y = [encoding[key] for key in y_test]"
   ]
  },
  {
   "cell_type": "markdown",
   "metadata": {},
   "source": [
    "                                                  02. Bag of Words Model\n",
    "                              represent a whole sequence of words as a single feature vector. "
   ]
  },
  {
   "cell_type": "code",
   "execution_count": 22,
   "metadata": {},
   "outputs": [
    {
     "data": {
      "text/plain": [
       "<16000x10357 sparse matrix of type '<class 'numpy.int64'>'\n",
       "\twith 143599 stored elements in Compressed Sparse Row format>"
      ]
     },
     "execution_count": 22,
     "metadata": {},
     "output_type": "execute_result"
    }
   ],
   "source": [
    "from sklearn.feature_extraction.text import CountVectorizer\n",
    "vectorizer = CountVectorizer()   # Instantiating and creating Count Vector object\n",
    "vectorizer.fit(train_x)\n",
    "X_train = vectorizer.transform(train_x)\n",
    "X_test  = vectorizer.transform(test_x)\n",
    "X_train"
   ]
  },
  {
   "cell_type": "code",
   "execution_count": 165,
   "metadata": {},
   "outputs": [
    {
     "data": {
      "text/plain": [
       "scipy.sparse.csr.csr_matrix"
      ]
     },
     "execution_count": 165,
     "metadata": {},
     "output_type": "execute_result"
    }
   ],
   "source": [
    "type(X_train)"
   ]
  },
  {
   "cell_type": "code",
   "execution_count": 23,
   "metadata": {},
   "outputs": [
    {
     "data": {
      "text/plain": [
       "['vectorizer.pkl']"
      ]
     },
     "execution_count": 23,
     "metadata": {},
     "output_type": "execute_result"
    }
   ],
   "source": [
    "from sklearn.externals import joblib\n",
    "# Save the model for future purpose\n",
    "joblib.dump(vectorizer,'vectorizer.pkl')"
   ]
  },
  {
   "cell_type": "code",
   "execution_count": 24,
   "metadata": {},
   "outputs": [],
   "source": [
    "############### future value #############"
   ]
  },
  {
   "cell_type": "code",
   "execution_count": 135,
   "metadata": {},
   "outputs": [],
   "source": [
    "trial='I am very excited today'"
   ]
  },
  {
   "cell_type": "code",
   "execution_count": 136,
   "metadata": {},
   "outputs": [
    {
     "data": {
      "text/plain": [
       "['I', 'am', 'very', 'excited', 'today']"
      ]
     },
     "execution_count": 136,
     "metadata": {},
     "output_type": "execute_result"
    }
   ],
   "source": [
    "from nltk.tokenize import word_tokenize\n",
    "trial=nltk.word_tokenize(trial)\n",
    "trial"
   ]
  },
  {
   "cell_type": "code",
   "execution_count": 137,
   "metadata": {},
   "outputs": [
    {
     "data": {
      "text/plain": [
       "['I', 'am', 'very', 'excited', 'today']"
      ]
     },
     "execution_count": 137,
     "metadata": {},
     "output_type": "execute_result"
    }
   ],
   "source": [
    "from nltk.tokenize import RegexpTokenizer\n",
    "tokenizer = RegexpTokenizer(r'\\w+')\n",
    "listToStr = ' '.join([str(elem) for elem in trial]) \n",
    "trial_02=tokenizer.tokenize(listToStr)\n",
    "trial_02"
   ]
  },
  {
   "cell_type": "code",
   "execution_count": 138,
   "metadata": {},
   "outputs": [
    {
     "data": {
      "text/plain": [
       "['i', 'am', 'very', 'excited', 'today']"
      ]
     },
     "execution_count": 138,
     "metadata": {},
     "output_type": "execute_result"
    }
   ],
   "source": [
    "trial_03=[x.lower() for x in trial_02]\n",
    "trial_03"
   ]
  },
  {
   "cell_type": "code",
   "execution_count": 139,
   "metadata": {},
   "outputs": [
    {
     "data": {
      "text/plain": [
       "['i', 'am', 'very', 'excited', 'today']"
      ]
     },
     "execution_count": 139,
     "metadata": {},
     "output_type": "execute_result"
    }
   ],
   "source": [
    "trial_04=[x for x in trial_03 if x.isalpha()]\n",
    "trial_04"
   ]
  },
  {
   "cell_type": "code",
   "execution_count": 140,
   "metadata": {},
   "outputs": [
    {
     "name": "stdout",
     "output_type": "stream",
     "text": [
      "[nltk_data] Downloading package stopwords to\n",
      "[nltk_data]     C:\\Users\\Abin\\AppData\\Roaming\\nltk_data...\n",
      "[nltk_data]   Package stopwords is already up-to-date!\n"
     ]
    },
    {
     "data": {
      "text/plain": [
       "['excited', 'today']"
      ]
     },
     "execution_count": 140,
     "metadata": {},
     "output_type": "execute_result"
    }
   ],
   "source": [
    "nltk.download('stopwords')\n",
    "stop_words = set(stopwords.words('english'))\n",
    "trial_05=[x for x in trial_04 if not x in stop_words]\n",
    "trial_05"
   ]
  },
  {
   "cell_type": "code",
   "execution_count": 141,
   "metadata": {},
   "outputs": [
    {
     "data": {
      "text/plain": [
       "['excit', 'today']"
      ]
     },
     "execution_count": 141,
     "metadata": {},
     "output_type": "execute_result"
    }
   ],
   "source": [
    "porter = PorterStemmer()\n",
    "trial_06=[porter.stem(x) for x in trial_05]\n",
    "trial_06"
   ]
  },
  {
   "cell_type": "code",
   "execution_count": 166,
   "metadata": {},
   "outputs": [
    {
     "data": {
      "text/html": [
       "<div>\n",
       "<style scoped>\n",
       "    .dataframe tbody tr th:only-of-type {\n",
       "        vertical-align: middle;\n",
       "    }\n",
       "\n",
       "    .dataframe tbody tr th {\n",
       "        vertical-align: top;\n",
       "    }\n",
       "\n",
       "    .dataframe thead th {\n",
       "        text-align: right;\n",
       "    }\n",
       "</style>\n",
       "<table border=\"1\" class=\"dataframe\">\n",
       "  <thead>\n",
       "    <tr style=\"text-align: right;\">\n",
       "      <th></th>\n",
       "      <th>twitter_post</th>\n",
       "    </tr>\n",
       "  </thead>\n",
       "  <tbody>\n",
       "    <tr>\n",
       "      <th>0</th>\n",
       "      <td>[excit, today]</td>\n",
       "    </tr>\n",
       "  </tbody>\n",
       "</table>\n",
       "</div>"
      ],
      "text/plain": [
       "     twitter_post\n",
       "0  [excit, today]"
      ]
     },
     "execution_count": 166,
     "metadata": {},
     "output_type": "execute_result"
    }
   ],
   "source": [
    "user_input={'twitter_post':[trial_06]}\n",
    "df=pd.DataFrame(data=user_input,index=[0])\n",
    "df"
   ]
  },
  {
   "cell_type": "markdown",
   "metadata": {},
   "source": [
    "import scipy\n",
    "matrix_output=scipy.sparse.csr_matrix(trial_06)\n",
    "matrix_output"
   ]
  },
  {
   "cell_type": "code",
   "execution_count": 201,
   "metadata": {},
   "outputs": [
    {
     "data": {
      "text/plain": [
       "['im grabbing a minute to post i feel greedy wrong']"
      ]
     },
     "execution_count": 201,
     "metadata": {},
     "output_type": "execute_result"
    }
   ],
   "source": [
    "trial=['im grabbing a minute to post i feel greedy wrong']\n",
    "#trial=['i feel strong and good overall']\n",
    "trial"
   ]
  },
  {
   "cell_type": "code",
   "execution_count": 202,
   "metadata": {},
   "outputs": [
    {
     "data": {
      "text/plain": [
       "(1, 10357)"
      ]
     },
     "execution_count": 202,
     "metadata": {},
     "output_type": "execute_result"
    }
   ],
   "source": [
    "# load the model from disk\n",
    "#vectorizer = joblib.load('vectorizer.pkl')\n",
    "future_val=vectorizer.transform(trial).toarray()\n",
    "future_val.shape"
   ]
  },
  {
   "cell_type": "code",
   "execution_count": 203,
   "metadata": {},
   "outputs": [
    {
     "data": {
      "text/plain": [
       "4"
      ]
     },
     "execution_count": 203,
     "metadata": {},
     "output_type": "execute_result"
    }
   ],
   "source": [
    "m=future_val[0]\n",
    "count=0\n",
    "for i in m:\n",
    "    if i==1:\n",
    "        count=count+1\n",
    "count"
   ]
  },
  {
   "cell_type": "code",
   "execution_count": 204,
   "metadata": {},
   "outputs": [
    {
     "data": {
      "text/plain": [
       "array([0])"
      ]
     },
     "execution_count": 204,
     "metadata": {},
     "output_type": "execute_result"
    }
   ],
   "source": [
    "pred=classifier.predict(future_val)\n",
    "pred"
   ]
  },
  {
   "cell_type": "code",
   "execution_count": 89,
   "metadata": {},
   "outputs": [
    {
     "name": "stdout",
     "output_type": "stream",
     "text": [
      "{'didnt': 2386, 'feel': 3233, 'humili': 4312, 'go': 3764, 'hopeless': 4254, 'damn': 2123, 'hope': 4253, 'around': 464, 'someon': 8379, 'care': 1313, 'awak': 607, 'im': 4398, 'grab': 3807, 'minut': 5759, 'post': 6934, 'greedi': 3852, 'wrong': 10232, 'ever': 3026, 'nostalg': 6211, 'fireplac': 3317, 'know': 5017, 'still': 8627, 'properti': 7094, 'grouchi': 3880, 'ive': 4725, 'littl': 5289, 'burden': 1191, 'late': 5097, 'wasnt': 9966, 'sure': 8825, 'take': 8928, 'milligram': 5731, 'time': 9180, 'recommend': 7346, 'amount': 301, 'fallen': 3162, 'asleep': 505, 'lot': 5359, 'faster': 3192, 'also': 263, 'like': 5246, 'funni': 3592, 'confus': 1804, 'life': 5230, 'teenag': 9000, 'jade': 4737, 'year': 10280, 'old': 6325, 'man': 5491, 'petrona': 6729, 'perform': 6682, 'well': 10021, 'made': 5445, 'huge': 4300, 'profit': 7072, 'romant': 7632, 'make': 5474, 'suffer': 8766, 'see': 7914, 'mean': 5609, 'someth': 8381, 'run': 7692, 'divin': 2532, 'experi': 3095, 'expect': 3091, 'type': 9464, 'spiritu': 8486, 'encount': 2890, 'think': 9108, 'easiest': 2744, 'dissatisfi': 2502, 'low': 5379, 'energi': 2904, 'thirsti': 9112, 'immens': 4416, 'sympathi': 8898, 'gener': 3662, 'point': 6875, 'possibl': 6933, 'proto': 7109, 'writer': 10228, 'tri': 9358, 'find': 3303, 'write': 10227, 'corner': 1904, 'sign': 8131, 'agent': 163, 'let': 5201, 'alon': 254, 'publish': 7147, 'contract': 1862, 'preciou': 6974, 'reassur': 7322, 'anxieti': 379, 'side': 8119, 'realli': 7317, 'embarrass': 2849, 'pretti': 7014, 'pathet': 6604, 'start': 8580, 'sentiment': 7956, 'doll': 2560, 'child': 1498, 'began': 778, 'collect': 1689, 'vintag': 9853, 'barbi': 697, 'sixti': 8183, 'compromis': 1768, 'skeptic': 8191, 'valu': 9758, 'everi': 3028, 'unit': 9609, 'work': 10189, 'put': 7180, 'irrit': 4693, 'reject': 7410, 'without': 10152, 'anyon': 385, 'anyth': 386, 'say': 7810, 'complet': 1756, 'overwhelm': 6480, 'two': 9456, 'strategi': 8666, 'help': 4114, 'ground': 3881, 'pour': 6947, 'heart': 4068, 'journal': 4847, 'form': 3459, 'letter': 5206, 'god': 3767, 'end': 2892, 'list': 5278, 'five': 3329, 'thing': 9106, 'grate': 3837, 'amus': 309, 'delight': 2258, 'abl': 20, 'chai': 1421, 'lifelin': 5231, 'support': 8817, 'encourag': 2891, 'great': 3846, 'glad': 3724, 'alreadi': 261, 'fuck': 3568, 'though': 9124, 'dont': 2572, 'usual': 9731, 'eat': 2750, 'morn': 5884, 'love': 5373, 'wish': 10143, 'best': 833, 'longer': 5333, 'toler': 9228, 'effect': 2787, 'bm': 973, 'live': 5291, 'fact': 3145, 'turn': 9430, 'bitter': 898, 'angri': 337, 'person': 6704, 'alway': 274, 'particularli': 6582, 'kind': 4980, 'peopl': 6670, 'stress': 8675, 'inhibit': 4552, 'els': 2836, 'kitchen': 4994, 'paint': 6518, 'pictur': 6768, 'becom': 759, 'defeat': 2229, 'kinda': 4981, 'appal': 408, 'need': 6068, 'explain': 3098, 'wide': 10090, 'lenghth': 5183, 'bodi': 983, 'measur': 5614, 'etc': 2997, 'pp': 6954, 'superior': 8804, 'dead': 2175, 'chicken': 1494, 'griev': 3862, 'get': 3688, 'giddi': 3702, 'eleg': 2822, 'perfectli': 6681, 'fit': 3327, 'pencil': 6660, 'skirt': 8205, 'rememb': 7440, 'acut': 94, 'distress': 2516, 'day': 2163, 'seen': 7922, 'heard': 4066, 'read': 7301, 'past': 6595, 'coupl': 1942, 'left': 5163, 'impress': 4443, 'compani': 1736, 'climb': 1609, 'hill': 4167, 'frustrat': 3565, 'id': 4363, 'much': 5938, 'pace': 6498, 'entir': 2932, 'cours': 1945, 'factor': 3146, 'never': 6110, 'hamper': 3966, 'dent': 2285, 'imagin': 4403, 'real': 7310, 'scenario': 7830, 'would': 10211, 'emot': 2863, 'connect': 1810, 'enough': 2918, 'total': 9263, 'accept': 51, 'safe': 7735, 'moral': 5873, 'close': 1622, 'prolong': 7082, 'physic': 6756, 'contact': 1848, 'sex': 7991, 'subsequ': 8744, 'content': 1854, 'creativ': 1988, 'howev': 4288, 'want': 9940, 'caus': 1374, 'less': 5195, 'splendid': 8492, 'self': 7931, 'step': 8612, 'away': 612, 'bit': 891, 'rude': 7678, 'elderli': 2818, 'gentleman': 3669, 'ask': 504, 'gift': 3703, 'christma': 1531, 'mild': 5720, 'greed': 3851, 'protect': 7106, 'small': 8264, 'season': 7898, 'word': 10187, 'plan': 6819, 'share': 8019, 'everyday': 3032, 'stori': 8650, 'travel': 9333, 'adventur': 131, 'inspir': 4589, 'handmad': 3976, 'creation': 1987, 'tree': 9348, 'got': 3799, 'festiv': 3257, 'spur': 8530, 'book': 1011, 'worn': 10200, 'conceal': 1774, 'brave': 1078, 'pale': 6526, 'perfect': 6680, 'strongli': 8694, 'passion': 6592, 'jerk': 4791, 'decid': 2202, 'poke': 6879, 'fun': 3583, 'us': 9720, 'discourag': 2457, 'rob': 7610, 'peter': 6726, 'pay': 6623, 'paul': 6615, 'cow': 1955, 'cant': 1282, 'afford': 148, 'way': 9976, 'listless': 5280, 'new': 6115, 'differ': 2390, 'lost': 5358, 'special': 8455, 'mind': 5740, 'worri': 10201, 'sane': 7769, 'felt': 3243, 'mani': 5500, 'said': 7741, 'sam': 7757, 'guarante': 3895, 'use': 9726, 'paragraph': 6556, 'tell': 9009, 'sad': 7727, 'first': 3321, 'home': 4220, 'mine': 5743, 'boat': 977, 'trip': 9375, 'denmark': 2280, 'stop': 8647, 'cold': 1679, 'hot': 4274, 'dough': 2601, 'found': 3476, 'selfish': 7932, 'spoil': 8498, 'stymi': 8727, 'wrote': 10234, 'unsur': 9669, 'might': 5712, 'somewher': 8386, 'unintend': 9604, 'bag': 656, 'qaf': 7188, 'look': 5338, 'cryin': 2050, 'jacynth': 4736, 'lookin': 5339, 'good': 3783, 'feelin': 3236, 'gorgeou': 3794, 'rupaul': 7698, 'skin': 8199, 'scissor': 7852, 'sister': 8174, 'valentin': 9754, 'sun': 8786, 'fed': 3221, 'kayl': 4935, 'daddi': 2112, 'gerl': 3680, 'unkind': 9613, 'basic': 719, 'fake': 3160, 'realm': 7318, 'scienc': 7848, 'fiction': 3272, 'hate': 4026, 'dad': 2111, 'roof': 7638, 'give': 3720, 'excus': 3069, 'asshol': 517, 'he': 4045, 'provid': 7116, 'unwelcom': 9684, 'ill': 4391, 'leav': 5155, 'keep': 4938, 'pleasantli': 6846, 'surpris': 8833, 'eas': 2740, 'situat': 8180, 'anymor': 384, 'vigor': 9842, 'sexual': 7996, 'activ': 87, 'come': 1709, 'ye': 10277, 'misspelt': 5788, 'cum': 2066, 'part': 6575, 'begin': 779, 'fall': 3161, 'mom': 5832, 'grace': 3809, 'warm': 9952, 'smile': 8277, 'nurtur': 6253, 'heal': 4058, 'talk': 8936, 'brother': 1133, 'law': 5121, 'extrem': 3120, 'popular': 6911, 'one': 6345, 'stiff': 8626, 'ate': 531, 'could': 1926, 'gentl': 3668, 'tingl': 9190, 'throughout': 9143, 'almost': 252, 'place': 6815, 'cellular': 1397, 'level': 5209, 'pressur': 7007, 'young': 10309, 'beauti': 756, 'thin': 9105, 'depend': 2291, 'trend': 9353, 'girl': 3717, 'rejuven': 7412, 'butt': 1213, 'implant': 4429, 'sever': 7989, 'week': 10001, 'tortur': 9258, 'hallucin': 3963, 'move': 5918, 'figur': 3288, 'sound': 8423, 'vibrat': 9825, 'nearli': 6060, 'finish': 3309, 'detox': 2343, 'amaz': 275, 'back': 638, 'former': 3462, 'prayer': 6968, 'other': 6410, 'consid': 1826, 'may': 5588, 'deserv': 2313, 'answer': 362, 'pain': 6515, 'parent': 6567, 'enrag': 2921, 'violent': 9856, 'roller': 7628, 'coaster': 1648, 'suppos': 8818, 'unpleas': 9631, 'truth': 9400, 'havent': 4037, 'faith': 3158, 'dwell': 2716, 'doubt': 2597, 'uncertainti': 9506, 'bought': 1037, 'clearli': 1597, 'makeup': 5477, 'miser': 5768, 'proudest': 7112, 'mum': 5962, 'earth': 2736, 'famili': 3169, 'matter': 5579, 'michel': 5698, 'goe': 3772, 'ballist': 673, 'necessarili': 6064, 'bomb': 997, 'necessari': 6063, 'print': 7039, 'ovari': 6439, 'ach': 71, 'chri': 1526, 'mostli': 5896, 'took': 9245, 'unimport': 9599, 'stuff': 8711, 'tire': 9199, 'readi': 7304, 'given': 3722, 'unsuit': 9665, 'imag': 4400, 'blame': 915, 'result': 7512, 'sit': 8175, 'success': 8755, 'manag': 5492, 'stretch': 8677, 'mxm': 5993, 'canva': 1287, 'achiev': 74, 'worthwhil': 10209, 'usag': 9722, 'money': 5847, 'futur': 3601, 'brief': 1105, 'nay': 6053, 'import': 4435, 'honor': 4244, 'influenc': 4534, 'talent': 8934, 'fulli': 3580, 'aliv': 235, 'woman': 10170, 'anger': 334, 'firey': 3318, 'piec': 6771, 'garbag': 3629, 'leann': 5147, 'thought': 9125, 'miss': 5781, 'drove': 2662, 'dannika': 2138, 'school': 7843, 'rush': 7702, 'greet': 3855, 'hellip': 4112, 'furiou': 3594, 'shooter': 8077, 'happi': 3990, 'excit': 3063, 'sinc': 8158, 'learn': 5150, 'show': 8098, 'hors': 4268, 'trust': 9397, 'relax': 7417, 'quiet': 7211, 'handl': 3975, 'frequent': 3528, 'decemb': 2199, 'done': 2568, 'smug': 8290, 'realiz': 7316, 'everyth': 3035, 'ok': 6320, 'worthless': 10208, 'struggl': 8699, 'lay': 5127, 'bed': 762, 'dark': 2141, 'terrifi': 9043, 'least': 5153, 'meet': 5630, 'airport': 194, 'arm': 456, 'today': 9214, 'mood': 5865, 'strang': 8660, 'guess': 3900, 'pass': 6586, 'involv': 4670, 'car': 1299, 'accid': 55, 'bring': 1111, 'present': 7003, 'exam': 3053, 'fli': 3367, 'colour': 1700, 'animos': 343, 'toward': 9282, 'dog': 2557, 'understand': 9537, 'throw': 9144, 'shitti': 8066, 'shit': 8065, 'paper': 6550, 'wryli': 10236, 'banal': 680, 'comedi': 1712, 'error': 2973, 'vital': 9873, 'hear': 4065, 'owner': 6488, 'victim': 9829, 'associ': 520, 'attorney': 564, 'goodby': 3784, 'fam': 3166, 'theyr': 9098, 'cri': 2004, 'heartless': 4076, 'bitch': 892, 'hey': 4144, 'spend': 8471, 'anoth': 360, 'countri': 1941, 'wont': 10178, 'lili': 5253, 'opportun': 6373, 'last': 5095, 'short': 8082, 'month': 5862, 'alba': 209, 'ton': 9237, 'catch': 1362, 'hard': 4000, 'obtain': 6283, 'high': 4156, 'technic': 8991, 'skill': 8196, 'wushu': 10241, 'asham': 495, 'somehow': 8376, 'motiv': 5902, 'saw': 7809, 'kid': 4967, 'whole': 10077, 'heartedli': 4075, 'despit': 2323, 'tired': 9200, 'spritz': 8528, 'toner': 9239, 'calm': 1251, 'sooth': 8406, 'effort': 2793, 'requir': 7482, 'better': 840, 'whether': 10054, 'member': 5645, 'colleg': 1691, 'friend': 3539, 'neighbor': 6078, 'street': 8672, 'even': 3023, 'stranger': 8661, 'soon': 8397, 'on': 6342, 'coron': 1907, 'serious': 7974, 'alright': 262, 'class': 1581, 'combin': 1707, 'unsuccess': 9664, 'horribl': 4263, 'grappl': 3834, 'rare': 7276, 'advanc': 128, 'stick': 8623, 'rule': 7689, 'onlin': 6350, 'wouldnt': 10212, 'prepar': 6997, 'somebodi': 8374, 'face': 3140, 'group': 3883, 'idea': 4365, 'ugli': 9475, 'inclin': 4477, 'wear': 9986, 'ratti': 7283, 'jean': 4776, 'sweatshirt': 8865, 'dress': 2642, 'pair': 6519, 'heel': 4096, 'hous': 4281, 'boost': 1016, 'esteem': 2991, 'slightli': 8234, 'definit': 2241, 'bother': 1031, 'buy': 1220, 'homesick': 4227, 'yet': 10291, 'danc': 2129, 'workout': 10194, 'fabul': 3139, 'eye': 3126, 'touch': 9267, 'assuredli': 525, 'return': 7527, 'shall': 8009, 'vain': 9752, 'friday': 3537, 'aw': 605, 'cramp': 1970, 'honour': 4245, 'call': 1247, 'brotherhood': 1134, 'begun': 781, 'apprehens': 421, 'thick': 9101, 'black': 905, 'rain': 7246, 'cloud': 1629, 'storm': 8651, 'sky': 8208, 'town': 9285, 'state': 8588, 'reason': 7321, 'fear': 3212, 'unsaf': 9650, 'shaken': 8007, 'tsa': 9403, 'quit': 7217, 'pull': 7150, 'croissant': 2020, 'lunch': 5412, 'awkward': 616, 'overcompens': 6448, 'final': 3298, 'companion': 1737, 'especi': 2982, 'lone': 5328, 'disappoint': 2434, 'blog': 940, 'img': 4410, 'src': 8547, 'http': 4293, 'eager': 2723, 'quilt': 7214, 'horni': 4261, 'poem': 6869, 'uncomfort': 9511, 'sens': 7948, 'land': 5078, 'rais': 7250, 'son': 8387, 'father': 3198, 'ancestr': 319, 'shower': 8100, 'question': 7206, 'fantast': 3180, 'confid': 1797, 'movement': 5919, 'effortlessli': 2794, 'energet': 2903, 'bounci': 1041, 'gym': 3930, 'outsid': 6433, 'pram': 6962, 'long': 5331, 'walk': 9926, 'often': 6313, 'three': 9131, 'strong': 8691, 'burst': 1206, 'tear': 8986, 'devast': 2347, 'releas': 7418, 'seem': 7919, 'rich': 7564, 'space': 8433, 'dump': 2696, 'pumpkin': 7156, 'spice': 8475, 'latt': 5103, 'coffe': 1663, 'mayb': 5589, 'badli': 652, 'she': 8031, 'hyperchondria': 4341, 'exagger': 3052, 'habit': 3935, 'openli': 6363, 'clench': 1599, 'assur': 524, 'right': 7573, 'name': 6023, 'utterli': 9741, 'affirm': 147, 'perhap': 6684, 'offic': 6307, 'nice': 6134, 'hair': 3951, 'rebelli': 7327, 'celebr': 1392, 'eid': 2806, 'wash': 9963, 'sleep': 8223, 'depriv': 2299, 'night': 6150, 'bloge': 941, 'amp': 302, 'cat': 1358, 'lucki': 5396, 'woke': 10167, 'sick': 8116, 'witch': 10147, 'hunt': 4324, 'repress': 7473, 'memori': 5649, 'therapi': 9087, 'disgust': 2468, 'race': 7226, 'nation': 6044, 'laugh': 5107, 'bitterli': 899, 'knew': 5010, 'forev': 3451, 'mellow': 5638, 'soft': 8349, 'easi': 2742, 'told': 9227, 'indecis': 4495, 'genr': 3667, 'disservic': 2504, 'resolv': 7498, 'artif': 478, 'artist': 481, 'manitz': 5508, 'draw': 2632, 'circl': 1557, 'dot': 2594, 'bigger': 865, 'line': 5261, 'accent': 49, 'mark': 5535, 'spanish': 8439, 'piss': 6803, 'brazil': 1079, 'bu': 1153, 'steep': 8605, 'mountain': 5911, 'middl': 5704, 'big': 864, 'wonder': 10174, 'whimper': 10058, 'unlov': 9619, 'uncar': 9504, 'certainli': 1412, 'what': 10039, 'curiou': 2077, 'youd': 10307, 'watch': 9969, 'sorri': 8414, 'humor': 4314, 'foot': 3432, 'door': 2581, 'world': 10197, 'trail': 9303, 'fell': 3240, 'whatev': 10040, 'directli': 2423, 'jealou': 4774, 'insecur': 4577, 'worthi': 10207, 'sweet': 8870, 'holiday': 4208, 'dash': 2149, 'emili': 2855, 'dickinson': 2382, 'exampl': 3055, 'instead': 4596, 'colon': 1697, 'semi': 7938, 'enhanc': 2911, 'enjamb': 2912, 'sonnet': 8394, 'fatter': 3201, 'remain': 7436, 'control': 1869, 'peanut': 6637, 'butter': 1214, 'bread': 1082, 'imposs': 4438, 'third': 9111, 'hell': 4110, 'needi': 6069, 'neglect': 6076, 'claim': 1567, 'redeem': 7362, 'beat': 752, 'head': 4046, 'wall': 9927, 'either': 2811, 'intimid': 4646, 'concept': 1777, 'lit': 5281, 'groggi': 3874, 'routin': 7661, 'view': 9838, 'isnt': 4703, 'that': 9068, 'fine': 3304, 'hold': 4203, 'shock': 8069, 'awe': 613, 'rumour': 7691, 'st': 8552, 'failur': 3153, 'appreci': 420, 'arent': 447, 'anywher': 388, 'natur': 6046, 'relationship': 7416, 'chang': 1434, 'distract': 2514, 'regularli': 7401, 'music': 5983, 'invigor': 4666, 'afterward': 159, 'tend': 9023, 'practic': 6957, 'shut': 8111, 'youtub': 10315, 'specif': 8458, 'tango': 8947, 'shi': 8048, 'mak': 5473, 'opposit': 6375, 'far': 3181, 'pic': 6761, 'lol': 5322, 'weird': 10014, 'slept': 8228, 'okay': 6321, 'earlier': 2731, 'here': 4129, 'coop': 1886, 'restless': 7508, 'weight': 10009, 'tini': 9192, 'unabl': 9490, 'presenc': 7002, 'fan': 3172, 'current': 2083, 'presid': 7005, 'conserv': 1823, 'enclos': 2887, 'vers': 9813, 'weigh': 10007, 'odd': 6295, 'complac': 1751, 'vulner': 9905, 'punish': 7162, 'stupid': 8720, 'chastis': 1457, 'behav': 783, 'stay': 8597, 'simpli': 8151, 'cut': 2095, 'everyon': 3034, 'comfort': 1716, 'solitud': 8365, 'medit': 5626, 'project': 7080, 'nervou': 6094, 'act': 84, 'bird': 884, 'air': 191, 'carefre': 1317, 'manner': 5511, 'revis': 7547, 'repli': 7469, 'appropri': 425, 'receiv': 7331, 'offend': 6304, 'die': 2387, 'irrevoc': 4692, 'gone': 3781, 'alex': 219, 'matt': 5578, 'regret': 7397, 'visit': 9868, 'educ': 2781, 'educationg': 2782, 'mama': 5486, 'papa': 6547, 'key': 4954, 'hostil': 4273, 'bore': 1021, 'sew': 7990, 'noth': 6219, 'fabric': 3138, 'origin': 6398, 'fragranc': 3491, 'freshen': 3531, 'lightli': 5240, 'scent': 7833, 'underwear': 9544, 'drawer': 2633, 'gorgeous': 3795, 'glamor': 3728, 'girli': 3719, 'apart': 393, 'push': 7176, 'succeed': 8754, 'wound': 10214, 'process': 7061, 'underway': 9543, 'sometim': 8383, 'ad': 95, 'antagon': 364, 'misunderstand': 5796, 'reluct': 7434, 'wholeheartedli': 10078, 'tradit': 9297, 'armistic': 459, 'remembr': 7442, 'leg': 5165, 'mile': 5722, 'unfair': 9571, 'reaction': 7298, 'bless': 927, 'abus': 41, 'malign': 5482, 'anticip': 369, 'danger': 2134, 'gosman': 3797, 'touristi': 9278, 'montauk': 5861, 'area': 445, 'infrequ': 4541, 'visitor': 9869, 'harbor': 3999, 'caw': 1381, 'seagul': 7892, 'lap': 5085, 'water': 9971, 'wood': 10179, 'pile': 6776, 'breez': 1094, 'admit': 114, 'hilari': 4166, 'card': 1308, 'exactli': 3051, 'moment': 5834, 'hy': 4334, 'dull': 2690, 'inarticul': 4460, 'normal': 6203, 'kick': 4966, 'gear': 3649, 'innoc': 4567, 'illustr': 4397, 'satisfact': 7792, 'contribut': 1868, 'looter': 5348, 'driven': 2657, 'consumer': 1846, 'corps': 1909, 'america': 287, 'rever': 7541, 'younger': 10310, 'resent': 7487, 'vacat': 9748, 'oblig': 6276, 'headach': 4047, 'blackmail': 907, 'herp': 4136, 'checkup': 1467, 'clinic': 1611, 'wednesday': 9998, 'dishearten': 2471, 'bitchi': 893, 'upon': 9702, 'retrospect': 7526, 'shake': 8006, 'second': 7903, 'terribl': 9041, 'decis': 2204, 'certain': 1411, 'egg': 2799, 'benedict': 810, 'equal': 2959, 'delici': 2257, 'summeri': 8783, 'element': 2823, 'favorit': 3208, 'beach': 742, 'bummin': 1177, 'continu': 1860, 'defin': 2239, 'discov': 2458, 'amsterdam': 307, 'whenev': 10047, 'pang': 6537, 'blank': 916, 'cultur': 2065, 'mindset': 5742, 'american': 288, 'citi': 1562, 'arcad': 438, 'simpl': 8147, 'purpos': 7172, 'absolut': 31, 'sympathet': 8897, 'hop': 4252, 'tube': 9409, 'ride': 7569, 'london': 5327, 'ignor': 4386, 'monitor': 5851, 'across': 83, 'pleas': 6844, 'cancer': 1275, 'there': 9089, 'chanc': 1432, 'joy': 4851, 'dream': 2636, 'true': 9391, 'cranki': 1973, 'puzzl': 7185, 'particular': 6580, 'administr': 111, 'singl': 8163, 'prais': 6961, 'abil': 18, 'student': 8707, 'ssr': 8551, 'product': 7066, 'fill': 3291, 'befriend': 775, 'loser': 5355, 'peac': 6633, 'within': 10151, 'extern': 3114, 'posit': 6930, 'break': 1083, 'exhaust': 3078, 'guilti': 3909, 'hung': 4320, 'babi': 631, 'belov': 801, 'shalt': 8011, 'co': 1645, 'din': 2408, 'hw': 4333, 'keen': 4936, 'xxx': 10264, 'edg': 2770, 'precipic': 6975, 'stare': 8579, 'ahead': 180, 'front': 3555, 'uni': 9594, 'free': 3515, 'advoc': 137, 'lobbi': 5307, 'politician': 6889, 'sympath': 8896, 'attent': 559, 'block': 939, 'tingli': 9191, 'hour': 4279, 'examin': 3054, 'hesit': 4141, 'suggest': 8771, 'outcom': 6419, 'sincer': 8159, 'fond': 3426, 'major': 5471, 'precis': 6976, 'gain': 3610, 'damag': 2122, 'aspect': 507, 'secur': 7912, 'interview': 4643, 'freak': 3510, 'tastic': 8962, 'taken': 8930, 'build': 1167, 'inventori': 4662, 'sauc': 7797, 'oil': 6316, 'non': 6185, 'perish': 6687, 'item': 4717, 'recip': 7335, 'advis': 136, 'whose': 10086, 'children': 1502, 'cool': 1883, 'pick': 6762, 'smelli': 8274, 'jalopi': 4747, 'plant': 6824, 'window': 10122, 'drag': 2621, 'sand': 7763, 'traditionalist': 9298, 'honest': 4238, 'creat': 1986, 'ago': 170, 'skelet': 8189, 'hoax': 4192, 'materi': 5571, 'kit': 4993, 'site': 8177, 'curat': 2072, 'blood': 951, 'prove': 7114, 'letharg': 5204, 'rubbish': 7673, 'iron': 4683, 'prescrib': 7001, 'tablet': 8914, 'compassion': 1743, 'doesnt': 2556, 'captur': 1298, 'polish': 6887, 'main': 5466, 'root': 7643, 'financi': 3301, 'social': 8339, 'bite': 894, 'bullet': 1171, 'obnoxi': 6278, 'immatur': 4413, 'verbal': 9806, 'tic': 9161, 'voic': 9887, 'nasal': 6038, 'sharpest': 8025, 'tool': 9246, 'shed': 8032, 'nightmar': 6155, 'disturb': 2521, 'case': 1346, 'custom': 2093, 'battl': 733, 'except': 3059, 'tomorrow': 9236, 'monday': 5845, 'timet': 9185, 'wheeeeee': 10044, 'forward': 3471, 'beaten': 753, 'husband': 4331, 'crappi': 1976, 'convinc': 1876, 'pattern': 6613, 'slutti': 8261, 'antiqu': 373, 'obvious': 6285, 'edgi': 2771, 'pervers': 6715, 'pride': 7028, 'order': 6387, 'reach': 7296, 'tempt': 9019, 'human': 4304, 'flesh': 3363, 'impati': 4424, 'easili': 2745, 'annoy': 353, 'outrag': 6429, 'blatant': 920, 'defianc': 2236, 'olivia': 6331, 'promin': 7084, 'characterist': 1446, 'offici': 6308, 'mainli': 5467, 'text': 9052, 'clever': 1602, 'written': 10230, 'rather': 7281, 'spoken': 8501, 'seriouli': 7972, 'respect': 7502, 'privaci': 7046, 'devote': 2356, 'reliev': 7428, 'titl': 9205, 'deen': 2219, 'bandhu': 684, 'afraid': 154, 'uplift': 9700, 'henc': 4119, 'unworthi': 9689, 'benefit': 813, 'joseph': 4843, 'walt': 9933, 'mother': 5898, 'financ': 3300, 'six': 8182, 'defend': 2232, 'excel': 3058, 'video': 9833, 'game': 3619, 'anim': 341, 'movi': 5921, 'master': 5564, 'enjoy': 2913, 'desir': 2315, 'affect': 143, 'save': 7803, 'eaten': 2751, 'quickli': 7210, 'cost': 1919, 'boyfriend': 1055, 'weve': 10034, 'brighter': 1108, 'max': 5585, 'isol': 4705, 'crowd': 2031, 'anti': 367, 'suicid': 8772, 'loyal': 5385, 'style': 8724, 'homeless': 4222, 'wast': 9967, 'agit': 168, 'dose': 2593, 'shift': 8050, 'thief': 9103, 'nov': 6228, 'exit': 3085, 'store': 8649, 'kerri': 4952, 'civil': 1564, 'union': 9607, 'gay': 3647, 'judg': 4862, 'ridicul': 7572, 'intellig': 4613, 'insult': 4605, 'light': 5236, 'yellow': 10287, 'brick': 1098, 'road': 7606, 'shine': 8056, 'actual': 91, 'sorrow': 8415, 'women': 10173, 'boot': 1017, 'enviou': 2945, 'curs': 2086, 'togeth': 9225, 'apolog': 402, 'your': 10313, 'naomi': 6031, 'klein': 5003, 'unconsci': 9518, 'came': 1260, 'suspect': 8844, 'privat': 7047, 'faux': 3204, 'hawk': 4040, 'must': 5987, 'dykey': 2718, 'cast': 1353, 'caveman': 1380, 'compliment': 1760, 'plu': 6856, 'divers': 2528, 'price': 7026, 'tag': 8922, 'fund': 3585, 'plot': 6854, 'rel': 7414, 'econom': 2763, 'empti': 2878, 'href': 4291, 'provokingbeauti': 7120, 'font': 3427, 'friendli': 3541, 'hand': 3969, 'bead': 745, 'conscious': 1819, 'breath': 1091, 'accomplish': 61, 'afternoon': 158, 'compar': 1738, 'rotten': 7651, 'check': 1465, 'hemorrhoid': 4117, 'shoe': 8071, 'glamour': 3729, 'design': 2314, 'box': 1053, 'trim': 9371, 'larg': 5090, 'hidden': 4151, 'warmli': 9955, 'hug': 4299, 'becam': 757, 'dismay': 2480, 'studi': 8708, 'outfit': 6422, 'wax': 9975, 'unibrow': 9595, 'rid': 7567, 'spare': 8440, 'creep': 1998, 'eyelid': 3130, 'width': 10092, 'li': 5214, 'border': 1020, 'px': 7186, 'margin': 5527, 'recal': 7330, 'olymp': 6333, 'runner': 7694, 'bodypump': 986, 'dvd': 2715, 'gather': 3639, 'coach': 1646, 'tip': 9196, 'compulsori': 1770, 'cue': 2059, 'limit': 5256, 'phone': 6749, 'arrang': 466, 'pea': 6632, 'attack': 555, 'document': 2549, 'familiar': 3170, 'batch': 724, 'file': 3290, 'thank': 9065, 'weatherman': 9991, 'forecast': 3441, 'ventur': 9803, 'microcosm': 5700, 'parti': 6577, 'learnt': 5151, 'instinct': 4599, 'blossom': 956, 'nemo': 6085, 'happen': 3987, 'session': 7980, 'gave': 3645, 'loneli': 5329, 'newtown': 6127, 'lord': 5350, 'betray': 839, 'lose': 5354, 'loyalti': 5386, 'frantic': 3501, 'respons': 7504, 'teacher': 8982, 'tranquil': 9313, 'lyric': 5431, 'steve': 8617, 'broke': 1123, 'bear': 749, 'wit': 10146, 'incred': 4491, 'bouncer': 1040, 'emo': 2861, 'smoker': 8283, 'believ': 792, 'cigarett': 1550, 'mailbox': 5463, 'mailman': 5464, 'groceri': 3873, 'clerk': 1600, 'risk': 7593, 'willing': 10112, 'sensat': 7949, 'emerg': 2854, 'crave': 1978, 'submiss': 8739, 'tender': 9025, 'wake': 9920, 'deep': 2220, 'slumber': 8256, 'sort': 8416, 'hindranc': 4171, 'sensit': 7952, 'spell': 8468, 'round': 7656, 'quarter': 7197, 'snow': 8323, 'accumul': 66, 'conif': 1809, 'shovel': 8097, 'shirt': 8063, 'sleev': 8227, 'honkerblonk': 4243, 'gotten': 3802, 'tast': 8960, 'play': 6833, 'squeal': 8538, 'glee': 3737, 'mud': 5941, 'squish': 8546, 'toe': 9221, 'outdoor': 6420, 'caller': 1248, 'busi': 1208, 'thread': 9128, 'energ': 2902, 'potenti': 6941, 'societi': 8342, 'privileg': 7049, 'nauseat': 6050, 'thrill': 9135, 'piti': 6810, 'wail': 9915, 'salti': 7752, 'hurt': 4329, 'satur': 7795, 'virtual': 9862, 'fat': 3194, 'thousand': 9127, 'island': 4699, 'quantiti': 7194, 'substanc': 8746, 'lettuc': 5207, 'cucumb': 2056, 'sugar': 8769, 'burn': 1201, 'folk': 3420, 'virginia': 9861, 'florida': 3388, 'swing': 8882, 'agre': 174, 'constant': 1834, 'barrag': 710, 'death': 2187, 'row': 7662, 'smart': 8267, 'devot': 2355, 'lesson': 5197, 'distinctli': 2512, 'clermont': 1601, 'focu': 3412, 'naughti': 6048, 'includ': 4478, 'cherish': 1483, 'instruct': 4601, 'weekend': 10002, 'along': 255, 'probabl': 7053, 'dish': 2470, 'wed': 9997, 'fight': 3283, 'finland': 3311, 'pari': 6568, 'grade': 3812, 'jann': 4758, 'suominen': 8796, 'aac': 4, 'scare': 7822, 'terrif': 9042, 'surgeri': 8830, 'honestli': 4240, 'stun': 8716, 'attract': 565, 'buti': 1212, 'wors': 10202, 'yardag': 10271, 'art': 473, 'galleri': 3613, 'adapt': 97, 'abdomen': 12, 'welcom': 10019, 'tight': 9172, 'knit': 5013, 'smaller': 8265, 'lego': 5173, 'motor': 5903, 'delay': 2252, 'exercis': 3074, 'meantim': 5613, 'fulfil': 3576, 'misplac': 5779, 'known': 5021, 'skip': 8204, 'lazi': 5131, 'devoid': 2354, 'comment': 1720, 'add': 98, 'pileon': 6777, 'clear': 1593, 'interest': 4624, 'appli': 417, 'communion': 1732, 'tremend': 9350, 'theolog': 9081, 'depress': 2298, 'trap': 9327, 'near': 6057, 'brig': 1106, 'strengthen': 8674, 'christian': 1529, 'bike': 869, 'rest': 7505, 'templ': 9014, 'toni': 9242, 'ight': 4384, 'excess': 3061, 'merican': 5669, 'seldom': 7928, 'er': 2964, 'hah': 3944, 'happpi': 3995, 'field': 3275, 'academ': 44, 'athlet': 539, 'anxiou': 380, 'job': 4814, 'pop': 6906, 'chair': 1423, 'theyd': 9096, 'navig': 6052, 'punch': 7158, 'onto': 6354, 'size': 8184, 'perspect': 6708, 'sake': 7745, 'huckleberri': 4296, 'finn': 3312, 'censor': 1400, 'kamiki': 4908, 'kun': 5042, 'nozomi': 6235, 'knot': 5016, 'stomach': 8642, 'fool': 3430, 'nonchan': 6188, 'choic': 1517, 'recogn': 7342, 'choos': 1520, 'persist': 6702, 'allow': 247, 'wait': 9918, 'till': 9177, 'spirit': 8485, 'guid': 3903, 'observ': 6280, 'cheerlead': 1471, 'grey': 3859, 'unreward': 9649, 'sweati': 8863, 'episod': 2956, 'beaubronz': 755, 'tan': 8943, 'brand': 1072, 'latest': 5099, 'mantra': 5513, 'stolen': 8641, 'boudoir': 1035, 'lash': 5094, 'asma': 506, 'docrat': 2547, 'romcom': 7634, 'enter': 2927, 'morri': 5888, 'contempl': 1852, 'recent': 7332, 'amongst': 298, 'belief': 791, 'sieg': 8122, 'disadvantag': 2429, 'regard': 7389, 'chemo': 1480, 'toxin': 9286, 'cell': 1395, 'cring': 2012, 'host': 4271, 'seri': 7968, 'threaten': 9130, 'allthingsbuck': 249, 'brought': 1135, 'lump': 5408, 'throat': 9138, 'upset': 9706, 'shouldnt': 8093, 'lame': 5075, 'determin': 2340, 'nom': 6182, 'display': 2490, 'public': 7145, 'daze': 2170, 'twitter': 9455, 'assault': 512, 'wrap': 10218, 'thyroid': 9157, 'dramat': 2627, 'whini': 10063, 'test': 9048, 'yesterday': 10289, 'doctor': 2548, 'needl': 6071, 'insid': 4580, 'spent': 8472, 'dizzi': 2539, 'meat': 5615, 'nineteen': 6164, 'femal': 3244, 'cubicl': 2055, 'unless': 9616, 'fairli': 3157, 'clean': 1590, 'slate': 8219, 'unilater': 9597, 'forgiv': 3454, 'intent': 4617, 'careless': 1319, 'therebi': 9090, 'forget': 3453, 'perceiv': 6674, 'teach': 8980, 'harder': 4004, 'buri': 1197, 'holi': 4207, 'gooooood': 3790, 'massag': 5561, 'career': 1315, 'highli': 4159, 'convers': 1872, 'bad': 649, 'gigant': 3705, 'slow': 8249, 'clumsi': 1638, 'googl': 3788, 'seo': 7958, 'wink': 10128, 'next': 6128, 'mistak': 5790, 'slide': 8231, 'throb': 9139, 'cock': 1653, 'novel': 6229, 'uncertain': 9505, 'stock': 8638, 'market': 5536, 'ralli': 7251, 'disbeliev': 2440, 'oh': 6315, 'super': 8798, 'closer': 1623, 'due': 2686, 'date': 2155, 'page': 6508, 'irresponc': 4690, 'favourit': 3210, 'uk': 9480, 'happier': 3991, 'confront': 1803, 'player': 6835, 'benzema': 822, 'mould': 5908, 'impend': 4425, 'prize': 7050, 'layer': 5128, 'gloomi': 3749, 'lifestyl': 5233, 'porn': 6916, 'industri': 4514, 'satisfi': 7794, 'buck': 1155, 'overhear': 6457, 'victori': 9830, 'tune': 9421, 'geek': 3651, 'rington': 7584, 'triumphant': 9379, 'literatur': 5286, 'author': 585, 'dumb': 2692, 'soo': 8396, 'mixtur': 5802, 'hungri': 4323, 'topic': 9250, 'knowledg': 5019, 'reli': 7424, 'sole': 8359, 'opinion': 6368, 'open': 6362, 'everytim': 3036, 'went': 10024, 'hike': 4165, 'jubil': 4859, 'proud': 7111, 'soccer': 8337, 'ball': 671, 'older': 6327, 'held': 4108, 'charm': 1452, 'chapter': 1442, 'action': 86, 'stem': 8610, 'mainstream': 5468, 'importantli': 4436, 'commun': 1731, 'seek': 7917, 'belonging': 800, 'edit': 2775, 'song': 8389, 'constantli': 1835, 'baker': 666, 'thia': 9100, 'sandwich': 7768, 'scruncher': 7883, 'mini': 5747, 'rex': 7554, 'tongu': 9240, 'carbi': 1304, 'glycem': 3759, 'meal': 5608, 'breakfast': 1085, 'dessert': 2326, 'encod': 2888, 'utf': 9735, 'local': 5309, 'en': 2880, 'ispriv': 4706, 'fals': 3163, 'ismobil': 4702, 'mobileclass': 5810, 'isprivateblog': 4707, 'languagedirect': 5083, 'ltr': 5391, 'feedlink': 3231, 'link': 5263, 'altern': 267, 'applic': 418, 'atom': 549, 'xml': 10258, 'stand': 8572, 'ovat': 6440, 'nest': 6097, 'homemak': 4224, 'pregnant': 6988, 'repriev': 7474, 'youll': 10308, 'notic': 6222, 'halloween': 3962, 'moz': 5924, 'graciou': 3811, 'heat': 4079, 'resourc': 7501, 'wise': 10141, 'calv': 1255, 'ought': 6413, 'sarcast': 7778, 'age': 160, 'couldnt': 1927, 'distraught': 2515, 'helpless': 4115, 'lorena': 5353, 'kidnap': 4970, 'band': 682, 'enemi': 2901, 'desper': 2321, 'freedom': 3516, 'unfortun': 9582, 'mister': 5792, 'magnum': 5459, 'cheer': 1469, 'period': 6686, 'tragic': 9302, 'sparkl': 8442, 'drain': 2623, 'chat': 1458, 'masturb': 5567, 'stinkin': 8634, 'review': 7546, 'sunday': 8788, 'silent': 8138, 'audienc': 572, 'inflat': 4532, 'express': 3107, 'articul': 477, 'nap': 6032, 'grumpi': 3892, 'cross': 2024, 'portray': 6922, 'exact': 3050, 'truli': 9395, 'condit': 1789, 'worker': 10191, 'uae': 9468, 'oblivi': 6277, 'conflict': 1801, 'plagu': 6817, 'cena': 1399, 'kiss': 4991, 'maria': 5530, 'surprisingli': 8834, 'weather': 9990, 'press': 7006, 'torso': 9257, 'siwon': 8181, 'indiffer': 4503, 'treasur': 9343, 'bloom': 954, 'casual': 1357, 'lift': 5235, 'sat': 7787, 'couch': 1924, 'mileston': 5723, 'snuggl': 8330, 'grow': 3885, 'consciou': 1818, 'interact': 4620, 'variou': 9772, 'moistur': 5825, 'oili': 6318, 'contain': 1850, 'ingredi': 4548, 'environ': 2947, 'spider': 8476, 'discuss': 2461, 'color': 1698, 'georgia': 3678, 'serif': 7969, 'height': 4101, 'deni': 2276, 'crush': 2045, 'settl': 7984, 'weari': 9988, 'slip': 8237, 'shoulder': 8092, 'nowher': 6233, 'uncl': 9508, 'radio': 7239, 'accident': 56, 'follow': 3424, 'christ': 1527, 'pagan': 6507, 'modern': 5815, 'pill': 6779, 'weightless': 10010, 'repent': 7463, 'daycar': 2164, 'inbal': 4462, 'committ': 1725, 'counsel': 1933, 'reconcili': 7348, 'valuabl': 9759, 'train': 9305, 'grammar': 3818, 'languag': 5082, 'sneha': 8304, 'leader': 5138, 'depict': 2292, 'georg': 3677, 'handss': 3980, 'aahhh': 5, 'magic': 5453, 'scone': 7855, 'food': 3428, 'frugal': 3561, 'giggl': 3706, 'nervous': 6095, 'kill': 4973, 'messi': 5679, 'photo': 6750, 'loath': 5306, 'numb': 6246, 'spite': 8490, 'vindict': 9846, 'soundtrack': 8425, 'uptight': 9710, 'nerv': 6093, 'pursu': 7174, 'min': 5737, 'fast': 3191, 'stubborn': 8702, 'lack': 5057, 'patienc': 6606, 'twist': 9452, 'explan': 3099, 'mad': 5443, 'yup': 10322, 'media': 5621, 'coverag': 1952, 'fellow': 3241, 'blogger': 942, 'glass': 3735, 'frame': 3494, 'paranoid': 6562, 'rewrit': 7553, 'fma': 3408, 'op': 6361, 'half': 3958, 'term': 9035, 'admir': 112, 'athletic': 540, 'entertain': 2928, 'shape': 8017, 'particip': 6579, 'event': 3024, 'secretari': 7907, 'eh': 2802, 'unhappi': 9590, 'flower': 3394, 'hive': 4185, 'moss': 5895, 'encas': 2885, 'shell': 8038, 'muffl': 5947, 'sharper': 8024, 'pleasant': 6845, 'nameless': 6024, 'mid': 5702, 'bottom': 1034, 'graduat': 3815, 'attach': 554, 'awash': 611, 'sea': 7890, 'overeduc': 6454, 'underpaid': 9534, 'indentur': 4496, 'peer': 6651, 'dupe': 2706, 'promis': 7085, 'debt': 2193, 'chemistri': 1479, 'patient': 6607, 'daili': 2115, 'breast': 1088, 'milk': 5725, 'formula': 3464, 'trot': 9385, 'drunk': 2667, 'feminist': 3247, 'issu': 4710, 'mommyhood': 5839, 'inabl': 4451, 'breastfe': 1089, 'xox': 10259, 'itll': 4720, 'flawless': 3358, 'conspiraci': 1833, 'theori': 9082, 'unsolv': 9657, 'crime': 2009, 'feed': 3228, 'melancholi': 5635, 'wither': 10150, 'awesom': 614, 'tonight': 9243, 'lead': 5136, 'born': 1024, 'tug': 9415, 'socket': 8344, 'nowwwwww': 6234, 'yearn': 10283, 'semblanc': 7935, 'appear': 411, 'arab': 435, 'soldier': 8358, 'fix': 3330, 'easier': 2743, 'research': 7485, 'trial': 9359, 'garden': 3630, 'whitley': 10071, 'shoot': 8076, 'anyway': 387, 'doha': 2558, 'urg': 9713, 'brew': 1097, 'fair': 3155, 'unrel': 9644, 'perman': 6689, 'intellectu': 4612, 'progress': 7078, 'exert': 3075, 'speak': 8451, 'japanes': 4761, 'record': 7349, 'wretch': 10222, 'glum': 3757, 'forelorn': 3448, 'heartbroken': 4072, 'join': 4826, 'ladi': 5064, 'womanhood': 10171, 'team': 8983, 'four': 3481, 'squeak': 8537, 'baachan': 628, 'trolley': 9381, 'summer': 8782, 'warn': 9957, 'benign': 816, 'improv': 4447, 'heartbreak': 4071, 'daniel': 2136, 'militari': 5724, 'wive': 10157, 'thru': 9146, 'suddenli': 8763, 'smarter': 8268, 'smell': 8273, 'motion': 5901, 'shoeless': 8073, 'critic': 2016, 'denni': 2281, 'covington': 1954, 'articl': 476, 'merit': 5671, 'note': 6217, 'refer': 7375, 'loudon': 5369, 'kate': 4926, 'mcgarrigl': 5599, 'rufu': 7684, 'wainwright': 9916, 'birthday': 886, 'envis': 2949, 'intend': 4614, 'vision': 9867, 'cute': 2096, 'rafael': 7240, 'bosch': 1026, 'attend': 558, 'relentless': 7421, 'offer': 6306, 'deal': 2180, 'fandom': 3175, 'disori': 2485, 'zero': 10337, 'med': 5619, 'vitamin': 9874, 'fluid': 3400, 'troubl': 9386, 'ongo': 6348, 'reloc': 7433, 'healthi': 4062, 'optimist': 6380, 'gulam': 3913, 'ali': 226, 'classic': 1583, 'singer': 8162, 'guy': 3926, 'genuin': 3673, 'treat': 9344, 'qualiti': 7193, 'sale': 7747, 'hide': 4152, 'accord': 62, 'keenli': 4937, 'greatli': 3850, 'shield': 8049, 'offspr': 6311, 'health': 4060, 'problem': 7055, 'traitor': 9308, 'among': 297, 'cover': 1951, 'snotfac': 8322, 'ass': 510, 'hole': 4206, 'hookah': 4249, 'reciproc': 7336, 'bryan': 1147, 'sticki': 8625, 'drop': 2661, 'feet': 3238, 'fault': 3203, 'behavior': 784, 'exist': 3084, 'reveal': 7536, 'youv': 10316, 'tough': 9269, 'endeavor': 2893, 'honesti': 4239, 'authent': 584, 'gwiyomi': 3929, 'thigh': 9104, 'frighten': 3546, 'poison': 6878, 'chalic': 1426, 'introvert': 4652, 'prefer': 6984, 'crew': 2003, 'galley': 3614, 'room': 7639, 'whale': 10037, 'nois': 6177, 'bath': 726, 'bodywork': 987, 'invest': 4664, 'predict': 6981, 'liber': 5218, 'discont': 2454, 'fertil': 3253, 'irat': 4678, 'moron': 5885, 'prep': 6996, 'sleepless': 8225, 'shaki': 8008, 'worst': 10205, 'hit': 4183, 'destruct': 2331, 'ocean': 6293, 'win': 10117, 'oscar': 6407, 'narrat': 6036, 'erik': 2969, 'princ': 7036, 'autobiographi': 590, 'civilian': 1565, 'warrior': 9961, 'blackwat': 909, 'unsung': 9666, 'hero': 4132, 'war': 9944, 'terror': 9045, 'th': 9058, 'prior': 7041, 'mccarthi': 5597, 'consist': 1829, 'charact': 1444, 'balanc': 668, 'uneasi': 9560, 'transit': 9320, 'boy': 1054, 'inadequ': 4455, 'predominantli': 6982, 'function': 3584, 'twelv': 9445, 'previou': 7022, 'autist': 588, 'guest': 3901, 'messag': 5678, 'cycl': 2104, 'california': 1245, 'ness': 6096, 'pool': 6902, 'drink': 2651, 'wine': 10123, 'spritzer': 8529, 'nagalen': 6011, 'via': 9822, 'wifi': 10097, 'stellarium': 8609, 'star': 8577, 'washington': 9964, 'although': 268, 'torn': 9254, 'bleu': 928, 'guilt': 3908, 'similarli': 8145, 'neighborhood': 6079, 'blue': 965, 'red': 7358, 'heavi': 4086, 'tabl': 8913, 'otherwis': 6411, 'tournament': 9279, 'deck': 2206, 'zendikar': 10335, 'rotat': 7650, 'brandi': 1073, 'pretend': 7012, 'detail': 2334, 'sharp': 8023, 'plateau': 6829, 'wardrob': 9946, 'degre': 2246, 'biolog': 880, 'blown': 960, 'incomplet': 4482, 'poppi': 6909, 'unwant': 9680, 'beast': 751, 'shot': 8089, 'scream': 7872, 'loud': 5366, 'engag': 2906, 'debat': 2189, 'broaden': 1121, 'lousi': 5372, 'dismiss': 2481, 'bright': 1107, 'dreari': 2640, 'assum': 522, 'sweetli': 8874, 'broadli': 1122, 'belong': 799, 'brad': 1061, 'eric': 2967, 'wat': 9968, 'extent': 3112, 'favour': 3209, 'shadow': 8002, 'amor': 299, 'stage': 8559, 'experienc': 3096, 'realis': 7312, 'pray': 6967, 'cancel': 1274, 'babysit': 635, 'villag': 9844, 'ran': 7256, 'kept': 4950, 'benevol': 814, 'solac': 8355, 'proof': 7090, 'ro': 7605, 'anna': 348, 'wealth': 9982, 'tuck': 9411, 'belli': 795, 'hen': 4118, 'coo': 1880, 'cuddl': 2057, 'firstborn': 3322, 'walia': 9925, 'suspici': 8846, 'tarun': 8957, 'bani': 687, 'fail': 3152, 'path': 6603, 'nine': 6163, 'dare': 2140, 'biggest': 866, 'stiller': 8628, 'vaughn': 9779, 'hater': 4027, 'punjabi': 7163, 'lobia': 5308, 'masala': 5553, 'winter': 10131, 'protein': 7107, 'warmer': 9953, 'park': 6571, 'pensiv': 6667, 'tens': 9029, 'reader': 7302, 'bqff': 1056, 'load': 5304, 'behind': 786, 'investig': 4665, 'mytholog': 6004, 'subject': 8735, 'shop': 8078, 'greater': 3848, 'injuri': 4559, 'impact': 4423, 'portland': 6921, 'fire': 3315, 'scientist': 7850, 'moon': 5867, 'mention': 5660, 'graviti': 3841, 'sociabl': 8338, 'forc': 3437, 'agnost': 169, 'atheist': 537, 'judeo': 4861, 'fundamentalist': 3587, 'wife': 10096, 'newborn': 6117, 'wee': 9999, 'sadli': 7733, 'outgrown': 6424, 'fave': 3206, 'thrift': 9133, 'version': 9814, 'refus': 7387, 'rate': 7280, 'snobbish': 8315, 'jeanett': 4777, 'winterson': 10133, 'essenti': 2988, 'scope': 7857, 'explor': 3102, 'petti': 6730, 'flutter': 3406, 'vertigo': 9816, 'lake': 5072, 'coz': 1959, 'journalist': 4848, 'ridden': 7568, 'semest': 7937, 'luci': 5394, 'craft': 1966, 'click': 1604, 'switch': 8885, 'favor': 3207, 'entitl': 2936, 'remors': 7447, 'diet': 2389, 'loss': 5357, 'forearm': 3439, 'disappear': 2433, 'larger': 5091, 'network': 6103, 'affection': 144, 'ador': 121, 'leonard': 5192, 'cohen': 1668, 'search': 7897, 'challeng': 1428, 'therefor': 9091, 'machin': 5438, 'printer': 7040, 'pimpl': 6784, 'prom': 7083, 'bookmark': 1012, 'april': 431, 'url': 9718, 'fn': 3409, 'www': 10245, 'mask': 5558, 'missgiv': 5783, 'supermarket': 8806, 'dinner': 2415, 'account': 63, 'terminando': 9037, 'com': 1703, 'eight': 2807, 'um': 9486, 'ano': 357, 'depoi': 2295, 'full': 3577, 'inconsist': 4485, 'euan': 3005, 'haul': 4031, 'murder': 5972, 'partner': 6584, 'ther': 9085, 'fuckin': 3570, 'chill': 1503, 'chocol': 1516, 'cooki': 1882, 'rage': 7242, 'pm': 6863, 'erupt': 2975, 'ehb': 2804, 'ow': 6483, 'grievanc': 3863, 'attir': 562, 'regular': 7400, 'base': 714, 'primer': 7033, 'attain': 556, 'hint': 4174, 'nouveau': 6227, 'era': 2965, 'bracelet': 1059, 'stair': 8563, 'occasion': 6287, 'number': 6247, 'consecut': 1821, 'bow': 1048, 'conveni': 1870, 'iphon': 4674, 'internet': 4632, 'tv': 9438, 'have': 4036, 'concern': 1778, 'lace': 5055, 'pound': 6946, 'pavement': 6619, 'male': 5481, 'men': 5651, 'direct': 2421, 'childhood': 1499, 'clue': 1635, 'elihu': 2829, 'christmastim': 1533, 'mill': 5727, 'darkli': 2144, 'adult': 126, 'brain': 1066, 'di': 2364, 'funer': 3589, 'ecstat': 2766, 'proplem': 7095, 'intens': 4615, 'spous': 8516, 'agoni': 172, 'news': 6123, 'uninspir': 9602, 'intim': 4644, 'bodili': 984, 'girlfriend': 3718, 'avoid': 602, 'elev': 2825, 'lexicon': 5212, 'uncompos': 9514, 'director': 2424, 'editor': 2777, 'teachabl': 8981, 'tiphani': 9197, 'literari': 5285, 'legitim': 5172, 'analyz': 316, 'alarm': 207, 'compass': 1742, 'email': 2842, 'deepli': 2225, 'steal': 8601, 'joshua': 4845, 'dontknow': 2573, 'linu': 5266, 'forgotten': 3457, 'produc': 7065, 'increas': 4489, 'dirti': 2427, 'trash': 9328, 'bin': 873, 'nobodi': 6171, 'sought': 8418, 'curl': 2079, 'lowlight': 5384, 'section': 7909, 'gon': 3779, 'na': 6005, 'raini': 7249, 'laps': 5087, 'saniti': 7772, 'rampag': 7254, 'slightest': 8233, 'inconveni': 4486, 'comput': 1772, 'screen': 7873, 'scratch': 7869, 'pot': 6939, 'sentenc': 7955, 'poop': 6903, 'joke': 4829, 'excruci': 3068, 'horrif': 4265, 'fresh': 3530, 'fig': 3282, 'delic': 2256, 'prettier': 7015, 'dri': 2645, 'hgtv': 4145, 'describ': 2310, 'gene': 3658, 'domin': 2564, 'poet': 6870, 'crazi': 1981, 'covetousn': 1953, 'scar': 7820, 'chest': 1486, 'rhythm': 7559, 'remind': 7443, 'terpen': 9038, 'flavour': 3356, 'wieght': 10093, 'resign': 7494, 'docil': 2546, 'decad': 2194, 'jolli': 4831, 'ra': 7223, 'exclud': 3066, 'fantabul': 3178, 'cheat': 1463, 'lie': 5226, 'frankli': 3500, 'lion': 5268, 'prey': 7024, 'surround': 8837, 'bibl': 857, 'transcend': 9314, 'awkwardli': 617, 'melbourn': 5636, 'heavenli': 4085, 'slough': 8248, 'carapac': 1302, 'crud': 2036, 'envelop': 2943, 'thirti': 9114, 'glasgow': 3734, 'leadingstr': 5140, 'set': 7981, 'constraint': 1839, 'psalm': 7126, 'laze': 5130, 'pajama': 6520, 'terri': 9040, 'drive': 2655, 'yippe': 10295, 'beyond': 846, 'disagre': 2431, 'admiss': 113, 'categori': 1364, 'puppi': 7166, 'cloth': 1628, 'dickensian': 2381, 'orphan': 6403, 'seamlessli': 7895, 'jump': 4878, 'infer': 4527, 'taiwan': 8926, 'bathroom': 727, 'arous': 465, 'chronic': 1535, 'enorm': 2917, 'pink': 6791, 'flamingo': 3342, 'rang': 7262, 'listen': 5279, 'atheism': 536, 'log': 5316, 'yeah': 10279, 'nomin': 6183, 'award': 610, 'sudden': 8762, 'outburst': 6417, 'extra': 3116, 'biochem': 877, 'ruach': 7670, 'hakodesh': 3956, 'attempt': 557, 'suck': 8758, 'nevermind': 6112, 'pie': 6770, 'crap': 1975, 'zoom': 10351, 'difficulti': 2392, 'desert': 2312, 'temporarili': 9018, 'loos': 5345, 'noon': 6196, 'random': 7259, 'tick': 9162, 'keyboard': 4955, 'spill': 8479, 'scott': 7862, 'dale': 2118, 'fruster': 3564, 'neurot': 6106, 'smoothli': 8288, 'twenti': 9446, 'harden': 4003, 'toughen': 9270, 'myelf': 5995, 'enlist': 2914, 'difficult': 2391, 'mehow': 5633, 'remark': 7438, 'infield': 4531, 'plain': 6818, 'tank': 8948, 'top': 9249, 'zara': 10329, 'caught': 1372, 'occupi': 6290, 'chore': 1522, 'ex': 3049, 'sampl': 7759, 'stone': 8643, 'grumbl': 3891, 'groan': 3872, 'journey': 4849, 'thu': 9147, 'junk': 4886, 'thursday': 9155, 'foggi': 3415, 'rollercoast': 7629, 'unplan': 9630, 'background': 642, 'secretli': 7908, 'common': 1729, 'dislik': 2478, 'orgasm': 6395, 'screw': 7876, 'awar': 609, 'complain': 1752, 'goal': 3765, 'lyme': 5429, 'coinfect': 1674, 'amazingli': 277, 'homework': 4230, 'rainbow': 7248, 'classroom': 1585, 'tissu': 9201, 'idiot': 4372, 'hadnt': 3940, 'yell': 10286, 'million': 5732, 'send': 7943, 'solv': 8371, 'utter': 9740, 'gratitud': 3838, 'gestur': 3687, 'notion': 6224, 'ensur': 2925, 'surviv': 8839, 'comprehens': 1766, 'winner': 10129, 'access': 52, 'hollywood': 4217, 'sofa': 8348, 'button': 1217, 'layout': 5129, 'haptic': 3997, 'feedback': 3229, 'herrman': 4137, 'hardcor': 4001, 'sxe': 8891, 'signal': 8132, 'agreement': 175, 'straight': 8654, 'readili': 7305, 'asid': 503, 'bop': 1019, 'sing': 8160, 'exchang': 3062, 'oatmeal': 6268, 'separ': 7962, 'schedul': 7838, 'mere': 5666, 'tall': 8937, 'espresso': 2984, 'finger': 3306, 'beneath': 809, 'claw': 1588, 'distanc': 2507, 'scratchi': 7871, 'marg': 5525, 'simpson': 8154, 'sore': 8413, 'whisper': 10068, 'closet': 1625, 'niggl': 6149, 'trauma': 9329, 'neg': 6075, 'complic': 1759, 'relish': 7431, 'squelch': 8541, 'trick': 9365, 'advantag': 129, 'incas': 4466, 'bell': 794, 'yay': 10276, 'sink': 8166, 'unwarr': 9681, 'unnecessari': 9625, 'suprem': 8823, 'darker': 2142, 'worth': 10206, 'duti': 2714, 'disregard': 2495, 'societ': 8341, 'pertain': 6712, 'unleash': 9615, 'fromth': 3553, 'virgin': 9860, 'sell': 7934, 'pet': 6723, 'strength': 8673, 'throng': 9142, 'fervor': 3255, 'green': 3853, 'wallet': 9928, 'angl': 336, 'bat': 723, 'approach': 424, 'forgot': 3456, 'core': 1898, 'silli': 8141, 'brilliant': 1109, 'comic': 1717, 'actor': 89, 'marathon': 5522, 'impostor': 4439, 'reinforc': 7408, 'cognit': 1666, 'refram': 7382, 'diminish': 2406, 'dissolv': 2506, 'defer': 2234, 'realiti': 7315, 'raptur': 7275, 'sadden': 7728, 'horsey': 4269, 'brag': 1064, 'fatti': 3202, 'pre': 6969, 'teen': 8999, 'homeschool': 4226, 'dubai': 2677, 'partli': 6583, 'anni': 349, 'churn': 1547, 'esp': 2980, 'doubl': 2595, 'brown': 1137, 'struff': 8698, 'fedtast': 3225, 'tenni': 9028, 'emm': 2859, 'amblesid': 282, 'curtain': 2087, 'firmli': 3320, 'warmest': 9954, 'sunniest': 8792, 'corinthian': 1900, 'fearless': 3213, 'increment': 4493, 'seemingli': 7921, 'rigid': 7577, 'boundari': 1044, 'paranoia': 6561, 'insignific': 4583, 'gap': 3626, 'tad': 8920, 'browser': 1140, 'booth': 1018, 'focus': 3413, 'purchas': 7167, 'develop': 2348, 'unknown': 9614, 'vineman': 9850, 'racin': 7230, 'spot': 8512, 'mental': 5658, 'ller': 5300, 'expens': 3094, 'assist': 519, 'unsatisfi': 9651, 'led': 5158, 'phrase': 6754, 'engin': 2907, 'netflix': 6101, 'armi': 458, 'misinform': 5774, 'denounc': 2283, 'unafraid': 9492, 'glimps': 3740, 'vibrant': 9824, 'virtuou': 9863, 'spin': 8480, 'blackburn': 906, 'manual': 5514, 'unsupervis': 9667, 'sucess': 8757, 'handbrak': 3972, 'fulsom': 3581, 'scale': 7815, 'evolut': 3044, 'system': 8908, 'vast': 9777, 'lil': 5252, 'ac': 43, 'shaft': 8003, 'randomli': 7260, 'ultim': 9483, 'restor': 7509, 'kneel': 5008, 'worship': 10204, 'hapi': 3986, 'desp': 2319, 'gatsbi': 3641, 'evid': 3040, 'met': 5681, 'lock': 5311, 'vault': 9780, 'profess': 7067, 'poetri': 6872, 'poor': 6904, 'tragedi': 9301, 'incap': 4464, 'concert': 1779, 'basebal': 715, 'apt': 433, 'descript': 2311, 'overwhelmingli': 6481, 'televis': 9008, 'drama': 2626, 'backward': 646, 'ambiti': 281, 'info': 4537, 'vent': 9802, 'viciou': 9828, 'nasti': 6040, 'sti': 8621, 'romanc': 7631, 'regain': 7388, 'crucifi': 2035, 'forsaken': 3465, 'disabl': 2428, 'digniti': 2398, 'shun': 8109, 'foolish': 3431, 'reduc': 7365, 'jealousi': 4775, 'command': 1718, 'jew': 4798, 'religi': 7429, 'obey': 6274, 'prohibit': 7079, 'fluster': 3405, 'english': 2909, 'foundri': 3479, 'bay': 735, 'lend': 5182, 'wherewith': 10053, 'ugg': 9473, 'ballet': 672, 'pump': 7154, 'bandwagon': 685, 'driver': 2658, 'adolesc': 118, 'revert': 7544, 'power': 6952, 'belmont': 798, 'librari': 5222, 'electr': 2820, 'orchestra': 6384, 'wipe': 10136, 'oxygen': 6493, 'alcest': 214, 'album': 212, 'roommat': 7641, 'goodnight': 3786, 'mike': 5718, 'lighter': 5238, 'dunham': 2701, 'hannah': 3984, 'minimis': 5751, 'contort': 1861, 'stumbl': 8713, 'quot': 7222, 'meant': 5612, 'dedic': 2214, 'bare': 700, 'pit': 6807, 'sexi': 7993, 'pose': 6925, 'upper': 9703, 'weak': 9979, 'wan': 9935, 'ritz': 7599, 'cracker': 1965, 'desk': 2316, 'tenur': 9032, 'harm': 4009, 'taught': 8967, 'wrongli': 10233, 'undo': 9551, 'bigotri': 868, 'bind': 874, 'sloth': 8246, 'higher': 4157, 'altitud': 269, 'watcher': 9970, 'program': 7076, 'count': 1936, 'fought': 3474, 'essenc': 2987, 'soul': 8419, 'escap': 2976, 'stuck': 8704, 'cliquey': 1616, 'roll': 7627, 'suffoc': 8768, 'paus': 6618, 'logic': 5318, 'thanksgiv': 9067, 'jimmi': 4808, 'cope': 1891, 'wrung': 10235, 'upload': 9701, 'hyperemesi': 4342, 'copi': 1892, 'handsom': 3978, 'hang': 3982, 'underag': 9524, 'angel': 333, 'intermarri': 4627, 'tour': 9275, 'lane': 5081, 'soley': 8361, 'doom': 2579, 'gladiat': 3725, 'stadium': 8557, 'construct': 1841, 'cardboard': 1309, 'romeo': 7635, 'juliet': 4875, 'wayn': 9977, 'nikki': 6159, 'minaj': 5738, 'drake': 2625, 'dope': 2584, 'glanc': 3730, 'rucksack': 7676, 'cosmic': 1916, 'deed': 2216, 'vs': 9903, 'flung': 3402, 'suitcas': 8775, 'explod': 3101, 'cabin': 1229, 'teammat': 8984, 'scum': 7886, 'lisa': 5277, 'charg': 1448, 'headphon': 4056, 'address': 103, 'congratul': 1806, 'slug': 8253, 'massiv': 5562, 'takeaway': 8929, 'chocci': 1515, 'bing': 875, 'instantli': 4595, 'assert': 514, 'aggress': 165, 'chase': 1454, 'swim': 8878, 'dint': 2416, 'condemn': 1787, 'preacher': 6971, 'podium': 6868, 'counselor': 1935, 'speaker': 8452, 'chose': 1524, 'violenc': 9855, 'impract': 4442, 'vella': 9794, 'conclus': 1784, 'entail': 2926, 'civilli': 1566, 'del': 2251, 'prone': 7088, 'spencer': 8470, 'derfwadmanor': 2305, 'yarn': 10272, 'aunt': 577, 'reliv': 7432, 'enthral': 2929, 'independ': 4497, 'la': 5049, 'destini': 2329, 'gracia': 3810, 'por': 6912, 'todo': 9220, 'introduct': 4651, 'boss': 1027, 'idealist': 4367, 'proport': 7096, 'gun': 3917, 'rescu': 7484, 'moros': 5886, 'nowaday': 6232, 'sock': 8343, 'useless': 9727, 'film': 3292, 'nico': 6141, 'ear': 2727, 'medium': 5628, 'sensibl': 7951, 'visual': 9872, 'option': 6381, 'vomiti': 9896, 'respond': 7503, 'slalom': 8213, 'haze': 4041, 'balk': 670, 'soup': 8426, 'smoke': 8282, 'portion': 6920, 'vuner': 9907, 'eighteen': 2808, 'up': 9691, 'down': 2603, 'invit': 4669, 'unedit': 9561, 'bench': 807, 'fav': 3205, 'tackl': 8917, 'hedg': 4092, 'trudg': 9389, 'initi': 4556, 'revovl': 7550, 'toy': 9287, 'ansi': 361, 'lb': 5132, 'averag': 598, 'butterfli': 1215, 'govern': 3803, 'gulp': 3914, 'lipstick': 5272, 'roug': 7653, 'region': 7393, 'visibl': 9866, 'outer': 6421, 'carniola': 1329, 'somewhat': 8385, 'suburban': 8752, 'palm': 6529, 'blow': 958, 'univers': 9611, 'advic': 135, 'court': 1946, 'devil': 2351, 'suit': 8773, 'playboy': 6834, 'forum': 3470, 'previous': 7023, 'ebay': 2754, 'fish': 3325, 'deject': 2249, 'congress': 1808, 'kairi': 4903, 'lab': 5050, 'rat': 7278, 'ceas': 1389, 'gown': 3805, 'plastic': 6826, 'slipper': 8238, 'dopey': 2585, 'holier': 4209, 'thou': 9123, 'fashion': 3190, 'graphic': 3833, 'hoard': 4190, 'anybodi': 382, 'mca': 5595, 'task': 8959, 'ideal': 4366, 'demotiv': 2273, 'curriculum': 2085, 'possess': 6932, 'disillus': 2474, 'startl': 8582, 'comparison': 1739, 'immedi': 4414, 'jack': 4731, 'blink': 932, 'threw': 9132, 'cajol': 1237, 'bulli': 1173, 'slowli': 8251, 'janel': 4755, 'mon': 5840, 'ell': 2833, 'canada': 1270, 'februari': 3220, 'plea': 6842, 'insincer': 4584, 'nosi': 6210, 'museum': 5979, 'unprepar': 9635, 'trigger': 9368, 'viru': 9864, 'flu': 3396, 'liter': 5284, 'hundr': 4319, 'mass': 5560, 'eucharist': 3006, 'professor': 7069, 'banker': 690, 'arrog': 469, 'pinch': 6786, 'crust': 2047, 'awhil': 615, 'teeth': 9003, 'earn': 2733, 'regul': 7399, 'sustain': 8848, 'conor': 1813, 'flow': 3393, 'draft': 2619, 'secret': 7906, 'migrain': 5715, 'servic': 7979, 'bash': 717, 'harvest': 4017, 'ruin': 7687, 'damp': 2126, 'motorway': 5907, 'telephon': 9005, 'properli': 7093, 'plenti': 6850, 'repeat': 7461, 'grin': 3868, 'role': 7625, 'grandmoth': 3826, 'grandma': 3825, 'defect': 2230, 'sigh': 8127, 'quietli': 7213, 'anguish': 340, 'unavoid': 9497, 'shortcom': 8084, 'benefici': 812, 'employe': 2875, 'rapidli': 7271, 'ramadan': 7252, 'verg': 9808, 'tenderli': 9026, 'cheek': 1468, 'nd': 6054, 'vlog': 9880, 'cloudi': 1630, 'easter': 2747, 'retart': 7520, 'rhythmic': 7560, 'ten': 9022, 'basi': 718, 'bs': 1149, 'immedietli': 4415, 'wal': 9922, 'mart': 5545, 'andov': 326, 'aim': 187, 'who': 10074, 'autumn': 594, 'earli': 2730, 'andthenwear': 330, 'sent': 7954, 'shini': 8057, 'linda': 5259, 'temper': 9012, 'ring': 7583, 'incapacit': 4465, 'flare': 3345, 'fifteen': 3279, 'wave': 9974, 'crash': 1977, 'downright': 2606, 'daughter': 2157, 'strut': 8700, 'creepi': 1999, 'macabr': 5434, 'fountain': 3480, 'abit': 19, 'darn': 2146, 'itttt': 4722, 'tension': 9030, 'friendship': 3542, 'serv': 7977, 'consum': 1845, 'hovel': 4286, 'grandfath': 3823, 'demand': 2264, 'creativecommon': 1989, 'tat': 8963, 'errrr': 2974, 'dun': 2699, 'noe': 6175, 'depth': 2300, 'underr': 9535, 'nonetheless': 6190, 'humbl': 4307, 'hardship': 4007, 'sum': 8779, 'interrupt': 4638, 'aid': 184, 'benadryl': 806, 'renew': 7453, 'endur': 2898, 'herzog': 4139, 'relat': 7415, 'soak': 8331, 'warmth': 9956, 'judgment': 4864, 'zayn': 10331, 'avail': 595, 'churchoffuck': 1546, 'renov': 7454, 'mammoth': 5490, 'harsh': 4014, 'nvm': 6258, 'deliber': 2255, 'firm': 3319, 'salon': 7749, 'predatori': 6978, 'deform': 2243, 'asylum': 528, 'seeker': 7918, 'intermitt': 4630, 'lacklustr': 5058, 'pen': 6658, 'diego': 2388, 'vagu': 9751, 'spaci': 8434, 'marri': 5541, 'club': 1634, 'nauseou': 6051, 'laundri': 5112, 'ordin': 6389, 'impli': 4431, 'orderli': 6388, 'remov': 7449, 'proclaim': 7062, 'alot': 258, 'white': 10070, 'consider': 1827, 'fractur': 3488, 'wrist': 10224, 'correct': 1910, 'powerless': 6953, 'tuesday': 9414, 'hilmari': 4169, 'unsophist': 9658, 'immun': 4421, 'alter': 266, 'whine': 10060, 'ungrat': 9589, 'fascin': 3188, 'katja': 4930, 'disallus': 2432, 'behold': 787, 'statement': 8589, 'uninterest': 9606, 'anansi': 317, 'tiger': 9170, 'nathan': 6043, 'spurt': 8533, 'sidelin': 8120, 'wet': 10032, 'capabl': 1290, 'ipod': 4675, 'reve': 7535, 'pulp': 7151, 'confer': 1795, 'cash': 1347, 'ga': 3603, 'jewelleri': 4799, 'pregnanc': 6987, 'assumpt': 523, 'snippet': 8312, 'petrifi': 6728, 'duke': 2689, 'quick': 7208, 'nephew': 6090, 'salli': 7748, 'mop': 5871, 'atop': 550, 'hormon': 4259, 'clutch': 1641, 'testimoni': 9050, 'distant': 2508, 'sequel': 7965, 'overr': 6464, 'deem': 2218, 'instanc': 4593, 'entireti': 2934, 'consumpt': 1847, 'un': 9489, 'increasingli': 4490, 'unsettl': 9655, 'disconnect': 2452, 'remot': 7448, 'homosexu': 4235, 'occur': 6291, 'profil': 7071, 'cuz': 2099, 'shame': 8012, 'dr': 2618, 'bundl': 1182, 'sight': 8129, 'untri': 9676, 'john': 4821, 'boehner': 988, 'copiou': 1893, 'blur': 969, 'spray': 8518, 'nicotin': 6144, 'stain': 8562, 'cantor': 1286, 'speakership': 8453, 'reson': 7499, 'symptom': 8900, 'windi': 10120, 'thoroughli': 9122, 'vow': 9901, 'scafel': 7814, 'numer': 6249, 'broken': 1124, 'mixer': 5801, 'extens': 3111, 'courag': 1944, 'idreamcultur': 4377, 'unmotiv': 9623, 'cup': 2070, 'seam': 7894, 'later': 5098, 'saturday': 7796, 'batter': 731, 'app': 407, 'maker': 5476, 'leech': 5161, 'reagan': 7309, 'slim': 8235, 'stack': 8556, 'veterinari': 9819, 'surgeon': 8829, 'roster': 7648, 'housekeep': 4284, 'albeit': 210, 'toon': 9247, 'guild': 3906, 'maid': 5461, 'frown': 3558, 'upsid': 9707, 'hast': 4022, 'cop': 1889, 'disord': 2483, 'insist': 4586, 'besid': 832, 'hat': 4023, 'harrass': 4012, 'oppress': 6376, 'select': 7929, 'lull': 5404, 'fantasi': 3179, 'locat': 5310, 'sunset': 8794, 'clich': 1603, 'yoga': 10300, 'crossfit': 2025, 'plank': 6822, 'closest': 1624, 'stammer': 8569, 'bone': 1004, 'burlesqu': 1199, 'updat': 9695, 'uniqu': 9608, 'replac': 7468, 'mouth': 5917, 'bf': 848, 'silenc': 8137, 'racism': 7231, 'overt': 6472, 'grown': 3887, 'bleed': 923, 'luck': 5395, 'hahaha': 3946, 'niko': 6160, 'fate': 3196, 'speechless': 8465, 'dorki': 2588, 'hipster': 4177, 'bastard': 722, 'intellect': 4611, 'object': 6275, 'inevit': 4519, 'sip': 8169, 'coke': 1675, 'aggrav': 164, 'mousekin': 5915, 'compens': 1746, 'sunshin': 8795, 'buffi': 1165, 'multipl': 5957, 'flight': 3372, 'pan': 6533, 'si': 8113, 'botani': 1030, 'lec': 5156, 'nurseri': 6252, 'pupil': 7165, 'douevenlift': 2600, 'despair': 2320, 'modul': 5818, 'arriv': 468, 'consequ': 1822, 'framework': 3496, 'branch': 1071, 'chicki': 1495, 'scene': 7831, 'cook': 1881, 'mystiqu': 6002, 'acheiv': 72, 'unexpect': 9568, 'insan': 4573, 'housewif': 4285, 'sue': 8764, 'bloater': 937, 'chosen': 1525, 'uber': 9469, 'reiter': 7409, 'despond': 2324, 'incid': 4475, 'mermaidhair': 5672, 'intuit': 4656, 'juli': 4871, 'bailey': 664, 'treatment': 9345, 'stood': 8645, 'nh': 6131, 'hardli': 4006, 'compet': 1748, 'justifi': 4892, 'breakdown': 1084, 'hr': 4290, 'archeolog': 441, 'dine': 2409, 'guinea': 3910, 'pig': 6773, 'flat': 3350, 'wholli': 10080, 'techniqu': 8992, 'proven': 7115, 'baltimor': 678, 'introduc': 4650, 'heaven': 4084, 'jesu': 4796, 'sparrow': 8445, 'dilut': 2403, 'upbeat': 9692, 'mourn': 5912, 'bulletin': 1172, 'myspac': 5998, 'embrac': 2853, 'careess': 1316, 'hu': 4294, 'jia': 4803, 'dread': 2635, 'certifi': 1414, 'ace': 70, 'execut': 3071, 'dishwash': 2473, 'lower': 5381, 'idol': 4375, 'discard': 2442, 'neck': 6065, 'kg': 4959, 'approx': 427, 'brow': 1136, 'ponder': 6899, 'teas': 8988, 'scrutini': 7884, 'compel': 1745, 'meek': 5629, 'asian': 502, 'vividli': 9876, 'belt': 802, 'instructor': 4602, 'dojo': 2559, 'richard': 7565, 'obedi': 6271, 'piano': 6760, 'newer': 6119, 'cheaper': 1461, 'foreign': 3447, 'tourist': 9277, 'beg': 777, 'ur': 9711, 'sheer': 8035, 'slight': 8232, 'franz': 3502, 'liebkind': 5227, 'fuhrer': 3575, 'dancer': 2131, 'weepi': 10006, 'haha': 3945, 'candyland': 1278, 'haggard': 3942, 'radiant': 7236, 'goddamn': 3769, 'aconfid': 79, 'overcomet': 6447, 'caffein': 1234, 'vista': 9871, 'pro': 7052, 'incorpor': 4487, 'recoveri': 7353, 'breed': 1093, 'economi': 2764, 'recess': 7334, 'unemploy': 9564, 'divorc': 2534, 'britain': 1113, 'loui': 5370, 'xvi': 10261, 'mari': 5529, 'antoinett': 376, 'russia': 7705, 'lemon': 5177, 'bar': 694, 'croc': 2018, 'icon': 4362, 'eyeglass': 3128, 'authorit': 586, 'stasia': 8586, 'foundat': 3477, 'ya': 10265, 'allah': 236, 'puff': 7149, 'spa': 8432, 'interven': 4641, 'scribbl': 7877, 'notebook': 6218, 'ghd': 3696, 'straighten': 8655, 'unlik': 9617, 'fluffi': 3399, 'yunho': 10321, 'rap': 7266, 'wtf': 10239, 'russel': 7704, 'crow': 2030, 'robin': 7613, 'hood': 4247, 'merida': 5670, 'phoenix': 6748, 'crosshatch': 2026, 'lensflar': 5188, 'artistri': 482, 'darren': 2147, 'none': 6189, 'ti': 9158, 'dozen': 2614, 'assign': 518, 'whing': 10062, 'temperatur': 9013, 'unduti': 9557, 'church': 1543, 'oomph': 6358, 'eman': 2843, 'nake': 6019, 'longingli': 5336, 'probe': 7054, 'foist': 3417, 'scab': 7811, 'surfac': 8827, 'raw': 7289, 'unheal': 9591, 'underneath': 9533, 'tween': 9443, 'whirlwind': 10066, 'distinct': 2511, 'turnout': 9432, 'retir': 7521, 'appar': 409, 'overwork': 6482, 'exclus': 3067, 'boister': 993, 'frombut': 3552, 'moodi': 5866, 'subscrib': 8742, 'inform': 4538, 'bank': 689, 'chunki': 1542, 'commiss': 1723, 'factori': 3147, 'butcheri': 1211, 'tornado': 9255, 'hav': 4035, 'babychas': 632, 'childish': 1500, 'headmast': 4055, 'ratbagx': 7279, 'vomit': 9895, 'volunt': 9893, 'organ': 6392, 'pack': 6501, 'ration': 7282, 'influenti': 4535, 'nicer': 6135, 'convent': 1871, 'ceil': 1391, 'imdo': 4408, 'skinni': 8202, 'fiber': 3270, 'cathol': 1370, 'vortex': 9898, 'alcohol': 215, 'petit': 6727, 'suffici': 8767, 'rampant': 7255, 'lawrencewashington': 5124, 'coat': 1649, 'rock': 7615, 'swag': 8853, 'fade': 3150, 'lover': 5377, 'lip': 5269, 'profession': 7068, 'unpress': 9636, 'outlet': 6427, 'equat': 2960, 'deadlin': 2177, 'rugbi': 7685, 'boob': 1010, 'spread': 8519, 'pronounc': 7089, 'julia': 4872, 'witti': 10156, 'complaint': 1754, 'creme': 2000, 'counter': 1937, 'redhead': 7363, 'sumthg': 8785, 'thk': 9116, 'irc': 4679, 'mi': 5693, 'enthusiasm': 2930, 'bb': 737, 'leather': 5154, 'sandal': 7764, 'hopelessli': 4255, 'tasti': 8961, 'abound': 26, 'santa': 7773, 'cruz': 2049, 'unseen': 9654, 'ambient': 279, 'swear': 8860, 'laid': 5068, 'renown': 7455, 'sport': 8509, 'unhealthi': 9592, 'anatomi': 318, 'ty': 9461, 'gamer': 3621, 'molyneux': 5831, 'highest': 4158, 'urgenc': 9714, 'lem': 5176, 'arena': 446, 'repres': 7472, 'client': 1605, 'cagey': 1236, 'eyebrow': 3127, 'chip': 1510, 'allergi': 241, 'quaker': 7191, 'announc': 352, 'excitedli': 3064, 'fortnight': 3468, 'duck': 2682, 'understood': 9538, 'similar': 8144, 'contrast': 1867, 'quantum': 7195, 'leap': 5148, 'struck': 8696, 'kleinkind': 5004, 'medic': 5623, 'bedroom': 764, 'perpetu': 6695, 'gawd': 3646, 'footbal': 3434, 'extrememli': 3121, 'overli': 6460, 'impuls': 4449, 'indulg': 4513, 'coordin': 1888, 'cave': 1379, 'tibri': 9160, 'daydream': 2165, 'standard': 8573, 'dreamworld': 2639, 'withdraw': 10148, 'fab': 3136, 'lee': 5160, 'yo': 10299, 'handheld': 3974, 'cam': 1258, 'sicken': 8117, 'lanc': 5077, 'adject': 108, 'wierd': 10095, 'collar': 1687, 'bounc': 1039, 'paw': 6621, 'sniffl': 8309, 'itchi': 4714, 'sooner': 8398, 'greg': 3856, 'nativ': 6045, 'abandon': 8, 'volum': 9892, 'expans': 3088, 'apologis': 404, 'asset': 516, 'musicianship': 5985, 'resurrect': 7515, 'lengthi': 5185, 'histori': 4181, 'yk': 10297, 'identifi': 4369, 'octob': 6294, 'diseas': 2463, 'rachel': 7228, 'leisur': 5175, 'split': 8494, 'weirdli': 10016, 'angsti': 339, 'headspac': 4057, 'jensen': 4787, 'bon': 1001, 'jovi': 4850, 'fianc': 3269, 'zone': 10348, 'pushov': 7178, 'will': 10109, 'deliv': 2259, 'attribut': 566, 'score': 7858, 'pole': 6882, 'stat': 8587, 'grand': 3819, 'bake': 665, 'pout': 6948, 'wouldv': 10213, 'rusti': 7706, 'dean': 2183, 'hometown': 4229, 'moos': 5869, 'jaw': 4767, 'pregant': 6986, 'pub': 7143, 'stunningli': 8717, 'darl': 2145, 'samuel': 7760, 'ting': 9189, 'nutrit': 6256, 'track': 9292, 'exe': 3070, 'extremley': 3122, 'eventu': 3025, 'lens': 5187, 'likeaudrey': 5248, 'hepburn': 4123, 'tiffani': 9169, 'flounder': 3390, 'luckili': 5397, 'facebook': 3141, 'offlin': 6309, 'amo': 296, 'retrofit': 7525, 'homag': 4219, 'restart': 7506, 'flirti': 3378, 'argument': 450, 'ice': 4358, 'alis': 233, 'jeremi': 4790, 'overtak': 6473, 'induc': 4512, 'nightlif': 6154, 'speed': 8466, 'clock': 1618, 'daylight': 2166, 'stash': 8585, 'snap': 8295, 'lectur': 5157, 'spit': 8487, 'disrespect': 2496, 'perciev': 6677, 'drank': 2629, 'crunk': 2044, 'injustic': 4560, 'rise': 7591, 'mg': 5692, 'seroquel': 7976, 'syndrom': 8902, 'blogpost': 946, 'lipbalm': 5270, 'subj': 8734, 'wrestl': 10220, 'inch': 4473, 'vocal': 9883, 'blend': 925, 'plod': 6853, 'programm': 7077, 'placc': 6814, 'outright': 6430, 'colleagu': 1688, 'twitchi': 9454, 'organis': 6393, 'demostr': 2272, 'shapeshift': 8018, 'constru': 1840, 'hubbi': 4295, 'glori': 3750, 'inde': 4494, 'adjust': 109, 'center': 1403, 'bask': 720, 'ahaha': 178, 'retard': 7519, 'acctual': 65, 'wonderful': 10175, 'israel': 4708, 'casserol': 1352, 'hall': 3960, 'pitch': 6808, 'in': 4450, 'picnic': 6766, 'luncheon': 5413, 'commit': 1724, 'recognis': 7343, 'shifti': 8051, 'overshadow': 6469, 'subconsci': 8731, 'wire': 10137, 'nurs': 6251, 'aoa': 389, 'featur': 3217, 'mat': 5568, 'anyhow': 383, 'circuit': 1559, 'spine': 8482, 'seriou': 7971, 'healthcar': 4061, 'trampl': 9310, 'encapsul': 2884, 'energis': 2905, 'socialis': 8340, 'smiley': 8278, 'bah': 661, 'firefli': 3316, 'seren': 7966, 'mix': 5800, 'upcom': 9694, 'chines': 1507, 'china': 1505, 'fester': 3256, 'despis': 2322, 'textur': 9054, 'mysteri': 5999, 'overal': 6443, 'detach': 2332, 'squeez': 8540, 'rile': 7581, 'offens': 6305, 'unsheath': 9656, 'sword': 8888, 'defens': 2233, 'definetli': 2240, 'yuuki': 10323, 'titanium': 9203, 'hedgehog': 4093, 'detest': 2341, 'trepidati': 9357, 'idioci': 4370, 'fastforward': 3193, 'column': 1702, 'empow': 2876, 'wean': 9984, 'ia': 4352, 'owe': 6484, 'sooooo': 8401, 'columbia': 1701, 'nail': 6014, 'concoct': 1785, 'bod': 981, 'tremor': 9351, 'cashier': 1348, 'deaf': 2179, 'antsi': 378, 'quicker': 7209, 'deeper': 2222, 'necklac': 6066, 'comb': 1705, 'bourbon': 1045, 'weaker': 9980, 'dig': 2393, 'postpon': 6938, 'labor': 5052, 'mauri': 5584, 'logan': 5317, 'evapor': 3020, 'cyberspac': 2103, 'wisdom': 10140, 'ahahahaha': 179, 'morbidli': 5875, 'stpm': 8653, 'vine': 9847, 'murakami': 5970, 'nostalgia': 6212, 'canaglia': 1272, 'lick': 5225, 'lollypop': 5326, 'hausa': 4034, 'motorcyclist': 5906, 'resembl': 7486, 'north': 6205, 'tendenc': 9024, 'narciss': 6034, 'disclosur': 2448, 'collabor': 1685, 'stole': 8640, 'warner': 9958, 'format': 3461, 'blu': 962, 'ray': 7292, 'websit': 9996, 'urbanit': 9712, 'myriad': 5996, 'disast': 2436, 'york': 10304, 'polit': 6888, 'unravel': 9640, 'personnel': 6707, 'buzzi': 1222, 'mildli': 5721, 'panicki': 6541, 'unprotect': 9639, 'mil': 5719, 'rattl': 7284, 'confirm': 1800, 'grip': 3870, 'lung': 5416, 'exhal': 3077, 'vapor': 9766, 'bridg': 1102, 'laci': 5056, 'string': 8684, 'youth': 10314, 'employ': 2874, 'lush': 5423, 'unfulfil': 9585, 'babysitt': 636, 'reevalu': 7373, 'czech': 2108, 'republ': 7477, 'packag': 6502, 'underground': 9530, 'tobi': 9212, 'tunji': 9422, 'bond': 1002, 'wardrod': 9947, 'trueli': 9392, 'excercis': 3060, 'cafe': 1232, 'chaotic': 1440, 'british': 1114, 'timid': 9186, 'marvel': 5550, 'irresist': 4689, 'frock': 3550, 'discomfort': 2451, 'transfer': 9316, 'oper': 6364, 'shallow': 8010, 'bunk': 1186, 'affend': 145, 'nonsens': 6192, 'gladli': 3726, 'miyavi': 5803, 'xia': 10255, 'eagerli': 2724, 'andri': 329, 'abroad': 28, 'lean': 5145, 'horizon': 4257, 'pilfer': 6778, 'corpor': 1908, 'vote': 9899, 'leagu': 5143, 'proper': 7092, 'skater': 8186, 'attitud': 563, 'trivial': 9380, 'snack': 8292, 'linger': 5262, 'blurri': 970, 'dave': 2159, 'atel': 532, 'solemn': 8360, 'render': 7452, 'thearchitectur': 9073, 'utopian': 9739, 'garag': 3628, 'strive': 8687, 'soooo': 8400, 'incom': 4480, 'hobbi': 4194, 'bust': 1210, 'scof': 7853, 'kim': 4977, 'kardashion': 4915, 'tutori': 9436, 'justic': 4890, 'west': 10029, 'garment': 3632, 'onward': 6356, 'tranni': 9312, 'blake': 914, 'trepid': 9356, 'statist': 8593, 'departur': 2290, 'woop': 10186, 'bunch': 1181, 'safeti': 7737, 'wade': 9910, 'dialog': 2370, 'individu': 4510, 'deflat': 2242, 'fran': 3497, 'dublin': 2679, 'whim': 10057, 'holyhead': 4218, 'peski': 6718, 'bunni': 1187, 'raid': 7243, 'nag': 6010, 'float': 3379, 'sidewalk': 8121, 'pothol': 6942, 'unearthli': 9558, 'manipulk': 5506, 'charli': 1451, 'liz': 5297, 'earl': 2728, 'coolum': 1885, 'whilst': 10056, 'outgo': 6423, 'smooch': 8284, 'candl': 1277, 'drawn': 2634, 'grayish': 3843, 'cd': 1386, 'thereof': 9093, 'ward': 9945, 'reflect': 7378, 'polic': 6884, 'sheriff': 8043, 'larri': 5092, 'ppl': 6955, 'rte': 7669, 'emoticon': 2864, 'embaress': 2846, 'poll': 6890, 'yall': 10267, 'inner': 4566, 'flew': 3364, 'hotel': 4275, 'naught': 6047, 'disco': 2449, 'someday': 8375, 'etern': 2998, 'repetit': 7466, 'futil': 3598, 'plane': 6820, 'uruk': 9719, 'hai': 3948, 'evalu': 3017, 'solut': 8370, 'drastic': 2631, 'propos': 7097, 'banana': 681, 'roast': 7609, 'tea': 8979, 'likewis': 5251, 'tangibl': 8945, 'philip': 6742, 'reaura': 7323, 'smooth': 8285, 'cliqu': 1615, 'twice': 9448, 'tripl': 9376, 'pompou': 6897, 'notorieti': 6225, 'ism': 4700, 'espous': 2983, 'borrow': 1025, 'bumper': 1179, 'destroy': 2330, 'cheap': 1460, 'bid': 862, 'neighbour': 6080, 'muze': 5992, 'mujh': 5950, 'kay': 4934, 'zay': 10330, 'ladybit': 5065, 'frozen': 3560, 'thaw': 9072, 'ensu': 2924, 'instig': 4597, 'unfold': 9579, 'aussi': 579, 'dumpl': 2698, 'chinatown': 1506, 'lemonad': 5178, 'leafi': 5142, 'beer': 769, 'labour': 5053, 'brunswick': 1144, 'backyard': 647, 'barbecu': 695, 'edinburgh': 2774, 'hockey': 4198, 'parmesan': 6573, 'truffl': 9393, 'wing': 10127, 'prawn': 6966, 'lollipop': 5325, 'worldli': 10198, 'retail': 7516, 'kingdom': 4988, 'envious': 2946, 'luka': 5402, 'innov': 4568, 'structur': 8697, 'chakotay': 1425, 'ebb': 2755, 'pretenti': 7013, 'chew': 1487, 'swallow': 8854, 'compon': 1761, 'sox': 8431, 'tampa': 8941, 'wilder': 10105, 'downer': 2604, 'mess': 5677, 'carri': 1335, 'photographi': 6752, 'persuad': 6710, 'photograph': 6751, 'winston': 10130, 'churchil': 1545, 'merg': 5668, 'intern': 4631, 'youngster': 10312, 'fad': 3149, 'foul': 3475, 'pedestrian': 6644, 'impolit': 4433, 'passeng': 6588, 'theme': 9078, 'emotionless': 2866, 'target': 8953, 'analog': 313, 'anxious': 381, 'ww': 10243, 'psycholog': 7132, 'noah': 6170, 'allianc': 244, 'rant': 7265, 'partial': 6578, 'resist': 7496, 'snicker': 8305, 'everywher': 3037, 'newbi': 6116, 'scriptur': 7879, 'subsid': 8745, 'pinpoint': 6795, 'assess': 515, 'carbohydr': 1305, 'expand': 3087, 'waistlin': 9917, 'heck': 4089, 'hi': 4146, 'tech': 8990, 'splendor': 8493, 'hansen': 3985, 'cha': 1418, 'ching': 1508, 'silver': 8142, 'glitter': 3744, 'forth': 3466, 'lessen': 5196, 'mooch': 5864, 'maintain': 5469, 'xanax': 10247, 'teddi': 8996, 'caption': 1296, 'mull': 5953, 'toss': 9261, 'nudg': 6242, 'morph': 5887, 'solid': 8362, 'turbillion': 9424, 'hong': 4242, 'kong': 5028, 'oft': 6312, 'weed': 10000, 'marlin': 5538, 'wimbledon': 10114, 'blanket': 917, 'readership': 7303, 'percept': 6676, 'misscariag': 5782, 'conscienc': 1816, 'suspens': 8845, 'springer': 8522, 'letdown': 5202, 'seep': 7923, 'legend': 5169, 'inquir': 4571, 'incheswhyinch': 4474, 'metal': 5683, 'wherev': 10052, 'exboyfriend': 3056, 'shout': 8095, 'midnight': 5706, 'loop': 5343, 'knight': 5012, 'feebl': 3227, 'sickli': 8118, 'coconut': 1657, 'tropic': 9384, 'temporari': 9017, 'outing': 6425, 'gut': 3925, 'reward': 7552, 'embarras': 2848, 'wimpi': 10116, 'credit': 1995, 'capit': 1293, 'zackmdavi': 10326, 'puls': 7153, 'dragon': 2622, 'translat': 9322, 'merci': 5663, 'standbi': 8574, 'comprehend': 1765, 'lestat': 5200, 'senior': 7946, 'trace': 9289, 'disgrac': 2466, 'wearili': 9989, 'unusu': 9679, 'derp': 2307, 'lrt': 5388, 'rode': 7623, 'misfortun': 5770, 'befal': 771, 'tribul': 9363, 'happywarmworld': 3996, 'heartsick': 4078, 'studio': 8709, 'bizarr': 902, 'magazin': 5450, 'advers': 132, 'pursuit': 7175, 'bagel': 658, 'jalapeno': 4746, 'burnt': 1204, 'giver': 3723, 'reluctantli': 7435, 'epidur': 2953, 'gallow': 3616, 'crisi': 2014, 'pirat': 6802, 'landlubb': 5079, 'ziplin': 10345, 'grove': 3884, 'clearer': 1595, 'integr': 4610, 'intact': 4608, 'shoelac': 8072, 'rot': 7649, 'oppos': 6374, 'xd': 10250, 'commodor': 1728, 'nicholson': 6137, 'psychologist': 7133, 'poo': 6901, 'km': 5006, 'deterior': 2339, 'sabrina': 7720, 'not': 6214, 'vile': 9843, 'digest': 2394, 'ish': 4697, 'unnatur': 9624, 'tightli': 9175, 'brutal': 1146, 'readjust': 7306, 'centr': 1404, 'cyst': 2107, 'carl': 1326, 'clark': 1578, 'potato': 6940, 'react': 7297, 'contagi': 1849, 'mulatto': 5952, 'albino': 211, 'mosquito': 5894, 'libido': 5221, 'hello': 4113, 'bye': 1223, 'displac': 2489, 'peeta': 6652, 'heroin': 4135, 'katnisss': 4932, 'hasnt': 4020, 'mite': 5799, 'primari': 7031, 'drecki': 2641, 'vj': 9879, 'banter': 691, 'seth': 7983, 'provoc': 7118, 'east': 2746, 'subdu': 8733, 'tone': 9238, 'heinous': 4106, 'psychot': 7136, 'crazili': 1983, 'religion': 7430, 'reilli': 7406, 'crawl': 1979, 'suitabl': 8774, 'panel': 6536, 'notifi': 6223, 'infidel': 4530, 'sweeti': 8873, 'savingyourmarriagebeforeitstart': 7804, 'uncanni': 9503, 'staff': 8558, 'laetshi': 5066, 'preval': 7020, 'unreal': 9641, 'repair': 7458, 'fifti': 3281, 'unbear': 9499, 'tgt': 9057, 'context': 1857, 'unimagin': 9598, 'saba': 7717, 'wale': 9924, 'appoint': 419, 'bum': 1175, 'vbac': 9781, 'snatch': 8301, 'birth': 885, 'temptat': 9020, 'multiplay': 5958, 'flash': 3346, 'agenda': 162, 'caress': 1320, 'elitist': 2831, 'deepika': 2224, 'silhouett': 8139, 'friggin': 3544, 'dissip': 2505, 'resolut': 7497, 'drug': 2665, 'cede': 1390, 'prevent': 7021, 'doomnat': 2580, 'damnat': 2124, 'fedex': 3223, 'flaw': 3357, 'empower': 2877, 'justif': 4891, 'brainless': 1067, 'dorm': 2589, 'liberti': 5219, 'adopt': 120, 'mythic': 6003, 'ie': 4379, 'wane': 9939, 'unconform': 9517, 'ab': 7, 'wiser': 10142, 'grasp': 3835, 'rustl': 7707, 'leo': 5191, 'clara': 1573, 'krupk': 5038, 'chariti': 1450, 'donat': 2567, 'easel': 2741, 'hmmmmm': 4188, 'dazzl': 2171, 'cert': 1410, 'toronto': 9256, 'exhibit': 3079, 'recognit': 7344, 'persona': 6705, 'whod': 10075, 'malaysia': 5480, 'menswear': 5657, 'entri': 2940, 'david': 2161, 'shortlist': 8087, 'dingler': 2412, 'abyss': 42, 'fortun': 3469, 'exempt': 3073, 'walli': 9929, 'lamb': 5073, 'chick': 1493, 'synthet': 8905, 'pearl': 6639, 'jewelri': 4800, 'trinket': 9374, 'heartach': 4069, 'boo': 1009, 'friggeti': 3543, 'hoo': 4246, 'moisturis': 5826, 'cleans': 1592, 'discoveri': 2459, 'dork': 2587, 'censorship': 1401, 'nod': 6174, 'procur': 7064, 'provok': 7119, 'registr': 7395, 'unev': 9566, 'adher': 107, 'august': 576, 'medal': 5620, 'tie': 9168, 'unfit': 9577, 'rotund': 7652, 'buf': 1162, 'fierc': 3277, 'bloke': 949, 'quak': 7190, 'shore': 8081, 'pia': 6759, 'limb': 5254, 'sexahol': 7992, 'discount': 2456, 'tote': 9264, 'contrari': 1866, 'ludicr': 5398, 'popul': 6910, 'fuel': 3573, 'yoshida': 10306, 'mishandl': 5772, 'alongsid': 256, 'insight': 4582, 'pun': 7157, 'varvel': 9775, 'camp': 1264, 'accommod': 59, 'hypersexu': 4343, 'tartlet': 8956, 'rihanna': 7579, 'saudi': 7798, 'perfum': 6683, 'termin': 9036, 'rolex': 7626, 'giant': 3700, 'vigil': 9841, 'whoosh': 10084, 'dipshit': 2418, 'laptop': 5088, 'nacho': 6006, 'hostel': 4272, 'shiver': 8067, 'tummi': 9419, 'em': 2841, 'ubuntu': 9470, 'user': 9728, 'linux': 5267, 'platform': 6830, 'fathom': 3199, 'ewan': 3047, 'medicin': 5624, 'barri': 711, 'almond': 251, 'redcoat': 7359, 'camera': 1261, 'decent': 2200, 'youngest': 10311, 'visabl': 9865, 'spotlight': 8515, 'unfashion': 9574, 'calgari': 1244, 'pb': 6628, 'simplest': 8149, 'lj': 5299, 'suspicion': 8847, 'germ': 3681, 'dunno': 2703, 'overtli': 6476, 'disagr': 2430, 'rightli': 7576, 'flee': 3360, 'baltic': 677, 'uncondit': 9516, 'voluntari': 9894, 'mankind': 5509, 'plight': 6852, 'turkish': 9428, 'vet': 9818, 'cador': 1230, 'bloodsh': 953, 'clariti': 1577, 'reign': 7405, 'nyquil': 6264, 'consolid': 1831, 'vicari': 9826, 'sarcasm': 7777, 'vendor': 9797, 'distribut': 2517, 'overweight': 6479, 'gfather': 3694, 'ute': 9734, 'manur': 5517, 'compost': 1763, 'simultan': 8155, 'inferior': 4528, 'elat': 2815, 'addit': 101, 'hihi': 4162, 'undesir': 9548, 'typic': 9465, 'wintri': 10134, 'dignifi': 2397, 'inact': 4453, 'default': 2228, 'reconcil': 7347, 'uneas': 9559, 'martin': 5548, 'wwii': 10244, 'franc': 3498, 'dang': 2133, 'motherhood': 5899, 'blush': 972, 'kai': 4901, 'passport': 6594, 'washroom': 9965, 'fp': 3485, 'cough': 1925, 'combat': 1706, 'trainer': 9307, 'ba': 627, 'backpack': 644, 'rebekah': 7325, 'satisfactori': 7793, 'klau': 5002, 'stefan': 8606, 'damon': 2125, 'regardless': 7390, 'horrid': 4264, 'rough': 7654, 'ampl': 305, 'confess': 1796, 'dentist': 2286, 'statu': 8594, 'arch': 439, 'footb': 3433, 'goliath': 3778, 'undon': 9552, 'humblest': 4308, 'tribut': 9364, 'generos': 3664, 'scabi': 7812, 'verona': 9811, 'capac': 1291, 'mirror': 5764, 'untrustworthi': 9677, 'islam': 4698, 'stronger': 8692, 'tougher': 9271, 'emphas': 2872, 'ethic': 3000, 'pillow': 6781, 'subtli': 8750, 'indic': 4501, 'breakthrough': 1086, 'immin': 4419, 'hed': 4091, 'knuckl': 5022, 'uneven': 9567, 'oscil': 6408, 'screenwrit': 7875, 'roberto': 7612, 'orci': 6385, 'dubya': 2681, 'pamper': 6532, 'bush': 1207, 'stink': 8632, 'yoke': 10302, 'stupidli': 8721, 'eagl': 2725, 'internship': 4635, 'moe': 5819, 'be': 741, 'jane': 4754, 'eyr': 3134, 'hollow': 4214, 'smith': 8280, 'abou': 25, 'treassur': 9342, 'psych': 7128, 'neither': 6082, 'dickish': 2383, 'enact': 2882, 'succumb': 8756, 'doc': 2545, 'clarifi': 1575, 'feelbut': 3234, 'hardest': 4005, 'minist': 5754, 'beforehand': 774, 'bladder': 910, 'overdo': 6450, 'hmmm': 4187, 'fri': 3535, 'shannon': 8016, 'trainabl': 9306, 'cumberland': 2067, 'pap': 6546, 'smear': 8272, 'hack': 3938, 'splutter': 8496, 'mircowav': 5763, 'cage': 1235, 'constitut': 1837, 'moffat': 5820, 'obviou': 6284, 'foreshadow': 3449, 'narr': 6035, 'reread': 7483, 'empathi': 2869, 'mm': 5805, 'composit': 1762, 'dharma': 2363, 'endless': 2894, 'overland': 6458, 'gloat': 3745, 'fairi': 3156, 'escort': 2978, 'ranbir': 7258, 'ayan': 623, 'mukerji': 5951, 'filmfar': 3293, 'interpret': 4637, 'misunderstood': 5797, 'reexplain': 7374, 'birthmom': 887, 'implement': 4430, 'wild': 10104, 'refin': 7377, 'acuiti': 92, 'feast': 3214, 'knee': 5007, 'memor': 5648, 'grader': 3813, 'wreck': 10219, 'recollect': 7345, 'choke': 1519, 'ordinari': 6390, 'gate': 3637, 'suppress': 8822, 'exhilar': 3081, 'wander': 9937, 'afield': 150, 'btw': 1152, 'playlist': 6838, 'happenst': 3989, 'lambrusco': 5074, 'bubbl': 1154, 'zumba': 10355, 'bearabl': 750, 'prefac': 6983, 'disclaim': 2447, 'peta': 6724, 'hyper': 4340, 'cousin': 1950, 'commerci': 1721, 'exposur': 3106, 'decidedli': 2203, 'humbug': 4309, 'holist': 4210, 'enthusiast': 2931, 'brush': 1145, 'spain': 8437, 'sob': 8334, 'expert': 3097, 'liquid': 5274, 'sephora': 7963, 'miner': 5744, 'powder': 6950, 'magnitud': 5458, 'liebster': 5228, 'equival': 2963, 'crack': 1964, 'cushion': 2090, 'derek': 2304, 'singapor': 8161, 'sara': 7774, 'div': 2525, 'clearboth': 1594, 'pad': 6504, 'restaur': 7507, 'mandarin': 5494, 'grill': 3865, 'stellar': 8608, 'reput': 7480, 'extend': 3110, 'edibl': 2772, 'decor': 2211, 'garnish': 3633, 'samphir': 7758, 'perplex': 6696, 'liam': 5216, 'johnni': 4822, 'everybodi': 3031, 'veil': 9791, 'scrapbook': 7867, 'holli': 4213, 'ingrain': 4546, 'enabl': 2881, 'crumbl': 2041, 'likeguy': 5249, 'aint': 190, 'sin': 8156, 'channel': 1437, 'genealog': 3659, 'strain': 8657, 'rupe': 7699, 'resort': 7500, 'europ': 3013, 'england': 2908, 'stoop': 8646, 'refresh': 7384, 'huhuhu': 4302, 'whizz': 10073, 'legaci': 5166, 'over': 6442, 'hangov': 3983, 'sugari': 8770, 'repercuss': 7464, 'orlean': 6402, 'pc': 6629, 'gt': 3894, 'realist': 7314, 'whiney': 10061, 'strand': 8659, 'tickl': 9164, 'irregardless': 4685, 'remix': 7445, 'padlock': 6505, 'absolutli': 32, 'flourish': 3392, 'centuri': 1406, 'hone': 4237, 'wield': 10094, 'razor': 7293, 'hindsight': 4172, 'withstand': 10153, 'neutral': 6108, 'choir': 1518, 'bog': 989, 'burner': 1202, 'ethnic': 3002, 'racist': 7232, 'lava': 5117, 'planet': 6821, 'export': 3104, 'port': 6917, 'moxi': 5923, 'cath': 1366, 'script': 7878, 'relief': 7427, 'melt': 5642, 'applebe': 416, 'ceo': 1407, 'chain': 1422, 'starv': 8583, 'blender': 926, 'sodden': 8347, 'shatter': 8027, 'sardon': 7781, 'squat': 8536, 'muscl': 5977, 'ivi': 4726, 'zimmerman': 10343, 'prick': 7027, 'alton': 271, 'tower': 9284, 'beak': 746, 'nearest': 6059, 'floor': 3384, 'secondari': 7904, 'rooster': 7642, 'underwhelm': 9545, 'swell': 8875, 'ritalin': 7596, 'flia': 3368, 'expos': 3105, 'recov': 7352, 'amvassago': 310, 'beefi': 768, 'amkri': 294, 'toshibalol': 9260, 'amit': 293, 'epic': 2952, 'beef': 767, 'cake': 1238, 'nooo': 6197, 'doubli': 2596, 'momma': 5837, 'novic': 6231, 'warehous': 9948, 'distributor': 2518, 'floral': 3386, 'stationari': 8592, 'accessori': 54, 'billi': 872, 'ambulatori': 284, 'wacki': 9909, 'percentag': 6675, 'ann': 347, 'coulter': 1929, 'ed': 2768, 'schultz': 7845, 'viewer': 9839, 'tirad': 9198, 'pcm': 6630, 'whip': 10064, 'station': 8591, 'fled': 3359, 'underbelli': 9526, 'central': 1405, 'subway': 8753, 'map': 5519, 'frazzl': 3509, 'meltdown': 5643, 'thrown': 9145, 'euro': 3011, 'hooker': 4250, 'concis': 1782, 'guitar': 3911, 'accur': 67, 'singular': 8164, 'nesti': 6098, 'teeni': 9001, 'weeni': 10004, 'downtempo': 2609, 'melanchol': 5634, 'dm': 2543, 'jeff': 4781, 'xs': 10260, 'coher': 1669, 'grant': 3831, 'cornbread': 1902, 'honey': 4241, 'drip': 2654, 'innat': 4565, 'lavend': 5119, 'orang': 6383, 'substitut': 8748, 'moan': 5806, 'clutter': 1642, 'strasbourg': 8664, 'wore': 10188, 'sketch': 8192, 'seat': 7899, 'spark': 8441, 'curios': 2076, 'prestig': 7008, 'atm': 547, 'cream': 1984, 'deceas': 2197, 'rekindl': 7413, 'phase': 6736, 'circumst': 1560, 'ticket': 9163, 'marten': 5546, 'arugh': 484, 'adomen': 119, 'rice': 7563, 'spontan': 8503, 'errat': 2972, 'swoon': 8887, 'obes': 6273, 'contest': 1856, 'ini': 4554, 'smack': 8263, 'bodega': 982, 'oddli': 6296, 'coin': 1673, 'changer': 1436, 'hatr': 4029, 'juic': 4869, 'veggi': 9787, 'cozi': 1960, 'cocoa': 1656, 'flannel': 3343, 'nighti': 6152, 'evidenc': 3041, 'muse': 5978, 'protest': 7108, 'direspect': 2425, 'alittl': 234, 'quo': 7221, 'traumatis': 9331, 'fraser': 3505, 'submerg': 8738, 'wd': 9978, 'hire': 4178, 'vehicl': 9790, 'iolani': 4672, 'elus': 2839, 'newest': 6120, 'sponsor': 8502, 'rippl': 7590, 'bonu': 1008, 'australia': 582, 'aloft': 253, 'sunni': 8791, 'climat': 1607, 'mate': 5570, 'touchi': 9268, 'feeli': 3235, 'mormon': 5883, 'onscreen': 6352, 'jt': 4857, 'fever': 3261, 'roy': 7664, 'philosophi': 6745, 'salutari': 7754, 'ged': 3650, 'infuri': 4542, 'adequ': 105, 'kassim': 4922, 'selamat': 7927, 'uniform': 9596, 'glove': 3753, 'atleast': 544, 'leaf': 5141, 'clover': 1631, 'clay': 1589, 'masteri': 5565, 'freez': 3521, 'stream': 8671, 'uncommon': 9513, 'sharknado': 8022, 'trade': 9295, 'western': 10030, 'liver': 5294, 'cupcak': 2071, 'bt': 1151, 'thn': 9117, 'cx': 2100, 'adam': 96, 'thorough': 9121, 'preschool': 7000, 'spotless': 8513, 'aesthet': 139, 'bull': 1170, 'skinnyg': 8203, 'sacr': 7724, 'vener': 9798, 'bride': 1100, 'reeeeeeeealli': 7368, 'clog': 1621, 'pore': 6915, 'prompt': 7087, 'valid': 9756, 'someway': 8384, 'manila': 5504, 'prioriti': 7042, 'gold': 3775, 'grass': 3836, 'divid': 2531, 'nonchal': 6187, 'diabet': 2365, 'minc': 5739, 'wheat': 10043, 'pasta': 6596, 'spelt': 8469, 'fruit': 3562, 'sorbet': 8412, 'scari': 7825, 'relev': 7423, 'gross': 3876, 'wind': 10119, 'scatter': 7828, 'strawberri': 8667, 'agiat': 166, 'ami': 290, 'significantli': 8135, 'dollar': 2561, 'mane': 5495, 'lp': 5387, 'diari': 2377, 'dezinesamaz': 2360, 'cavali': 1378, 'dear': 2184, 'ambul': 283, 'hospit': 4270, 'halfway': 3959, 'dam': 2121, 'stanc': 8571, 'chiharu': 1497, 'blind': 930, 'istanbul': 4711, 'homesickish': 4228, 'burger': 1195, 'king': 4987, 'snowpea': 8327, 'nissan': 6167, 'stanza': 8576, 'rt': 7668, 'disrupt': 2497, 'downvot': 2612, 'pagetitl': 6509, 'rugmi': 7686, 'overcom': 6446, 'claustrophob': 1587, 'readmit': 7307, 'collin': 1693, 'finnerti': 3313, 'jan': 4753, 'golden': 3776, 'buuuuuut': 1219, 'rach': 7227, 'subcontin': 8732, 'lighten': 5237, 'umbrella': 9487, 'christin': 1530, 'perus': 6713, 'skull': 8207, 'panick': 6540, 'rins': 7585, 'putrid': 7183, 'flavor': 3355, 'promot': 7086, 'weisman': 10018, 'disney': 2482, 'wallow': 9930, 'bruis': 1142, 'speech': 8464, 'competit': 1749, 'pinnacl': 6793, 'materialist': 5573, 'thoughtless': 9126, 'careeeee': 1314, 'savag': 7802, 'sec': 7902, 'silki': 8140, 'elabor': 2813, 'nitch': 6168, 'sweat': 8861, 'nut': 6254, 'bolt': 996, 'tangl': 8946, 'highschool': 4161, 'stabl': 8554, 'couldv': 1928, 'muaz': 5937, 'abruptli': 29, 'softbal': 8350, 'pelvic': 6657, 'chatter': 1459, 'comper': 1747, 'thwart': 9156, 'immobil': 4420, 'fuss': 3597, 'bestfriend': 834, 'bff': 850, 'coeur': 1662, 'alen': 217, 'restrict': 7511, 'therapeut': 9086, 'spoiler': 8499, 'badass': 650, 'compress': 1767, 'neatli': 6061, 'stuf': 8710, 'extraordinarili': 3119, 'lure': 5418, 'champagn': 1430, 'bestsel': 836, 'kathi': 4927, 'lett': 5205, 'phobia': 6747, 'empatht': 2871, 'mexican': 5691, 'cray': 1980, 'prequel': 6999, 'jedi': 4779, 'queen': 7199, 'tbh': 8973, 'bobo': 980, 'echo': 2758, 'slack': 8211, 'length': 5184, 'januari': 4759, 'wick': 10088, 'acknowledg': 77, 'drum': 2666, 'smash': 8271, 'deploy': 2294, 'addict': 99, 'concentr': 1776, 'homi': 4232, 'kite': 4995, 'shelter': 8039, 'jon': 4833, 'jacqu': 4735, 'forgiven': 3455, 'meath': 5617, 'ping': 6790, 'rudolph': 7681, 'valentino': 9755, 'unspeak': 9659, 'missil': 5785, 'spi': 8474, 'chromosom': 1534, 'conquer': 1814, 'homey': 4231, 'river': 7602, 'toughest': 9272, 'dsp': 2672, 'crunch': 2042, 'softwar': 8352, 'appl': 415, 'ou': 6412, 'strongest': 8693, 'squad': 8534, 'costli': 1920, 'tidbit': 9165, 'cynic': 2105, 'irrat': 4684, 'overreact': 6465, 'amplifi': 306, 'merri': 5673, 'falter': 3164, 'crimin': 2010, 'unza': 9690, 'sarah': 7775, 'xdd': 10251, 'hohoho': 4202, 'foward': 3484, 'tmr': 9209, 'cya': 2101, 'bsc': 1150, 'alli': 243, 'prank': 6965, 'skillzz': 8198, 'hiccup': 4149, 'onset': 6353, 'panic': 6539, 'heathen': 4081, 'swirl': 8884, 'paralys': 6558, 'snore': 8320, 'dreamland': 2638, 'miseri': 5769, 'rag': 7241, 'handbag': 3970, 'sachay': 7721, 'pickl': 6764, 'fridg': 3538, 'passag': 6587, 'strike': 8683, 'fetch': 3259, 'kenni': 4947, 'giggli': 3707, 'sombr': 8373, 'steven': 8618, 'charit': 1449, 'sod': 8345, 'nuclear': 6240, 'canteen': 1284, 'undercurr': 9527, 'subtl': 8749, 'ministri': 5755, 'sold': 8357, 'transgend': 9318, 'brainwash': 1069, 'deceiv': 2198, 'physician': 6757, 'germani': 3683, 'intersex': 4639, 'maggi': 5451, 'vol': 9891, 'humung': 4316, 'feder': 3222, 'dous': 2602, 'freind': 3523, 'asasoulawaken': 490, 'ne': 6055, 'famou': 3171, 'cathart': 1367, 'mychem': 5994, 'cred': 1993, 'backdrop': 640, 'phenomenon': 6739, 'untouch': 9675, 'checklist': 1466, 'thailand': 9062, 'catalyst': 1360, 'doucher': 2599, 'ptsd': 7142, 'burmeist': 1200, 'bold': 994, 'lurk': 5420, 'ivori': 4727, 'furnitur': 3595, 'spaciou': 8435, 'consult': 1844, 'await': 606, 'recept': 7333, 'suppou': 8820, 'hobbl': 4195, 'rack': 7233, 'barefoot': 701, 'seed': 7915, 'soil': 8353, 'delus': 2261, 'denial': 2277, 'counsellor': 1934, 'plummet': 6858, 'tot': 9262, 'paratroop': 6565, 'conduct': 1792, 'mission': 5786, 'occassion': 6288, 'plug': 6857, 'morbid': 5874, 'mu': 5934, 'tou': 9266, 'suppport': 8821, 'usa': 9721, 'dian': 2373, 'von': 9897, 'furstenberg': 3596, 'rodart': 7622, 'jason': 4765, 'wu': 10240, 'sophomor': 8409, 'whack': 10036, 'plung': 6859, 'insensit': 4578, 'latter': 5104, 'drainag': 2624, 'intoler': 4647, 'polar': 6881, 'sour': 8427, 'indigo': 4506, 'dispers': 2488, 'fragment': 3490, 'redicul': 7364, 'idk': 4373, 'crake': 1969, 'woodland': 10182, 'farm': 3186, 'monro': 5857, 'launch': 5110, 'remodel': 7446, 'amen': 286, 'lookout': 5340, 'pr': 6956, 'doer': 2555, 'toll': 9229, 'suppli': 8814, 'leopard': 5193, 'needlessli': 6073, 'variant': 9769, 'supposedli': 8819, 'supplement': 8813, 'litehead': 5283, 'illicit': 4393, 'laser': 5093, 'perserver': 6699, 'squirt': 8545, 'bloat': 936, 'rundown': 7693, 'duno': 2704, 'sloppi': 8244, 'wondrou': 10177, 'creator': 1991, 'maschk': 5555, 'unsavori': 9652, 'cruel': 2038, 'dire': 2420, 'barrier': 712, 'pragmat': 6960, 'bump': 1178, 'usmleasi': 9730, 'pavilion': 6620, 'immigr': 4418, 'provinc': 7117, 'prudent': 7123, 'rear': 7319, 'evangel': 3019, 'absorb': 33, 'quest': 7205, 'revel': 7538, 'ancient': 321, 'tome': 9232, 'strewn': 8678, 'noodl': 6194, 'shackl': 8000, 'norm': 6201, 'pearli': 6640, 'comfi': 1714, 'justansw': 4889, 'viewpoint': 9840, 'goddess': 3770, 'minimum': 5752, 'courtesi': 1947, 'chao': 1439, 'qualifi': 7192, 'venu': 9804, 'turd': 9426, 'bliss': 934, 'toast': 9211, 'stylesheet': 8725, 'css': 2052, 'jdeliveri': 4773, 'chief': 1496, 'ccw': 1385, 'yank': 10269, 'mommi': 5838, 'grew': 3858, 'stroke': 8688, 'baptiz': 693, 'luggag': 5400, 'parcel': 6566, 'timer': 9183, 'shown': 8101, 'evolv': 3045, 'belittl': 793, 'shockingli': 8070, 'elsewher': 2837, 'ibleeditout': 4356, 'kodi': 5024, 'brat': 1077, 'jakun': 4745, 'glam': 3727, 'nuptial': 6250, 'combo': 1708, 'schizofren': 7841, 'maryland': 5552, 'forefront': 3444, 'transport': 9326, 'invad': 4658, 'kinship': 4990, 'mount': 5910, 'nausea': 6049, 'woken': 10168, 'customari': 2094, 'siesta': 8124, 'tbr': 8974, 'workload': 10192, 'gabapentin': 3604, 'zonisamid': 10349, 'enuff': 2942, 'baffroom': 655, 'divulg': 2536, 'awaken': 608, 'musician': 5984, 'prop': 7091, 'glu': 3756, 'freshman': 3533, 'technolog': 8994, 'immers': 4417, 'bfd': 849, 'strictli': 8681, 'jo': 4812, 'bucket': 1156, 'anaesthet': 311, 'spook': 8504, 'spiral': 8484, 'sympathis': 8899, 'bernard': 826, 'code': 1658, 'fanat': 3173, 'yard': 10270, 'ativan': 542, 'dumpe': 2697, 'crushingli': 2046, 'creativeliar': 1990, 'wherein': 10051, 'nonexist': 6191, 'sneakili': 8302, 'ma': 5432, 'pranc': 6963, 'eartha': 2737, 'kitt': 4997, 'blare': 918, 'fervent': 3254, 'bruce': 1141, 'yile': 10293, 'salvat': 7756, 'merciless': 5664, 'miracl': 5761, 'alert': 218, 'guard': 3896, 'unreli': 9645, 'biblic': 858, 'altogeth': 270, 'msm': 5932, 'urgh': 9716, 'campaign': 1265, 'senat': 7942, 'jackson': 4733, 'cnn': 1644, 'flag': 3336, 'tub': 9408, 'divorce': 2535, 'brd': 1081, 'armor': 460, 'san': 7761, 'antonio': 377, 'nl': 6169, 'cog': 1665, 'championship': 1431, 'bowl': 1051, 'procrastin': 7063, 'unresolv': 9646, 'built': 1168, 'reel': 7369, 'sibl': 8114, 'bro': 1118, 'hyperventil': 4345, 'septemb': 7964, 'foodi': 3429, 'occas': 6286, 'airclean': 192, 'michael': 5697, 'epiphani': 2955, 'sublim': 8736, 'theyll': 9097, 'wispi': 10144, 'vibe': 9823, 'scheme': 7839, 'organiz': 6394, 'masochist': 5559, 'flip': 3376, 'leak': 5144, 'paid': 6512, 'stagnat': 8561, 'fullest': 3579, 'sheri': 8042, 'lotteri': 5362, 'itd': 4715, 'misbehavior': 5765, 'argu': 449, 'vampir': 9760, 'mayhem': 5590, 'vale': 9753, 'transient': 9319, 'jacket': 4732, 'mesh': 5675, 'fare': 3183, 'gandhigiri': 3624, 'euphoria': 3009, 'sourc': 8428, 'munnabhai': 5969, 'inescap': 4518, 'hindu': 4173, 'quiltcon': 7215, 'lizzi': 5298, 'pinterest': 6796, 'canning': 1279, 'tomato': 9231, 'obsess': 6281, 'martinez': 5549, 'sage': 7739, 'headachi': 4048, 'blah': 912, 'taboo': 8916, 'overs': 6467, 'tee': 8998, 'baggi': 660, 'pant': 6543, 'streak': 8669, 'smallest': 8266, 'hehe': 4098, 'aiiiiighhhht': 185, 'monogam': 5854, 'web': 9993, 'advertis': 134, 'greatest': 3849, 'contradictori': 1865, 'gasp': 3635, 'marybeth': 5551, 'isabella': 4696, 'groundless': 3882, 'dlk': 2541, 'butttt': 1218, 'semuanya': 7941, 'sudah': 8761, 'terlambat': 9034, 'dan': 2128, 'african': 155, 'healer': 4059, 'xbla': 10249, 'soni': 8391, 'elder': 2817, 'pelvi': 6656, 'complaini': 1753, 'soap': 8332, 'menu': 5661, 'repetet': 7465, 'testicl': 9049, 'decreas': 2212, 'urin': 9717, 'semen': 7936, 'norah': 6199, 'jone': 4837, 'multitud': 5961, 'omega': 6337, 'revers': 7543, 'weightlessli': 10011, 'raphael': 7269, 'laiya': 5070, 'jennif': 4786, 'scamper': 7816, 'unintent': 9605, 'alfr': 223, 'molina': 5829, 'dimension': 2405, 'caricatur': 1324, 'intervent': 4642, 'behalf': 782, 'int': 4607, 'citizen': 1563, 'knowleg': 5020, 'wanderlust': 9938, 'loquaci': 5349, 'hunter': 4325, 'dung': 2700, 'taller': 8938, 'coca': 1652, 'cola': 1676, 'warhound': 9950, 'model': 5813, 'fieldi': 3276, 'scroll': 7880, 'envi': 2944, 'twentysometh': 9447, 'stinki': 8633, 'raven': 7287, 'manuscript': 5518, 'report': 7471, 'fellowship': 3242, 'tighter': 9174, 'grief': 3861, 'jess': 4795, 'tought': 9273, 'fold': 3418, 'diwali': 2537, 'spurn': 8532, 'sitter': 8179, 'itali': 4712, 'wheel': 10045, 'dreami': 2637, 'cyber': 2102, 'slut': 8260, 'throne': 9141, 'shade': 8001, 'sabotag': 7719, 'bedriacum': 763, 'henrietta': 4121, 'ariel': 452, 'chelmsford': 1476, 'sprint': 8527, 'regist': 7394, 'undoubtedli': 9553, 'pundit': 7161, 'vinegari': 9849, 'calli': 1249, 'submarin': 8737, 'cartwheel': 1343, 'ankl': 345, 'board': 974, 'pointless': 6877, 'uneffect': 9562, 'destash': 2327, 'sai': 7740, 'procedur': 7059, 'demon': 2269, 'cinderalla': 1551, 'prizecompetit': 7051, 'scoop': 7856, 'republican': 7478, 'overload': 6461, 'spinach': 8481, 'feta': 3258, 'cranberri': 1972, 'salad': 7746, 'balsam': 676, 'viniagrett': 9851, 'unemot': 9563, 'marriag': 5542, 'salt': 7751, 'preserv': 7004, 'heartburn': 4073, 'tilt': 9178, 'coerciv': 1661, 'pushi': 7177, 'packet': 6503, 'korean': 5031, 'italian': 4713, 'sleek': 8222, 'smoother': 8286, 'reveng': 7539, 'blaster': 919, 'caregiv': 1318, 'laughabl': 5108, 'flatten': 3352, 'sluggish': 8254, 'tychel': 9462, 'thepag': 9083, 'evil': 3042, 'william': 10111, 'natasha': 6042, 'gan': 3622, 'sued': 8765, 'chadston': 1420, 'tonit': 9244, 'ethiopia': 3001, 'metier': 5688, 'aris': 453, 'quirki': 7216, 'doodli': 2578, 'trendi': 9354, 'piou': 6798, 'uppiti': 9704, 'montagu': 5859, 'tale': 8933, 'rmb': 7604, 'matern': 5574, 'disgruntl': 2467, 'dick': 2380, 'hobb': 4193, 'rebecca': 7324, 'mcpherson': 5601, 'bgr': 851, 'steadi': 8599, 'dylan': 2719, 'bet': 837, 'parodi': 6574, 'dorama': 2586, 'aaaaand': 2, 'treadmil': 9341, 'cutesi': 2097, 'pg': 6733, 'roundli': 7659, 'ravag': 7285, 'painless': 6516, 'ellipt': 2834, 'theyv': 9099, 'ambit': 280, 'abc': 11, 'statur': 8595, 'lauren': 5115, 'superman': 8805, 'knitter': 5014, 'apathi': 395, 'teeter': 9002, 'apothecari': 406, 'nomine': 6184, 'scotland': 7861, 'intro': 4649, 'fff': 3266, 'trebuchet': 9347, 'ms': 5930, 'helvetica': 4116, 'bitstream': 896, 'vera': 9805, 'sucker': 8759, 'discern': 2443, 'sack': 7723, 'woodi': 10181, 'allen': 238, 'jim': 4807, 'brook': 1129, 'mundan': 5968, 'paperwork': 6552, 'bureaucrat': 1193, 'clung': 1639, 'heav': 4083, 'unrest': 9648, 'warp': 9959, 'dalla': 2120, 'californian': 1246, 'stump': 8715, 'legitem': 5171, 'saint': 7744, 'dust': 2711, 'cluster': 1640, 'profoundli': 7074, 'joint': 4827, 'backach': 639, 'majorli': 5472, 'ol': 6323, 'feefyefo': 3232, 'blabber': 904, 'transpar': 9324, 'sanctiti': 7762, 'span': 8438, 'webkit': 9994, 'auto': 589, 'inlin': 4562, 'swept': 8876, 'mistreat': 5794, 'kook': 5029, 'lloyd': 5302, 'grossman': 3878, 'ditch': 2522, 'vuitton': 9904, 'lv': 5426, 'grandpar': 3828, 'impression': 4444, 'sonipro': 8393, 'geekparti': 3652, 'linkedin': 5264, 'tumblr': 9418, 'nofollow': 6176, 'penn': 6665, 'sift': 8125, 'mound': 5909, 'atari': 530, 'taker': 8932, 'cdn': 1388, 'entrust': 2941, 'gush': 3922, 'jani': 4756, 'sander': 7766, 'gander': 3623, 'donut': 2575, 'mac': 5433, 'conform': 1802, 'priu': 7045, 'al': 204, 'gore': 3792, 'patagonia': 6599, 'alaska': 208, 'insidi': 4581, 'rout': 7660, 'warrick': 9960, 'naiveti': 6017, 'artwork': 483, 'effici': 2791, 'joan': 4813, 'demonstr': 2270, 'specimen': 8459, 'glisten': 3742, 'accentu': 50, 'steril': 8615, 'brim': 1110, 'devic': 2350, 'can': 1269, 'yeast': 10285, 'infect': 4526, 'vagina': 9750, 'gal': 3611, 'swung': 8890, 'flatter': 3353, 'spring': 8521, 'enrich': 2922, 'earthquak': 2739, 'christchurch': 1528, 'zealand': 10332, 'depart': 2289, 'northwestern': 6207, 'superstorm': 8810, 'sandi': 7767, 'novemb': 6230, 'eagleandhamm': 2726, 'reserv': 7488, 'bam': 679, 'shimmi': 8054, 'ing': 4544, 'whitney': 10072, 'absenc': 30, 'tempura': 9021, 'sunda': 8787, 'pine': 6787, 'unlock': 9618, 'estrang': 2993, 'batman': 728, 'crystal': 2051, 'radiat': 7237, 'admittedli': 116, 'dearli': 2185, 'remedi': 7439, 'highlight': 4160, 'carrot': 1336, 'mush': 5980, 'clip': 1614, 'gere': 3679, 'robert': 7611, 'boutiqu': 1047, 'condescend': 1788, 'lea': 5135, 'pleasent': 6847, 'monetarili': 5846, 'kakashi': 4904, 'antisoci': 374, 'creatur': 1992, 'cooper': 1887, 'rapist': 7272, 'rigor': 7578, 'manifest': 5503, 'signific': 8134, 'toddlerhood': 9218, 'primetim': 7034, 'notch': 6215, 'etsi': 3004, 'xma': 10257, 'goodi': 3785, 'eschew': 2977, 'forag': 3435, 'palat': 6524, 'messian': 5680, 'bicep': 860, 'sprinkl': 8526, 'historian': 4182, 'strap': 8663, 'sturdi': 8723, 'patrick': 6609, 'averi': 599, 'nightli': 6153, 'clueless': 1636, 'meaning': 5610, 'squar': 8535, 'caf': 1231, 'lupron': 5417, 'budget': 1160, 'spreadsheet': 8520, 'someplac': 8380, 'whir': 10065, 'stir': 8636, 'likeabl': 5247, 'amish': 291, 'mda': 5605, 'telethon': 9007, 'agonis': 173, 'solo': 8366, 'bookstor': 1013, 'shelf': 8037, 'continent': 1859, 'pure': 7168, 'asbesto': 491, 'ifram': 4380, 'allowfullscreen': 248, 'framebord': 3495, 'gm': 3761, 'insati': 4574, 'digit': 2396, 'rabbit': 7224, 'alphabet': 260, 'rose': 7646, 'jsk': 4856, 'lolita': 5324, 'austen': 580, 'hydrat': 4336, 'psychic': 7130, 'galvanis': 3617, 'pin': 6785, 'nanashi': 6026, 'bill': 871, 'pyongyang': 7187, 'preceptor': 6973, 'gleefulli': 3738, 'marshmallow': 5544, 'luh': 5401, 'oversea': 6468, 'sceneri': 7832, 'mudder': 5943, 'closur': 1626, 'luminari': 5407, 'swinelord': 8881, 'delux': 2262, 'insomnia': 4587, 'ji': 4802, 'kin': 4978, 'spore': 8507, 'mailord': 5465, 'kome': 5026, 'til': 9176, 'deffin': 2235, 'berat': 823, 'reproduc': 7475, 'analys': 314, 'mariah': 5531, 'carey': 1322, 'splash': 8491, 'threat': 9129, 'woeful': 10165, 'toter': 9265, 'ds': 2670, 'rd': 7294, 'dd': 2173, 'angst': 338, 'yelp': 10288, 'wantd': 9941, 'uw': 9744, 'uwilnevrknow': 9745, 'reset': 7489, 'milonga': 5733, 'deplet': 2293, 'acclim': 57, 'traffic': 9299, 'match': 5569, 'susan': 8841, 'gape': 3627, 'smoothi': 8287, 'vegan': 9784, 'dynam': 2720, 'bio': 876, 'flail': 3338, 'gaia': 3608, 'potter': 6944, 'bridget': 1103, 'bunnysuit': 1188, 'entranc': 2937, 'admitt': 115, 'chast': 1456, 'persom': 6703, 'wickdli': 10089, 'deodor': 2288, 'snob': 8314, 'stumbleupon': 8714, 'ssba': 8550, 'alt': 265, 'mr': 5927, 'elementari': 2824, 'coerc': 1660, 'lunchroom': 5414, 'likelihood': 5250, 'wobbl': 10162, 'projector': 7081, 'displeas': 2491, 'musti': 5989, 'grimac': 3867, 'yknow': 10298, 'vegitarian': 9788, 'district': 2519, 'joyou': 4852, 'katniss': 4931, 'happiu': 3994, 'absurd': 37, 'chalk': 1427, 'pigeon': 6774, 'uninhabit': 9601, 'spout': 8517, 'muck': 5939, 'galliv': 3615, 'intermin': 4629, 'bout': 1046, 'lapel': 5086, 'spectacl': 8460, 'steroid': 8616, 'beacus': 744, 'scratcheveryth': 7870, 'blackpool': 908, 'holloway': 4215, 'seafood': 7891, 'paella': 6506, 'sangria': 7771, 'recreat': 7354, 'unwillingli': 9686, 'willingli': 10113, 'unpaid': 9628, 'gambia': 3618, 'sup': 8797, 'therapist': 9088, 'presum': 7010, 'necess': 6062, 'presupposit': 7011, 'clown': 1632, 'fling': 3375, 'unfurl': 9586, 'junior': 4885, 'ta': 8910, 'jz': 4897, 'unattract': 9496, 'anonym': 358, 'submit': 8740, 'apathet': 394, 'zack': 10325, 'lola': 5323, 'demograph': 2268, 'dt': 2673, 'cc': 1384, 'handedli': 3973, 'lawn': 5123, 'relentlessli': 7422, 'paig': 6513, 'deke': 2250, 'gel': 3654, 'residu': 7493, 'brownish': 1138, 'tint': 9195, 'bodyguard': 985, 'sting': 8631, 'cologn': 1694, 'johann': 4820, 'accompani': 60, 'khartoum': 4961, 'descara': 2308, 'thebalm': 9076, 'nude': 6241, 'tude': 9413, 'palett': 6527, 'broomfield': 1132, 'grim': 3866, 'laughter': 5109, 'heavier': 4087, 'pe': 6631, 'janin': 4757, 'inflict': 4533, 'optim': 6379, 'jun': 4881, 'crone': 2022, 'nao': 6030, 'sir': 8170, 'mba': 5593, 'fleet': 3362, 'triumph': 9378, 'eloqu': 2835, 'array': 467, 'legard': 5168, 'penni': 6666, 'soapbox': 8333, 'whiff': 10055, 'unnotic': 9627, 'burrow': 1205, 'ny': 6260, 'sweater': 8862, 'lowest': 5382, 'hotshot': 4277, 'lunajubile': 5409, 'mcdonald': 5598, 'pete': 6725, 'edochi': 2780, 'olajideolafunmbi': 6324, 'fiddli': 3274, 'canvas': 1288, 'egalitarian': 2796, 'jonalyn': 4835, 'fincher': 3302, 'soulat': 8420, 'shouldv': 8094, 'compartmentalis': 1740, 'flick': 3369, 'dial': 2369, 'twd': 9441, 'dual': 2674, 'tediou': 8997, 'superhero': 8803, 'nelli': 6083, 'lesli': 5194, 'whimsic': 10059, 'photoshoot': 6753, 'hairstyl': 3954, 'droop': 2660, 'frizz': 3548, 'straightforward': 8656, 'appeal': 410, 'envou': 2950, 'tomfooleri': 9233, 'shenanigan': 8041, 'crisp': 2015, 'twin': 9450, 'pee': 6647, 'diaper': 2376, 'blade': 911, 'thinner': 9110, 'ash': 494, 'stench': 8611, 'greasi': 3845, 'mode': 5812, 'tail': 8924, 'cesspool': 1415, 'metaphor': 5684, 'michigan': 5699, 'governor': 3804, 'prostitut': 7104, 'simplifi': 8153, 'castanet': 1354, 'raposa': 7273, 'crest': 2002, 'dirt': 2426, 'idl': 4374, 'snooz': 8318, 'teng': 9027, 'weapon': 9985, 'riot': 7586, 'calori': 1254, 'intak': 4609, 'fiddl': 3273, 'liveagainsttheflow': 5292, 'geniu': 3666, 'cruis': 2040, 'duluth': 2691, 'rape': 7268, 'systemat': 8909, 'assassin': 511, 'callou': 1250, 'unfaith': 9573, 'estim': 2992, 'nepali': 6089, 'german': 3682, 'tith': 9204, 'ath': 535, 'afp': 152, 'forehead': 3446, 'scrunch': 7882, 'wrinkl': 10223, 'robot': 7614, 'scan': 7817, 'seiz': 7926, 'dishonor': 2472, 'eerili': 2784, 'parallel': 6557, 'flexi': 3365, 'minor': 5756, 'dew': 2358, 'south': 8429, 'cassandra': 1350, 'attic': 560, 'barn': 707, 'ginger': 3714, 'abelard': 15, 'instagram': 4591, 'unus': 9678, 'pgce': 6734, 'symbol': 8895, 'eater': 2752, 'gina': 3713, 'misgiv': 5771, 'bandaid': 683, 'cap': 1289, 'ryodan': 7715, 'alight': 230, 'bellmen': 797, 'adress': 124, 'undeservedli': 9547, 'eddi': 2769, 'eg': 2795, 'rapport': 7274, 'sacrif': 7725, 'net': 6100, 'whistl': 10069, 'grossli': 3877, 'campu': 1267, 'runni': 7696, 'nose': 6208, 'ebook': 2757, 'mighti': 5713, 'roar': 7608, 'forego': 3445, 'futon': 3599, 'paparazzi': 6549, 'zq': 10352, 'jcho': 4772, 'cpine': 1961, 'ailment': 186, 'prelim': 6991, 'math': 5575, 'limbo': 5255, 'poggi': 6873, 'cambodia': 1259, 'lax': 5126, 'bi': 853, 'expload': 3100, 'unment': 9621, 'uniti': 9610, 'rehears': 7403, 'per': 6673, 'varnish': 9773, 'brazilian': 1080, 'calmer': 1252, 'aftermath': 157, 'laura': 5114, 'gilbert': 3709, 'theybf': 9095, 'whore': 10085, 'sniiiiifff': 8310, 'freeli': 3519, 'telstra': 9010, 'pessimist': 6719, 'carson': 1339, 'sooo': 8399, 'happili': 3993, 'bob': 978, 'abstract': 36, 'stroll': 8689, 'transform': 9317, 'anesthet': 331, 'bunion': 1185, 'baba': 629, 'madr': 5446, 'harri': 4013, 'sinu': 8167, 'bail': 663, 'stereotyp': 8614, 'incorrect': 4488, 'complex': 1757, 'ted': 8995, 'simplic': 8152, 'sneez': 8303, 'shave': 8029, 'decaf': 2195, 'whoop': 10083, 'holler': 4212, 'constip': 1836, 'yhhhay': 10292, 'femm': 3248, 'fatal': 3195, 'britney': 1115, 'corey': 1899, 'fourth': 3483, 'bottl': 1033, 'reckless': 7338, 'shrug': 8106, 'territori': 9044, 'bureaucraci': 1192, 'regiment': 7392, 'deede': 2217, 'curious': 2078, 'sophist': 8408, 'midterm': 5709, 'scold': 7854, 'sobrieti': 8336, 'eateri': 2753, 'monster': 5858, 'ecstasi': 2765, 'nightmarish': 6156, 'prospect': 7102, 'permeat': 6691, 'blindli': 931, 'disinterest': 2476, 'estat': 2990, 'proceed': 7060, 'accustom': 69, 'dominican': 2565, 'brooklyn': 1130, 'latch': 5096, 'riva': 7600, 'harvey': 4018, 'weinstein': 10013, 'patron': 6612, 'patriot': 6611, 'cautious': 1377, 'md': 5604, 'guidanc': 3904, 'weav': 9992, 'prowl': 7121, 'jungl': 4884, 'steam': 8602, 'hummpffff': 4313, 'winterpaysforsumm': 10132, 'eurovis': 3015, 'sh': 7998, 'versu': 9815, 'harmoni': 4011, 'veer': 9782, 'tatsuma': 8964, 'aoi': 390, 'ron': 7637, 'rite': 7597, 'flashback': 3347, 'hypocrit': 4349, 'palin': 6528, 'matti': 5580, 'unexplain': 9570, 'canon': 1281, 'iii': 4389, 'mummi': 5965, 'toilet': 9226, 'cliniqu': 1612, 'ff': 3264, 'ashlott': 498, 'talim': 8935, 'costum': 1921, 'gucci': 3898, 'jeer': 4780, 'peak': 6636, 'housebound': 4282, 'peckish': 6642, 'mica': 5695, 'slash': 8217, 'kuwait': 5045, 'approv': 426, 'coward': 1956, 'grandchildren': 3821, 'revolv': 7549, 'ew': 3046, 'maze': 5592, 'preclud': 6977, 'derbi': 2302, 'detoxifi': 2344, 'iw': 4729, 'outlandish': 6426, 'unrespons': 9647, 'driftingthroughlif': 2649, 'ffviii': 3267, 'liquor': 5275, 'compagnon': 1735, 'rip': 7588, 'persever': 6701, 'crotch': 2029, 'copper': 1894, 'snowboard': 8324, 'betti': 841, 'jolt': 4832, 'dh': 2361, 'diagnosi': 2366, 'generalis': 3663, 'compound': 1764, 'joie': 4825, 'de': 2174, 'vivr': 9878, 'jumbleupon': 4877, 'discipl': 2445, 'regurgit': 7402, 'eva': 3016, 'wow': 10216, 'frenh': 3526, 'tutor': 9435, 'dontt': 2574, 'manipul': 5505, 'beij': 788, 'horror': 4267, 'plural': 6860, 'snarki': 8300, 'disinfect': 2475, 'commut': 1733, 'reliabl': 7425, 'sauna': 7799, 'goldilock': 3777, 'gameplay': 3620, 'disdain': 2462, 'busier': 1209, 'melodi': 5639, 'asd': 493, 'repairman': 7459, 'wimp': 10115, 'survey': 8838, 'onel': 6346, 'emin': 2858, 'mushroom': 5982, 'pizza': 6813, 'pitcher': 6809, 'rhetor': 7556, 'conscienti': 1817, 'lunchtim': 5415, 'dao': 2139, 'ethan': 2999, 'fanci': 3174, 'alabama': 205, 'todd': 9216, 'caleb': 1241, 'disorient': 2486, 'queasi': 7198, 'frumpi': 3563, 'forgav': 3452, 'establish': 2989, 'peregrino': 6679, 'iri': 4680, 'arc': 437, 'gwen': 3928, 'stacey': 8555, 'freakin': 3512, 'heap': 4064, 'orthodox': 6405, 'duplex': 2707, 'dsl': 2671, 'wireless': 10138, 'blair': 913, 'admin': 110, 'homepag': 4225, 'keyword': 4958, 'cru': 2033, 'declin': 2208, 'elect': 2819, 'liverpool': 5295, 'taunt': 8968, 'frailti': 3493, 'exterior': 3113, 'masculin': 5556, 'upstream': 9709, 'strip': 8685, 'ole': 6329, 'alec': 216, 'liar': 5217, 'stab': 8553, 'unattain': 9495, 'flighti': 3373, 'ignit': 4385, 'knowingli': 5018, 'wist': 10145, 'alexi': 222, 'ego': 2800, 'wah': 9914, 'aryan': 487, 'pent': 6668, 'pleasur': 6848, 'foment': 3425, 'saddl': 7730, 'slap': 8216, 'boil': 992, 'limpli': 5257, 'aspi': 508, 'iq': 4676, 'seven': 7987, 'earliest': 2732, 'dawn': 2162, 'tbt': 8975, 'strait': 8658, 'atmospher': 548, 'stubbornli': 8703, 'roundabout': 7657, 'annoyingli': 354, 'murmur': 5973, 'skinner': 8201, 'seduc': 7913, 'con': 1773, 'conniv': 1812, 'sensori': 7953, 'stoic': 8639, 'icki': 4361, 'cite': 1561, 'scarc': 7821, 'legal': 5167, 'tatter': 8965, 'boredom': 1022, 'briton': 1116, 'monogram': 5855, 'thicker': 9102, 'mascara': 5554, 'dub': 2676, 'apendag': 399, 'tantrum': 8950, 'hobnob': 4197, 'douch': 2598, 'cano': 1280, 'acn': 78, 'karen': 4916, 'bohemian': 991, 'beachi': 743, 'haiku': 3949, 'devin': 2352, 'inher': 4551, 'gender': 3657, 'leas': 5152, 'superfici': 8802, 'moder': 5814, 'twat': 9440, 'conduc': 1791, 'comeback': 1710, 'willi': 10110, 'nilli': 6162, 'uhuru': 9479, 'persecut': 6698, 'martha': 5547, 'karua': 4921, 'essay': 2986, 'cautiou': 1376, 'ryan': 7711, 'spat': 8448, 'anchorag': 320, 'imagebox': 4401, 'hurtl': 4330, 'jersey': 4794, 'drown': 2663, 'swamp': 8855, 'unfeel': 9575, 'humanb': 4305, 'pollut': 6892, 'luxuri': 5425, 'deer': 2226, 'mice': 5696, 'parad': 6555, 'permalink': 6688, 'thoma': 9119, 'spasm': 8447, 'diarrhea': 2378, 'defriend': 2244, 'fee': 3226, 'frank': 3499, 'workshop': 10196, 'werner': 10027, 'convey': 1874, 'khi': 4964, 'au': 567, 'ng': 6130, 'rephras': 7467, 'heidi': 4100, 'unspoilt': 9661, 'ladder': 5061, 'documentari': 2550, 'void': 9889, 'usari': 9724, 'parlor': 6572, 'hamburg': 3964, 'steak': 8600, 'oooh': 6359, 'achi': 73, 'ident': 4368, 'mia': 5694, 'fob': 3410, 'telegram': 9004, 'anniversari': 350, 'guardian': 3897, 'indiscrimin': 4508, 'jaeryong': 4739, 'jungeun': 4883, 'barbequ': 696, 'sensationalist': 7950, 'connecticut': 1811, 'polyvor': 6894, 'advent': 130, 'muslim': 5986, 'bent': 821, 'thaliad': 9064, 'environment': 2948, 'lex': 5211, 'misti': 5793, 'bombard': 998, 'notci': 6216, 'wildli': 10106, 'copycat': 1895, 'unappreci': 9494, 'earplug': 2734, 'okc': 6322, 'eharmoni': 2803, 'meaningless': 5611, 'rrreeaallyy': 7667, 'tracifishbowl': 9291, 'ian': 4354, 'flame': 3341, 'supervisor': 8812, 'shook': 8075, 'pioneer': 6797, 'eve': 3022, 'roomat': 7640, 'shermin': 8044, 'joey': 4817, 'surmis': 8831, 'sitcom': 8176, 'predecessor': 6980, 'baggag': 659, 'renaiss': 7451, 'baroqu': 709, 'jami': 4752, 'inanim': 4458, 'purg': 7170, 'dunstabl': 2705, 'preposter': 6998, 'slope': 8243, 'triall': 9360, 'entitil': 2935, 'unwis': 9688, 'spooki': 8505, 'matin': 5577, 'stewart': 8620, 'legion': 5170, 'dpn': 2616, 'sleepi': 8224, 'diamond': 2372, 'richi': 7566, 'taylor': 8971, 'swift': 8877, 'mingl': 5746, 'stupor': 8722, 'wildstar': 10108, 'empath': 2867, 'yummi': 10320, 'leftov': 5164, 'tonguey': 9241, 'bud': 1157, 'clit': 1617, 'aa': 0, 'shona': 8074, 'abstin': 35, 'specialist': 8456, 'sinus': 8168, 'sloshi': 8245, 'deepen': 2221, 'murt': 5975, 'clarinet': 1576, 'strop': 8695, 'instil': 4598, 'quiver': 7219, 'growth': 3888, 'acceler': 48, 'flicker': 3370, 'herald': 4124, 'gluten': 3758, 'mediocr': 5625, 'nestl': 6099, 'segment': 7924, 'sundri': 8789, 'fog': 3414, 'blogstalk': 948, 'datey': 2156, 'commonplac': 1730, 'revi': 7545, 'jet': 4797, 'locker': 5312, 'dom': 2562, 'tide': 9166, 'calvaryccv': 1256, 'captiv': 1297, 'formul': 3463, 'fraction': 3487, 'nakahara': 6018, 'mai': 5460, 'mightili': 5714, 'scandal': 7818, 'nfl': 6129, 'fingernail': 3307, 'fro': 3549, 'playoff': 6839, 'ruslan': 7703, 'fedotenko': 3224, 'aroma': 462, 'bhubaneswar': 852, 'orissa': 6400, 'evan': 3018, 'captain': 1295, 'donor': 2571, 'cdm': 1387, 'flac': 3334, 'custod': 2092, 'alibi': 227, 'download': 2605, 'resum': 7513, 'premium': 6993, 'philippin': 6743, 'prime': 7032, 'varieti': 9771, 'gosh': 3796, 'pat': 6598, 'bertram': 830, 'ptbertram': 7138, 'pawn': 6622, 'countless': 1940, 'pervert': 6716, 'abnorm': 21, 'stake': 8564, 'feeder': 3230, 'endzon': 2899, 'itsi': 4721, 'bitsi': 895, 'vogu': 9886, 'summari': 8781, 'uganda': 9472, 'sheepish': 8034, 'workmat': 10193, 'transcrib': 9315, 'accus': 68, 'tak': 8927, 'dryer': 2669, 'backfir': 641, 'solondz': 8368, 'gimmick': 3712, 'hackl': 3939, 'tia': 9159, 'gaga': 3607, 'seventi': 7988, 'twosong': 9457, 'cent': 1402, 'prupos': 7124, 'dink': 2413, 'prettymuch': 7017, 'acronym': 82, 'plate': 6828, 'werent': 10026, 'antipasti': 372, 'mozzarella': 5925, 'proscuito': 7098, 'cottag': 1922, 'blogspot': 947, 'twitch': 9453, 'fb': 3211, 'siren': 8171, 'pakistan': 6521, 'debri': 2192, 'compil': 1750, 'carcenogen': 1307, 'illus': 4396, 'declar': 2207, 'songi': 8390, 'camilla': 1262, 'vein': 9792, 'cab': 1226, 'cuti': 2098, 'spoon': 8506, 'mathemat': 5576, 'exhilir': 3082, 'tpt': 9288, 'aversari': 601, 'gunk': 3918, 'treader': 9340, 'hardcov': 4002, 'weightloss': 10012, 'chef': 1475, 'academi': 45, 'devour': 2357, 'profound': 7073, 'yuck': 10319, 'entrench': 2938, 'gerrymand': 3684, 'reelect': 7370, 'gabriella': 3605, 'embark': 2847, 'biscuit': 888, 'sonam': 8388, 'genelia': 3660, 'tubelight': 9410, 'glossi': 3752, 'bra': 1058, 'edith': 2776, 'stoner': 8644, 'me': 5606, 'emotionali': 2865, 'bareminer': 702, 'inhal': 4550, 'muay': 5936, 'thai': 9061, 'mall': 5484, 'weirdo': 10017, 'peep': 6650, 'kangna': 4910, 'ranaut': 7257, 'invis': 4668, 'chunk': 1541, 'hum': 4303, 'dubstep': 2680, 'thunder': 9152, 'kindergarten': 4984, 'vm': 9881, 'superduperr': 8801, 'blurt': 971, 'obstacl': 6282, 'leaden': 5137, 'coldsor': 1681, 'rank': 7263, 'antic': 368, 'carolina': 1332, 'vastli': 9778, 'intimaci': 4645, 'lifetim': 5234, 'rut': 7708, 'abstain': 34, 'ashley': 497, 'rommel': 7636, 'horizont': 4258, 'guru': 3921, 'persuas': 6711, 'phenomena': 6738, 'axel': 621, 'comp': 1734, 'bug': 1166, 'buzz': 1221, 'shortag': 8083, 'portabl': 6918, 'compat': 1744, 'cohes': 1670, 'arist': 454, 'luca': 5393, 'aaron': 6, 'dorothi': 2591, 'kelsey': 4944, 'machineri': 5439, 'rememberi': 7441, 'marillac': 5533, 'residenti': 7492, 'freezer': 3522, 'nostril': 6213, 'histor': 4180, 'method': 5686, 'gig': 3704, 'march': 5524, 'biopsi': 881, 'unfocus': 9578, 'swaddl': 8852, 'woefulli': 10166, 'illog': 4395, 'mysalvagedtreasur': 5997, 'hunger': 4321, 'wherebi': 10049, 'detatch': 2335, 'grandson': 3829, 'sled': 8221, 'refrain': 7381, 'acquaint': 80, 'makin': 5478, 'cineplex': 1555, 'passersbi': 6591, 'surf': 8826, 'broom': 1131, 'scrub': 7881, 'vinegar': 9848, 'newspap': 6124, 'cooler': 1884, 'holden': 4204, 'caulfield': 1373, 'ordeal': 6386, 'rent': 7456, 'enamour': 2883, 'porcelain': 6913, 'tap': 8951, 'cgi': 1417, 'starter': 8581, 'refriger': 7385, 'bonka': 1006, 'neva': 6109, 'fa': 3135, 'illinoi': 4394, 'horrend': 4262, 'pristin': 7044, 'mortuari': 5892, 'compasion': 1741, 'greiv': 3857, 'slung': 8258, 'embalm': 2844, 'mbourgon': 5594, 'suscept': 8843, 'caretak': 1321, 'celebratori': 1393, 'gona': 3780, 'decrib': 2213, 'congest': 1805, 'enchant': 2886, 'evar': 3021, 'bc': 740, 'heartbeat': 4070, 'classwork': 1586, 'dittmar': 2524, 'chendol': 1482, 'kacang': 4899, 'facil': 3143, 'ivspirit': 4728, 'translatethi': 9323, 'intercessor': 4622, 'da': 2109, 'bul': 1169, 'taewuhbeoryeo': 8921, 'niga': 6146, 'ulbujitneun': 9482, 'nal': 6021, 'ah': 177, 'neoneun': 6088, 'wiheomha': 10100, 'ttaekkaji': 9405, 'gatsseo': 3642, 'woooo': 10185, 'becuz': 761, 'denim': 2278, 'shandur': 8015, 'polo': 6893, 'tweet': 9444, 'dudley': 2685, 'dursley': 2710, 'corneliu': 1903, 'fudg': 3571, 'minerva': 5745, 'mcgonnagal': 5600, 'nevil': 6114, 'longbottom': 5332, 'pettigrew': 6731, 'oliv': 6330, 'frequenc': 3527, 'neuroticworkahol': 6107, 'twa': 9439, 'bedsid': 765, 'magi': 5452, 'herod': 4133, 'audac': 570, 'fifth': 3280, 'yearbook': 10281, 'commemor': 1719, 'rudi': 7679, 'autom': 591, 'memset': 5650, 'pocket': 6866, 'tab': 8911, 'trafford': 9300, 'stamford': 8568, 'grudgingli': 3890, 'uncharacterist': 9507, 'enliven': 2915, 'rockabilli': 7616, 'juici': 4870, 'unreason': 9643, 'lent': 5189, 'insuffici': 4603, 'snuck': 8328, 'snoop': 8316, 'indigest': 4505, 'guitarist': 3912, 'loopi': 5344, 'angi': 335, 'unmitig': 9622, 'carol': 1331, 'atletico': 546, 'clasheen': 1580, 'nicola': 6143, 'keepmeinstitchez': 4940, 'matur': 5582, 'usain': 9723, 'intrud': 4653, 'griff': 3864, 'retreat': 7523, 'schindler': 7840, 'chamber': 1429, 'ghost': 3699, 'trav': 9332, 'mope': 5872, 'onion': 6349, 'cosmet': 1915, 'sasuk': 7786, 'moriarti': 5880, 'horrifi': 4266, 'bridal': 1099, 'steinbeck': 8607, 'broadcast': 1120, 'protocol': 7110, 'handsomefamili': 3979, 'snidey': 8306, 'soooooooooooo': 8404, 'bibliographi': 859, 'bachelorett': 637, 'engrain': 2910, 'prejud': 6989, 'montana': 5860, 'nick': 6138, 'colbert': 1677, 'owen': 6485, 'morgan': 5878, 'undertak': 9539, 'lemoni': 5179, 'vanilla': 9763, 'buttermilk': 1216, 'deprec': 2297, 'multitask': 5960, 'destin': 2328, 'feverish': 3262, 'prematur': 6992, 'gray': 3842, 'demis': 2265, 'womb': 10172, 'own': 6487, 'pinki': 6792, 'dysphoria': 2721, 'fend': 3249, 'giveaway': 3721, 'revisit': 7548, 'ome': 6336, 'blubber': 963, 'chanel': 1433, 'fist': 3326, 'infantri': 4524, 'motorbik': 5904, 'zhu': 10339, 'snapback': 8296, 'lotu': 5363, 'wholesal': 10079, 'prosecut': 7100, 'monger': 5848, 'elashi': 2814, 'noor': 6198, 'courthous': 1948, 'suppliment': 8816, 'disastr': 2437, 'aku': 202, 'merasa': 5662, 'luar': 5392, 'biasa': 856, 'karena': 4917, 'kulihat': 5041, 'sendi': 7944, 'simplethoughtsonth': 8150, 'maev': 5448, 'dialogu': 2371, 'nevertheless': 6113, 'superstit': 8809, 'caution': 1375, 'perspir': 6709, 'muddi': 5944, 'worsen': 10203, 'voter': 9900, 'hip': 4176, 'elbow': 2816, 'bang': 686, 'grandios': 3824, 'collaps': 1686, 'shortsight': 8088, 'oakland': 6266, 'databas': 2154, 'proce': 7058, 'blowout': 961, 'luftwaff': 5399, 'kerouac': 4951, 'marbl': 5523, 'maelstrom': 5447, 'sur': 8824, 'abundantli': 40, 'railway': 7245, 'knife': 5011, 'pistol': 6806, 'mombasa': 5833, 'ducki': 2683, 'commi': 1722, 'corset': 1914, 'postgradu': 6936, 'hijack': 4164, 'wiggl': 10099, 'fudgi': 3572, 'doodl': 2576, 'sassi': 7785, 'taryn': 8958, 'unsteadi': 9663, 'durat': 2708, 'hurri': 4327, 'simon': 8146, 'jag': 4740, 'jointli': 4828, 'brendon': 1095, 'interperson': 4636, 'crossroad': 2027, 'roughli': 7655, 'bargain': 703, 'segreg': 7925, 'mira': 5760, 'castl': 1356, 'refere': 7376, 'unwind': 9687, 'breather': 1092, 'pussi': 7179, 'swimsuit': 8879, 'usher': 9729, 'traumat': 9330, 'traci': 9290, 'intrigu': 4648, 'chug': 1539, 'worm': 10199, 'tether': 9051, 'cashmer': 1349, 'rainboot': 7247, 'andi': 324, 'chemic': 1477, 'classi': 1582, 'goth': 3800, 'punk': 7164, 'getyourprettyon': 3692, 'principl': 7038, 'recount': 7350, 'obama': 6269, 'thatll': 9070, 'wuss': 10242, 'hyena': 4337, 'elf': 2826, 'flaki': 3340, 'streaki': 8670, 'sacrific': 7726, 'swath': 8859, 'gook': 3789, 'fourteen': 3482, 'global': 3746, 'incompet': 4481, 'trouser': 9387, 'looser': 5347, 'bitten': 897, 'benni': 818, 'dumbfound': 2694, 'iya': 4730, 'uncomfterbl': 9512, 'shh': 8045, 'patio': 6608, 'flush': 3403, 'foster': 3473, 'mediterranean': 5627, 'charad': 1447, 'hobica': 4196, 'frost': 3556, 'shorten': 8085, 'tran': 9311, 'uglier': 9476, 'enought': 2919, 'yorkshir': 10305, 'ha': 3932, 'sinist': 8165, 'inaccur': 4452, 'compuls': 1769, 'bludgeon': 964, 'onlook': 6351, 'label': 5051, 'acquir': 81, 'ho': 4189, 'weighin': 10008, 'aout': 392, 'signifi': 8133, 'undu': 9555, 'justin': 4893, 'aryiku': 488, 'aimless': 188, 'sor': 8411, 'payoff': 6626, 'grabbi': 3808, 'shina': 8055, 'cinema': 1553, 'redden': 7360, 'manhood': 5499, 'launder': 5111, 'infrastructur': 4540, 'inequ': 4517, 'evey': 3038, 'french': 3525, 'mercilessli': 5665, 'abomin': 23, 'hump': 4315, 'newsprint': 6125, 'chicago': 1492, 'jordan': 4842, 'celtic': 1398, 'fingertip': 3308, 'oak': 6265, 'recycl': 7357, 'cowork': 1957, 'happend': 3988, 'tallinn': 8940, 'pimp': 6783, 'rocki': 7620, 'hearnsay': 4067, 'overpow': 6463, 'baht': 662, 'usd': 9725, 'misrepres': 5780, 'dosag': 2592, 'estrogen': 2994, 'ingrat': 4547, 'momentarili': 5835, 'empathet': 2868, 'sweeney': 8868, 'facial': 3142, 'modifi': 5817, 'biannual': 855, 'mammogram': 5489, 'bla': 903, 'woodstock': 10183, 'lightn': 5242, 'defiant': 2237, 'theatr': 9075, 'gw': 3927, 'karma': 4919, 'knelt': 5009, 'mutual': 5991, 'sober': 8335, 'outcast': 6418, 'trendier': 9355, 'unfriendli': 9584, 'menopaus': 5654, 'flood': 3383, 'stagger': 8560, 'upstair': 9708, 'alloc': 246, 'irrespons': 4691, 'auster': 581, 'fatigu': 3200, 'bleak': 922, 'noconsci': 6173, 'prevail': 7019, 'sucki': 8760, 'counterproduct': 1938, 'nic': 6133, 'missi': 5784, 'pokemon': 6880, 'boldli': 995, 'thug': 9148, 'thrive': 9137, 'regent': 7391, 'haley': 3957, 'noisi': 6178, 'animesh': 342, 'napkin': 6033, 'reusabl': 7530, 'grit': 3871, 'should': 8091, 'prison': 7043, 'guidelin': 3905, 'ld': 5133, 'moreso': 5877, 'chiangmai': 1490, 'restrain': 7510, 'su': 8728, 'wen': 10022, 'repay': 7460, 'oakwood': 6267, 'metabol': 5682, 'hyperthyroid': 4344, 'firstli': 3324, 'secondli': 7905, 'scariest': 7826, 'hook': 4248, 'kitw': 4999, 'amma': 295, 'atlanta': 543, 'poignant': 6874, 'pierc': 6772, 'penetr': 6663, 'figment': 3286, 'amorph': 300, 'ryder': 7712, 'baffl': 654, 'luke': 5403, 'spitbal': 8489, 'lair': 5069, 'chewi': 1488, 'gunong': 3920, 'ledang': 5159, 'puteri': 7182, 'evok': 3043, 'nicol': 6142, 'grandeur': 3822, 'andrew': 328, 'sulfat': 8777, 'geocentr': 3674, 'towel': 9283, 'hsp': 4292, 'cheapli': 1462, 'margaret': 5526, 'superpow': 8807, 'il': 4390, 'rosa': 7644, 'chasm': 1455, 'oncologist': 6344, 'etri': 3003, 'upheav': 9698, 'gatorad': 3640, 'uncontrol': 9519, 'shelv': 8040, 'satan': 7788, 'hyde': 4335, 'kat': 4924, 'denningss': 2282, 'deadpan': 2178, 'deliveri': 2260, 'crab': 1963, 'aol': 391, 'verizon': 9809, 'repeatedli': 7462, 'ari': 451, 'ben': 805, 'menash': 5652, 'mousavi': 5914, 'manuchehr': 5515, 'ghorbani': 3698, 'cia': 1548, 'oxford': 6491, 'skype': 8209, 'hurrican': 4328, 'correspond': 1912, 'catsa': 1371, 'afrad': 153, 'flab': 3333, 'migrat': 5716, 'snake': 8294, 'teari': 8987, 'stimul': 8630, 'chuf': 1538, 'partnership': 6585, 'nip': 6165, 'orthot': 6406, 'fic': 3271, 'writ': 10226, 'writter': 10231, 'heartdesir': 4074, 'mentel': 5659, 'whatsoev': 10042, 'disjoint': 2477, 'declutt': 2209, 'safer': 7736, 'sniffer': 8308, 'gag': 3606, 'reflex': 7379, 'eupherm': 3008, 'soporif': 8410, 'lusciou': 5422, 'hazi': 4042, 'dee': 2215, 'triangl': 9361, 'kara': 4912, 'ounc': 6414, 'treacher': 9337, 'ecker': 2759, 'classmat': 1584, 'bullshit': 1174, 'bewar': 842, 'kitti': 4998, 'racial': 7229, 'slur': 8259, 'invert': 4663, 'healthier': 4063, 'togeht': 9224, 'addison': 100, 'reed': 7367, 'collector': 1690, 'coldston': 1682, 'waaaaayyyi': 9908, 'creami': 1985, 'reactiv': 7299, 'apron': 432, 'loung': 5371, 'swap': 8857, 'gorg': 3793, 'disgustingli': 2469, 'undergo': 9528, 'rep': 7457, 'recit': 7337, 'spiel': 8477, 'scarlet': 7827, 'maladapt': 5479, 'architectur': 443, 'americana': 289, 'benjamin': 817, 'forest': 3450, 'gump': 3916, 'stayviol': 8598, 'pistil': 6805, 'manli': 5510, 'wig': 10098, 'inspect': 4588, 'tidi': 9167, 'daytim': 2167, 'arlovski': 455, 'ufc': 9471, 'dismantl': 2479, 'beet': 770, 'rabiola': 7225, 'fresca': 3529, 'ravioli': 7288, 'encompass': 2889, 'yin': 10294, 'yang': 10268, 'savori': 7807, 'prosper': 7103, 'slice': 8230, 'seattl': 7900, 'showcas': 8099, 'concid': 1780, 'velvet': 9796, 'wallpap': 9931, 'mobil': 5809, 'ploy': 6855, 'ashraf': 499, 'pakistani': 6522, 'overboard': 6445, 'nigga': 6148, 'unpopular': 9633, 'omin': 6340, 'init': 4555, 'internist': 4634, 'sarcoma': 7780, 'aimlessli': 189, 'narrow': 6037, 'jeanni': 4778, 'keith': 4943, 'detour': 2342, 'xela': 10252, 'unspecifi': 9660, 'equip': 2962, 'friendfe': 3540, 'dearwendi': 2186, 'entrenchedli': 2939, 'pureland': 7169, 'buddhism': 1158, 'wherea': 10048, 'leadership': 5139, 'chabad': 1419, 'sukkah': 8776, 'sunlight': 8790, 'filter': 3296, 'woven': 10215, 'schach': 7835, 'lattic': 5105, 'imagi': 4402, 'toenail': 9222, 'nigeria': 6147, 'olden': 6326, 'sarawak': 7776, 'jugra': 4868, 'chronicl': 1536, 'cu': 2053, 'stamp': 8570, 'chaperon': 1441, 'punctual': 7159, 'vex': 9820, 'moham': 5822, 'hussein': 4332, 'xango': 10248, 'yahoo': 10266, 'verrrrrrrryyyy': 9812, 'ntoward': 6238, 'dissect': 2503, 'knock': 5015, 'backlog': 643, 'lindo': 5260, 'aros': 463, 'jumbl': 4876, 'culprit': 2063, 'tigger': 9171, 'compliant': 1758, 'voip': 9890, 'institut': 4600, 'telephoni': 9006, 'desktop': 2317, 'quieter': 7212, 'shush': 8110, 'insert': 4579, 'arun': 485, 'harmless': 4010, 'insect': 4576, 'yash': 10273, 'fateh': 3197, 'intrus': 4654, 'vengeanc': 9799, 'granni': 3830, 'panti': 6545, 'psycho': 7131, 'thriller': 9136, 'pluto': 6862, 'input': 4570, 'pacesett': 6499, 'invinc': 4667, 'hp': 4289, 'supervis': 8811, 'dealer': 2181, 'philter': 6746, 'paaker': 6496, 'cunt': 2069, 'mso': 5933, 'bidi': 863, 'concurr': 1786, 'trajectori': 9309, 'grandchild': 3820, 'fil': 3289, 'julian': 4873, 'spazz': 8449, 'thingi': 9107, 'gikwang': 3708, 'cardio': 1311, 'emilyhursh': 2857, 'childlik': 1501, 'pli': 6851, 'tweedi': 9442, 'rowan': 7663, 'shawl': 8030, 'mishap': 5773, 'toddler': 9217, 'mereka': 5667, 'penyeri': 6669, 'sheet': 8036, 'turkey': 9427, 'tofurkey': 9223, 'cliff': 1606, 'contentedli': 1855, 'canal': 1273, 'dictat': 2384, 'shaun': 8028, 'nerdi': 6092, 'shove': 8096, 'assuag': 521, 'realism': 7313, 'mumbai': 5963, 'slum': 8255, 'siri': 8172, 'hondura': 4236, 'equilibrium': 2961, 'sim': 8143, 'berni': 828, 'reground': 7398, 'nutrient': 6255, 'dens': 2284, 'spaghetti': 8436, 'meatbal': 5616, 'workahol': 10190, 'calcul': 1240, 'revealthestaryoutrulyar': 7537, 'corrupt': 1913, 'zombi': 10347, 'thunk': 9154, 'kala': 4905, 'fangirl': 3177, 'trimest': 9372, 'quell': 7202, 'dodd': 2552, 'overanalyz': 6444, 'avers': 600, 'licens': 5224, 'hibern': 4148, 'compunct': 1771, 'brink': 1112, 'adf': 106, 'consecr': 1820, 'satiat': 7789, 'pompom': 6896, 'multi': 5955, 'braid': 1065, 'flap': 3344, 'lyman': 5428, 'melonoma': 5641, 'shoplift': 8079, 'gummi': 3915, 'io': 4671, 'galaxi': 3612, 'sii': 8136, 'lumia': 5406, 'speci': 8454, 'rave': 7286, 'bald': 669, 'blond': 950, 'grandpa': 3827, 'bishop': 890, 'stave': 8596, 'request': 7481, 'remaind': 7437, 'mock': 5811, 'emphasis': 2873, 'specul': 8463, 'ugh': 9474, 'naight': 6013, 'spurg': 8531, 'humid': 4310, 'advocaci': 138, 'grain': 3817, 'hudson': 4298, 'eboni': 2756, 'mashmellow': 5557, 'agon': 171, 'trebl': 9346, 'handbook': 3971, 'discharg': 2444, 'tyler': 9463, 'durden': 2709, 'unpleasantli': 9632, 'phil': 6740, 'omg': 6339, 'ka': 4898, 'daunt': 2158, 'romanticis': 7633, 'castiel': 1355, 'corn': 1901, 'earread': 2735, 'audiobook': 573, 'digress': 2399, 'zimbabw': 10341, 'zimbabwean': 10342, 'fabol': 3137, 'loso': 5356, 'graham': 3816, 'rylin': 7714, 'carrri': 1337, 'jahmen': 4741, 'congreg': 1807, 'fundrais': 3588, 'blister': 935, 'flop': 3385, 'unheard': 9593, 'fleec': 3361, 'prejudic': 6990, 'ene': 2900, 'farewel': 3184, 'longest': 5334, 'airplan': 193, 'platitud': 6831, 'cuff': 2060, 'anklet': 346, 'slam': 8214, 'harass': 3998, 'drowsi': 2664, 'exspress': 3109, 'apprici': 422, 'tax': 8969, 'impos': 4437, 'jin': 4809, 'hee': 4094, 'lott': 5360, 'lunapad': 5410, 'wap': 9943, 'folder': 3419, 'queri': 7204, 'dashboard': 2150, 'nicknam': 6140, 'thesi': 9094, 'moanday': 5807, 'maximis': 5587, 'ef': 2785, 'detriment': 2345, 'fink': 3310, 'begleit': 780, 'randythoma': 7261, 'irwin': 4694, 'norma': 6202, 'stall': 8567, 'pesticid': 6721, 'contamin': 1851, 'adrift': 125, 'underwat': 9542, 'lenten': 5190, 'transitori': 9321, 'align': 231, 'gusto': 3924, 'smother': 8289, 'cobweb': 1651, 'psychopatholog': 7135, 'terrain': 9039, 'mojo': 5827, 'rawli': 7290, 'loft': 5315, 'claret': 1574, 'jug': 4866, 'rod': 7621, 'ditlevsen': 2523, 'queer': 7200, 'lovebox': 5374, 'divis': 2533, 'comedian': 1713, 'defenc': 2231, 'mechan': 5618, 'katrina': 4933, 'snipe': 8311, 'insdi': 4575, 'curri': 2084, 'reclus': 7341, 'swan': 8856, 'appetit': 414, 'miso': 5778, 'philadelphia': 6741, 'pa': 6495, 'cascad': 1345, 'sexuali': 7997, 'wealthi': 9983, 'tuition': 9416, 'jongwoon': 4839, 'ryeowook': 7713, 'mph': 5926, 'funki': 3591, 'retort': 7522, 'reestablish': 7372, 'offenc': 6303, 'delhi': 2254, 'sang': 7770, 'zen': 10333, 'posses': 6931, 'hallmark': 3961, 'oven': 6441, 'greatbritain': 3847, 'daisi': 2116, 'hatch': 4024, 'holland': 4211, 'msg': 5931, 'bikini': 870, 'loudli': 5368, 'utmost': 9737, 'froze': 3559, 'replica': 7470, 'spock': 8497, 'ritual': 7598, 'sweden': 8866, 'parabl': 6554, 'publicli': 7146, 'lamin': 5076, 'truley': 9394, 'resuppli': 7514, 'pipsqueak': 6801, 'outstand': 6434, 'algebra': 224, 'stephani': 8613, 'setback': 7982, 'diy': 2538, 'bernd': 827, 'sportsbook': 8510, 'khatsii': 4962, 'mug': 5948, 'longev': 5335, 'bowler': 1052, 'frickin': 3536, 'turmoil': 9429, 'kisser': 4992, 'nijifagili': 6157, 'wip': 10135, 'le': 5134, 'haircut': 3952, 'antidot': 371, 'unlucki': 9620, 'genet': 3665, 'orthodontist': 6404, 'pediatr': 6645, 'aftereffect': 156, 'coupon': 1943, 'naiv': 6016, 'boardwalk': 975, 'sunris': 8793, 'refuge': 7386, 'israelit': 4709, 'don': 2566, 'vip': 9858, 'sticker': 8624, 'perpetr': 6694, 'crim': 2008, 'hefti': 4097, 'quarrel': 7196, 'burgo': 1196, 'rash': 7277, 'ep': 2951, 'auggi': 575, 'outta': 6436, 'pip': 6799, 'electrifi': 2821, 'penanc': 6659, 'lurgi': 5419, 'needless': 6072, 'bellingham': 796, 'behaviour': 785, 'apc': 398, 'practis': 6959, 'mango': 5497, 'walmart': 9932, 'macey': 5436, 'midst': 5708, 'allergen': 240, 'loner': 5330, 'appearanc': 412, 'ewhich': 3048, 'movign': 5922, 'uv': 9743, 'tyrant': 9466, 'uh': 9478, 'pander': 6534, 'misinterpret': 5775, 'decept': 2201, 'curb': 2073, 'sophat': 8407, 'kandal': 4909, 'colorado': 1699, 'pneumonia': 6864, 'poni': 6900, 'uncoil': 9510, 'chesley': 1485, 'specialti': 8457, 'util': 9736, 'oldest': 6328, 'klysta': 5005, 'andrea': 327, 'data': 2153, 'et': 2995, 'cetera': 1416, 'drinkin': 2653, 'whiskey': 10067, 'ruffl': 7683, 'gradual': 3814, 'zucchini': 10353, 'tart': 8954, 'cereal': 1409, 'pagetyp': 6510, 'mimedog': 5734, 'upfront': 9696, 'aubrey': 568, 'baptism': 692, 'jumpi': 4880, 'seoul': 7959, 'nothing': 6220, 'repuls': 7479, 'awok': 618, 'transpir': 9325, 'roethisberg': 7624, 'steeler': 8604, 'household': 4283, 'avon': 603, 'heartrend': 4077, 'oprah': 6377, 'dealt': 2182, 'xx': 10263, 'xelliealicex': 10253, 'affair': 141, 'wod': 10163, 'twing': 9451, 'aaaaaaand': 1, 'verdict': 9807, 'baton': 729, 'gang': 3625, 'freakishli': 3513, 'wyatt': 10246, 'bowi': 1050, 'iman': 4405, 'stride': 8682, 'hardwork': 4008, 'copay': 1890, 'trophi': 9383, 'planner': 6823, 'bridezilla': 1101, 'groom': 3875, 'uninform': 9600, 'rubber': 7672, 'dong': 2569, 'tna': 9210, 'crimson': 2011, 'sweeten': 8871, 'untidi': 9674, 'hoarder': 4191, 'subaru': 8730, 'maxim': 5586, 'trustworthi': 9399, 'upgrad': 9697, 'flashi': 3348, 'explos': 3103, 'adversari': 133, 'geez': 3653, 'cara': 1300, 'mord': 5876, 'sith': 8178, 'hendrick': 4120, 'enmayi': 2916, 'disciplin': 2446, 'infertil': 4529, 'mens': 5655, 'rounder': 7658, 'convict': 1875, 'getti': 3690, 'stray': 8668, 'ima': 4399, 'redund': 7366, 'credenti': 1994, 'synod': 8903, 'irreplac': 4688, 'idrc': 4376, 'violat': 9854, 'fron': 3554, 'trader': 9296, 'wonderland': 10176, 'battalion': 730, 'dehydr': 2247, 'caribbean': 1323, 'dive': 2527, 'karaok': 4913, 'bewertung': 843, 'ifyouwanttoknow': 4381, 'smitten': 8281, 'eyelash': 3129, 'snowglob': 8325, 'muster': 5988, 'christmassi': 1532, 'bloodi': 952, 'incess': 4469, 'rammstein': 7253, 'soda': 8346, 'turbul': 9425, 'thirteen': 9113, 'shishido': 8064, 'senpai': 7947, 'gentli': 3670, 'magnific': 5457, 'clam': 1569, 'shark': 8021, 'fin': 3297, 'lethal': 5203, 'overdos': 6452, 'ect': 2767, 'mollusk': 5830, 'solopgangfor': 8369, 'barnog': 708, 'shiftless': 8052, 'brows': 1139, 'dart': 2148, 'undress': 9554, 'inspit': 4590, 'yogurt': 10301, 'trudger': 9390, 'ig': 4382, 'lore': 5351, 'cartoonish': 1342, 'diva': 2526, 'wrestler': 10221, 'accru': 64, 'barista': 704, 'psychopath': 7134, 'carb': 1303, 'lauri': 5116, 'artefact': 474, 'locomot': 5313, 'atroci': 552, 'babe': 630, 'peach': 6634, 'marilyn': 5534, 'fame': 3167, 'directionless': 2422, 'adulthood': 127, 'artifici': 479, 'def': 2227, 'cure': 2074, 'ripe': 7589, 'multiband': 5956, 'effectu': 2788, 'asami': 489, 'mutter': 5990, 'violin': 9857, 'ici': 4359, 'vocab': 9882, 'poetic': 6871, 'springpad': 8525, 'abdomin': 13, 'convolut': 1878, 'tom': 9230, 'dualiti': 2675, 'upright': 9705, 'protagonist': 7105, 'curvebal': 2088, 'tattoo': 8966, 'peggi': 6654, 'mara': 5521, 'babysat': 634, 'dimpl': 2407, 'sag': 7738, 'serendip': 7967, 'collid': 1692, 'slacker': 8212, 'mcslackerson': 5603, 'endorphin': 2896, 'trillion': 9370, 'premonit': 6994, 'dewi': 2359, 'lestari': 5199, 'patent': 6601, 'ugliest': 9477, 'dayummm': 2168, 'synthwav': 8906, 'ned': 6067, 'dustbin': 2712, 'candi': 1276, 'posi': 6929, 'pixi': 6812, 'jame': 4751, 'springhous': 8523, 'morrissey': 5889, 'incis': 4476, 'neuropathi': 6104, 'unproduct': 9637, 'crude': 2037, 'triniti': 9373, 'tuxedo': 9437, 'cufflink': 2061, 'aspir': 509, 'somethign': 8382, 'ayumi': 624, 'stroller': 8690, 'constrain': 1838, 'extrovert': 3124, 'digg': 2395, 'sooooooooooo': 8403, 'aligncent': 232, 'wp': 10217, 'mrdanbaird': 5928, 'tumor': 9420, 'amiss': 292, 'jareth': 4763, 'labyrinth': 5054, 'righteou': 7574, 'consol': 1830, 'digust': 2400, 'permiss': 6692, 'bun': 1180, 'nuh': 6245, 'ballroom': 675, 'va': 9746, 'prandi': 6964, 'npr': 6236, 'motherland': 5900, 'bittersweet': 900, 'tape': 8952, 'masterpiec': 5566, 'giardina': 3701, 'sandblog': 7765, 'craftisan': 1967, 'hideaki': 4153, 'daiki': 2114, 'olympian': 6334, 'hugh': 4301, 'aka': 199, 'sarcoidosi': 7779, 'gyp': 3931, 'capp': 1294, 'hyphen': 4346, 'courtney': 1949, 'how': 4287, 'unstabl': 9662, 'pastor': 6597, 'glare': 3732, 'inexperi': 4521, 'spitak': 8488, 'lotta': 5361, 'heinou': 4105, 'insular': 4604, 'minuscul': 5758, 'xviith': 10262, 'strick': 8679, 'van': 9761, 'den': 2274, 'veld': 9793, 'winc': 10118, 'opt': 6378, 'hiit': 4163, 'interv': 4640, 'sm': 8262, 'unexpectedli': 9569, 'aiw': 197, 'alic': 228, 'haunt': 4033, 'phantomwis': 6735, 'apologet': 403, 'drivel': 2656, 'stupend': 8719, 'incredul': 4492, 'harshli': 4015, 'debacl': 2188, 'josh': 4844, 'shubhi': 8107, 'feb': 3219, 'julianna': 4874, 'snooti': 8317, 'gauch': 3643, 'expressway': 3108, 'munch': 5967, 'platon': 6832, 'synchron': 8901, 'lite': 5282, 'reali': 7311, 'swarm': 8858, 'therel': 9092, 'moonlight': 5868, 'drill': 2650, 'unencumbered': 9565, 'opi': 6366, 'sashi': 7783, 'purpl': 7171, 'lavand': 5118, 'mesmer': 5676, 'zest': 10338, 'bipolar': 883, 'casablanca': 1344, 'vinni': 9852, 'kompani': 5027, 'joleon': 4830, 'kolo': 5025, 'shroud': 8105, 'flaccid': 3335, 'peni': 6664, 'colic': 1683, 'imma': 4412, 'exclaim': 3065, 'personifi': 6706, 'progeni': 7075, 'genuflect': 3672, 'unjust': 9612, 'snippi': 8313, 'momentum': 5836, 'titan': 9202, 'pumpin': 7155, 'undeserv': 9546, 'variat': 9770, 'wage': 9912, 'inept': 4516, 'payer': 6625, 'bungl': 1184, 'erm': 2970, 'naega': 6008, 'deo': 2287, 'apaya': 397, 'hae': 3941, 'dasi': 2151, 'neol': 6086, 'chajeul': 1424, 'itg': 4719, 'sigani': 8126, 'heureulsurok': 4143, 'gaseumi': 3634, 'apawa': 396, 'hanbeon': 3968, 'manirado': 5507, 'wo': 10160, 'doedollil': 2554, 'suman': 8780, 'itdamyeon': 4716, 'gotong': 3801, 'ttawin': 9406, 'naegen': 6009, 'fightstar': 3285, 'catchi': 1363, 'preform': 6985, 'ceram': 1408, 'ateli': 533, 'artisan': 480, 'patrimoni': 6610, 'primit': 7035, 'ashtray': 501, 'divert': 2530, 'flirt': 3377, 'tulip': 9417, 'sadhana': 7731, 'hype': 4339, 'diner': 2410, 'oppi': 6371, 'desol': 2318, 'sasha': 7782, 'beyonc': 845, 'seal': 7893, 'akin': 200, 'hitler': 4184, 'lawless': 5122, 'innuendo': 4569, 'picki': 6763, 'bishan': 889, 'filmic': 3294, 'orgi': 6396, 'deprav': 2296, 'unawar': 9498, 'heather': 4082, 'settlement': 7985, 'recur': 7356, 'inexcus': 4520, 'bestial': 835, 'macho': 5440, 'lag': 5067, 'gaze': 3648, 'botan': 1029, 'tor': 9251, 'poseur': 6927, 'keiko': 4941, 'zoll': 10346, 'craziest': 1982, 'weirdest': 10015, 'karin': 4918, 'conspir': 1832, 'distort': 2513, 'kathump': 4928, 'skincar': 8200, 'lux': 5424, 'retain': 7517, 'papermakeupstamp': 6551, 'welfar': 10020, 'nyc': 6261, 'bass': 721, 'shahzad': 8004, 'ismaili': 4701, 'veget': 9785, 'glycerin': 3760, 'lear': 5149, 'diktat': 2401, 'indonesia': 4511, 'gari': 3631, 'jeoffrey': 4788, 'eyo': 3133, 'loom': 5341, 'horn': 4260, 'owl': 6486, 'cathi': 1369, 'techno': 8993, 'slander': 8215, 'snail': 8293, 'mucu': 5940, 'nokia': 6180, 'gp': 3806, 'katanya': 4925, 'ulyss': 9485, 'speedi': 8467, 'filmmak': 3295, 'conceiv': 1775, 'peasi': 6641, 'anipik': 344, 'fanfict': 3176, 'sebastian': 7901, 'snowi': 8326, 'southern': 8430, 'discrimin': 2460, 'nugget': 6244, 'serina': 7970, 'cleaner': 1591, 'tch': 8976, 'accessari': 53, 'coax': 1650, 'gratuit': 3839, 'nastili': 6041, 'homophob': 4233, 'kinison': 4989, 'ax': 620, 'fork': 3458, 'toung': 9274, 'indid': 4502, 'bereft': 824, 'nothnig': 6221, 'someoen': 8378, 'laug': 5106, 'kiddo': 4969, 'sweetheart': 8872, 'biggi': 867, 'kevin': 4953, 'hart': 4016, 'wiz': 10158, 'khalifa': 4960, 'thaim': 9063, 'jay': 4768, 'outweigh': 6438, 'lurker': 5421, 'demo': 2266, 'trusti': 9398, 'squint': 8542, 'magnifi': 5456, 'dictionari': 2385, 'eyesight': 3132, 'quixot': 7220, 'windmil': 10121, 'resid': 7491, 'lin': 5258, 'chubbi': 1537, 'ocd': 6292, 'strict': 8680, 'torment': 9253, 'korea': 5030, 'kj': 5001, 'middot': 5705, 'vanquish': 9764, 'mooshilu': 5870, 'nylon': 6262, 'victoria': 9831, 'rubi': 7675, 'imperturb': 4428, 'cataclysm': 1359, 'manufactur': 5516, 'olli': 6332, 'indi': 4498, 'founder': 3478, 'poverti': 6949, 'clot': 1627, 'clint': 1613, 'fetish': 3260, 'befc': 772, 'giraff': 3716, 'majest': 5470, 'shyness': 8112, 'aloof': 257, 'smirk': 8279, 'wherefor': 10050, 'gmc': 3762, 'denali': 2275, 'ungodli': 9587, 'disapprov': 2435, 'yesubai': 10290, 'acco': 58, 'nahariya': 6012, 'hogmanay': 4201, 'nonstop': 6193, 'outset': 6432, 'mccann': 5596, 'sci': 7846, 'stuffi': 8712, 'veloc': 9795, 'picoult': 6767, 'sporkgasm': 8508, 'backstag': 645, 'phenomen': 6737, 'travesti': 9335, 'bobbi': 979, 'melodramat': 5640, 'taco': 8918, 'ade': 104, 'dakota': 2117, 'hiatu': 4147, 'reaffirm': 7308, 'inclus': 4479, 'chemotherapi': 1481, 'poach': 6865, 'agtalk': 176, 'krem': 5034, 'tget': 9055, 'contin': 1858, 'imbicil': 4407, 'smartest': 8269, 'elizabeth': 2832, 'unbeliev': 9500, 'undevelop': 9549, 'atrophi': 553, 'mua': 5935, 'rlsh': 7603, 'eco': 2761, 'chart': 1453, 'drew': 2644, 'focalor': 3411, 'sigil': 8130, 'opium': 6370, 'incens': 4467, 'wooden': 10180, 'sizzler': 8185, 'rv': 7710, 'dinett': 2411, 'driveway': 2659, 'trembl': 9349, 'heavili': 4088, 'johnson': 4824, 'pi': 6758, 'ata': 529, 'spew': 8473, 'kristi': 5037, 'colbi': 1678, 'reshap': 7490, 'jhbdjhdfbjdfhbfd': 4801, 'upbring': 9693, 'contradict': 1864, 'cocki': 1654, 'alhamdulillah': 225, 'breastfeed': 1090, 'hoop': 4251, 'befuddl': 776, 'bengal': 815, 'degrassi': 2245, 'weep': 10005, 'oftentim': 6314, 'coast': 1647, 'stew': 8619, 'urgent': 9715, 'stalker': 8566, 'steami': 8603, 'strangl': 8662, 'sya': 8892, 'milli': 5730, 'conciev': 1781, 'logo': 5320, 'inadvert': 4457, 'smidgen': 8276, 'neglig': 6077, 'blip': 933, 'injur': 4558, 'melti': 5644, 'spoke': 8500, 'atlephobia': 545, 'mail': 5462, 'discontinu': 2455, 'theif': 9077, 'pipe': 6800, 'outward': 6437, 'passer': 6589, 'sausag': 7801, 'nw': 6259, 'cumbersom': 2068, 'victorian': 9832, 'niec': 6145, 'woah': 10161, 'phyica': 6755, 'jigsaw': 4804, 'outlook': 6428, 'derbyshir': 2303, 'counti': 1939, 'suburb': 8751, 'midwest': 5710, 'heimbuch': 4103, 'midwestern': 5711, 'actauli': 85, 'storag': 8648, 'monkey': 5853, 'shack': 7999, 'follicl': 3423, 'beluga': 803, 'embarass': 2845, 'tec': 8989, 'parish': 6570, 'albuquerqu': 213, 'earthli': 2738, 'jonti': 4841, 'valor': 9757, 'cig': 1549, 'colomn': 1696, 'conservatish': 1824, 'tha': 9059, 'unwel': 9683, 'reus': 7529, 'scrap': 7866, 'ashton': 500, 'isaac': 4695, 'lovin': 5378, 'cafeteria': 1233, 'pocketbook': 6867, 'antm': 375, 'beam': 747, 'metr': 5689, 'materialis': 5572, 'sector': 7910, 'overshar': 6470, 'zach': 10324, 'brokeup': 1125, 'schoolgirl': 7844, 'utopia': 9738, 'innanim': 4564, 'carpet': 1334, 'zenden': 10334, 'boston': 1028, 'reuter': 7531, 'dutch': 2713, 'kidnapp': 4971, 'magnat': 5455, 'freddi': 3514, 'heineken': 4104, 'retribut': 7524, 'incent': 4468, 'chees': 1472, 'cindi': 1552, 'atticu': 561, 'ttc': 9407, 'koyama': 5033, 'jene': 4784, 'poorli': 6905, 'crochet': 2019, 'gland': 3731, 'swollen': 8886, 'cm': 1643, 'slat': 8218, 'mattress': 5581, 'unsurprisingli': 9671, 'relent': 7420, 'sweep': 8869, 'chin': 1504, 'solitari': 8364, 'krista': 5036, 'putter': 7184, 'kubrick': 5039, 'ediebloom': 2773, 'ib': 4355, 'bowel': 1049, 'idiosyncrasi': 4371, 'diversifi': 2529, 'shire': 8061, 'reunit': 7528, 'placement': 6816, 'misjudg': 5776, 'unsuspect': 9672, 'oneself': 6347, 'facilit': 3144, 'blogoversari': 945, 'lighthead': 5239, 'clump': 1637, 'freelanc': 3518, 'deiti': 2248, 'offset': 6310, 'foray': 3436, 'unaccept': 9491, 'omit': 6341, 'nyp': 6263, 'webpag': 9995, 'crutch': 2048, 'marlon': 5539, 'brando': 1075, 'feroci': 3251, 'bradburi': 1062, 'ipad': 4673, 'lightweight': 5244, 'payday': 6624, 'loan': 5305, 'monthli': 5863, 'spectat': 8461, 'midori': 5707, 'getaway': 3689, 'doorway': 2583, 'cruelti': 2039, 'azul': 626, 'pac': 6497, 'peril': 6685, 'derang': 2301, 'villian': 9845, 'schalm': 7837, 'radic': 7238, 'mislead': 5777, 'woe': 10164, 'pam': 6531, 'grotesqu': 3879, 'unrealist': 9642, 'cal': 1239, 'pear': 6638, 'blueberri': 966, 'implic': 4432, 'microsoft': 5701, 'glitch': 3743, 'panorma': 6542, 'superbik': 8799, 'cb': 1382, 'sportslin': 8511, 'irl': 4681, 'kiddi': 4968, 'quitter': 7218, 'morrow': 5890, 'runnin': 7697, 'bein': 789, 'confin': 1799, 'stic': 8622, 'dangl': 2135, 'tgirl': 9056, 'whoever': 10076, 'ignorantli': 4387, 'paralysi': 6559, 'bark': 705, 'squirrel': 8544, 'frail': 3492, 'patch': 6600, 'catapult': 1361, 'workplac': 10195, 'kuya': 5046, 'buddi': 1159, 'ange': 332, 'homemad': 4223, 'fluf': 3397, 'cbc': 1383, 'jazzyboy': 4771, 'fucker': 3569, 'zap': 10328, 'standout': 8575, 'feist': 3239, 'lawyer': 5125, 'snare': 8298, 'sd': 7888, 'illegitim': 4392, 'bouncier': 1042, 'midcenturi': 5703, 'dresser': 2643, 'whelm': 10046, 'tighten': 9173, 'erad': 2966, 'nearbi': 6058, 'commod': 1727, 'frosti': 3557, 'cube': 2054, 'fraud': 3506, 'abduct': 14, 'hinterland': 4175, 'gaig': 3609, 'scrape': 7868, 'nook': 6195, 'cranni': 1974, 'morsel': 5891, 'vacanc': 9747, 'sciatica': 7847, 'brake': 1070, 'pedal': 6643, 'heir': 4107, 'blogospher': 944, 'crol': 2021, 'tl': 9207, 'skew': 8193, 'polenta': 6883, 'convo': 1877, 'broad': 1119, 'theater': 9074, 'imp': 4422, 'unsurpris': 9670, 'activist': 88, 'abid': 17, 'exuber': 3125, 'latex': 5100, 'hungov': 4322, 'marketplac': 5537, 'sycf': 8893, 'edmontonian': 2779, 'swimwear': 8880, 'jazz': 4770, 'appeas': 413, 'audi': 571, 'mona': 5841, 'multipli': 5959, 'abat': 9, 'vegetarian': 9786, 'andintrupt': 325, 'trad': 9294, 'slave': 8220, 'bagan': 657, 'naked': 6020, 'umlungu': 9488, 'hahahahahha': 3947, 'screenshot': 7874, 'warfight': 9949, 'watersid': 9973, 'brood': 1128, 'gnaw': 3763, 'forefoot': 3443, 'academia': 46, 'wari': 9951, 'risen': 7592, 'soundscap': 8424, 'scarecrow': 7823, 'wizard': 10159, 'oz': 6494, 'lard': 5089, 'throe': 9140, 'ownership': 6489, 'peg': 6653, 'savour': 7808, 'unbound': 9501, 'emboss': 2852, 'feather': 3216, 'orihim': 6399, 'imaginari': 4404, 'blunt': 968, 'dir': 2419, 'henypir': 4122, 'brass': 1076, 'header': 4051, 'blowjob': 959, 'seneg': 7945, 'farafina': 3182, 'cassava': 1351, 'weekli': 10003, 'plead': 6843, 'loreal': 5352, 'adn': 117, 'someobdi': 8377, 'cinemat': 1554, 'awoken': 619, 'kindli': 4986, 'loki': 5321, 'survivor': 8840, 'florenc': 3387, 'lunar': 5411, 'papamoka': 6548, 'fahad': 3151, 'skeleton': 8190, 'everchang': 3027, 'sailormoon': 7743, 'gateway': 3638, 'unsupport': 9668, 'avril': 604, 'lavign': 5120, 'happiest': 3992, 'jayson': 4769, 'ken': 4945, 'mensa': 5656, 'sharia': 8020, 'european': 3014, 'polici': 6886, 'glc': 3736, 'madden': 5444, 'splurg': 8495, 'hurl': 4326, 'epithet': 2957, 'soooooooo': 8402, 'rearrang': 7320, 'assembl': 513, 'interlochen': 4626, 'jonathan': 4836, 'incessantli': 4470, 'livevideo': 5296, 'ptk': 7139, 'vey': 9821, 'oncolog': 6343, 'dpt': 2617, 'paranoiud': 6563, 'nicest': 6136, 'kindest': 4985, 'kati': 4929, 'perri': 6697, 'comfid': 1715, 'cheerful': 1470, 'wendi': 10023, 'alexa': 220, 'iv': 4724, 'mous': 5913, 'orient': 6397, 'hyundai': 4350, 'tucson': 9412, 'savor': 7806, 'theo': 9079, 'eli': 2827, 'skillz': 8197, 'rebuild': 7328, 'rudley': 7680, 'bumb': 1176, 'sculpt': 7885, 'mystic': 6000, 'culmin': 2062, 'dancefloor': 2130, 'tempo': 9016, 'ecolog': 2762, 'joe': 4815, 'inlov': 4563, 'sean': 7896, 'fari': 3185, 'sleepov': 8226, 'scaveng': 7829, 'graze': 3844, 'impor': 4434, 'vermont': 9810, 'farther': 3187, 'tabloid': 8915, 'comed': 1711, 'alva': 273, 'suuuper': 8849, 'nippl': 6166, 'slew': 8229, 'fitch': 3328, 'mihm': 5717, 'kyuhyun': 5048, 'apgujeong': 400, 'hyunjin': 4351, 'sceptic': 7834, 'boast': 976, 'india': 4499, 'rubbl': 7674, 'deborah': 2190, 'lippmann': 5271, 'exceedingli': 3057, 'ws': 10237, 'peachi': 6635, 'jelli': 4782, 'sation': 7790, 'byte': 1225, 'crop': 2023, 'biofuel': 879, 'fossil': 3472, 'unwash': 9682, 'drier': 2647, 'ampatuan': 304, 'odor': 6300, 'glowi': 3755, 'afaerytaleinmakebeliev': 140, 'salvag': 7755, 'bbq': 739, 'powel': 6951, 'clan': 1572, 'colombian': 1695, 'gringa': 3869, 'el': 2812, 'amparo': 303, 'reckon': 7339, 'softer': 8351, 'eurodancemix': 3012, 'fortitud': 3467, 'omegl': 6338, 'balloon': 674, 'kiyoshi': 5000, 'impromptu': 4446, 'tampon': 8942, 'fir': 3314, 'ii': 4388, 'instal': 4592, 'globe': 3747, 'hairsty': 3953, 'disengag': 2464, 'embed': 2850, 'tsunami': 9404, 'prenat': 6995, 'legtim': 5174, 'hammer': 3965, 'pilat': 6775, 'craisin': 1968, 'thinker': 9109, 'jerald': 4789, 'rue': 7682, 'diann': 2375, 'berk': 825, 'stitch': 8637, 'shred': 8102, 'lt': 5390, 'folkeskol': 3421, 'lowdown': 5380, 'ink': 4561, 'scim': 7851, 'analysi': 315, 'sep': 7960, 'moribund': 5881, 'certainti': 1413, 'mri': 5929, 'semipro': 7940, 'sharpli': 8026, 'fume': 3582, 'princess': 7037, 'saunter': 7800, 'flickr': 3371, 'hatchet': 4025, 'skdd': 8187, 'astonish': 526, 'inaugur': 4461, 'maturestudenthanginginther': 5583, 'miniscul': 5753, 'thumbnail': 9150, 'changel': 1435, 'easygo': 2749, 'cabbag': 1227, 'venison': 9800, 'pomegran': 6895, 'kali': 4906, 'ni': 6132, 'dah': 2113, 'bertukar': 831, 'jadi': 4738, 'benci': 808, 'bothersom': 1032, 'kenya': 4949, 'shiraishi': 8060, 'punctur': 7160, 'tyre': 9467, 'mediat': 5622, 'condon': 1790, 'revalid': 7533, 'portfolio': 6919, 'jerri': 4793, 'hun': 4317, 'cello': 1396, 'hath': 4028, 'constructiv': 1842, 'solomon': 8367, 'affili': 146, 'neil': 6081, 'odonnel': 6299, 'intercept': 4621, 'pittsburgh': 6811, 'chivalri': 1513, 'magnanim': 5454, 'pesach': 6717, 'flowi': 3395, 'jingli': 4810, 'royal': 7665, 'ar': 434, 'croatian': 2017, 'moist': 5824, 'ahhh': 182, 'shopper': 8080, 'fuchsia': 3567, 'unfairli': 9572, 'heroic': 4134, 'guffaw': 3902, 'unconcern': 9515, 'automat': 592, 'trope': 9382, 'minim': 5750, 'bound': 1043, 'flogger': 3382, 'tribal': 9362, 'wisconsin': 10139, 'insyallah': 4606, 'fullbright': 3578, 'pacifi': 6500, 'selfless': 7933, 'gospel': 3798, 'northern': 6206, 'saskatchewan': 7784, 'truck': 9388, 'buffalo': 1164, 'widow': 10091, 'ridgerunn': 7571, 'solberg': 8356, 'lightsync': 5243, 'mistress': 5795, 'blous': 957, 'jumper': 4879, 'spike': 8478, 'warsaw': 9962, 'nutshel': 6257, 'emillionstar': 2856, 'sadist': 7732, 'opinon': 6369, 'videotap': 9834, 'naman': 6022, 'marshal': 5543, 'glenn': 3739, 'unwil': 9685, 'alleg': 237, 'untal': 9673, 'handrail': 3977, 'basement': 716, 'gaug': 3644, 'flog': 3381, 'dip': 2417, 'defil': 2238, 'ski': 8194, 'mulligan': 5954, 'traction': 9293, 'denis': 2279, 'annual': 355, 'outbreak': 6416, 'ptpt': 7141, 'te': 8978, 'pouher': 6945, 'mistaken': 5791, 'normalci': 6204, 'wearer': 9987, 'flexibl': 3366, 'prestigi': 7009, 'unclear': 9509, 'joel': 4816, 'huddl': 4297, 'rhinebeck': 7557, 'percol': 6678, 'synonym': 8904, 'edmonton': 2778, 'dodg': 2553, 'seedi': 7916, 'duct': 2684, 'deepest': 2223, 'permanent': 6690, 'zum': 10354, 'eintrag': 2810, 'funk': 3590, 'tactic': 8919, 'tremu': 9352, 'surmount': 8832, 'brittney': 1117, 'peppermint': 6672, 'patti': 6614, 'breakup': 1087, 'runneth': 7695, 'improvis': 4448, 'omangi': 6335, 'heung': 4142, 'fuzzi': 3602, 'clash': 1579, 'lacon': 5059, 'hog': 4200, 'hercul': 4127, 'voicesfromkrypton': 9888, 'pauli': 6616, 'correctli': 1911, 'bezo': 847, 'choru': 1523, 'outro': 6431, 'aforement': 151, 'schmidt': 7842, 'esili': 2979, 'airrit': 195, 'dnt': 2544, 'yu': 10318, 'fr': 3486, 'knwing': 5023, 'nthing': 6237, 'plastikan': 6827, 'makeov': 5475, 'roslin': 7647, 'acaus': 47, 'lightmet': 5241, 'godli': 3771, 'jamba': 4750, 'frappucino': 3504, 'downtim': 2610, 'teresa': 9033, 'unforgett': 9581, 'expansiveperspect': 3089, 'walter': 9934, 'eastern': 2748, 'danni': 2137, 'stalk': 8565, 'erica': 2968, 'tx': 9459, 'javascript': 4766, 'membr': 5646, 'recless': 7340, 'mamma': 5487, 'headlock': 4054, 'whooooo': 10081, 'whooooooooo': 10082, 'craaaaaaack': 1962, 'ensign': 2923, 'camper': 1266, 'noisiest': 6179, 'atoshealthcar': 551, 'paraphras': 6564, 'revuls': 7551, 'elicit': 2828, 'trite': 9377, 'bartend': 713, 'kx': 5047, 'disc': 2441, 'paypal': 6627, 'copyright': 1896, 'machiavellian': 5437, 'len': 5181, 'alley': 242, 'gentrifi': 3671, 'ghetto': 3697, 'muffin': 5946, 'nerd': 6091, 'chukey': 1540, 'inapporpri': 4459, 'fergi': 3250, 'coffin': 1664, 'downward': 2613, 'rider': 7570, 'scientif': 7849, 'playhousecomm': 6837, 'unintellig': 9603, 'memoir': 5647, 'rees': 7371, 'witnes': 10155, 'coil': 1672, 'rocker': 7617, 'buff': 1163, 'agenc': 161, 'demor': 2271, 'beirut': 790, 'distast': 2509, 'godaddi': 3768, 'privelleg': 7048, 'domain': 2563, 'vehement': 9789, 'elviv': 2840, 'sl': 8210, 'dim': 2404, 'sinai': 8157, 'sheep': 8033, 'bewild': 844, 'amd': 285, 'undiscov': 9550, 'mega': 5631, 'clingi': 1610, 'todayyy': 9215, 'habitu': 3936, 'wh': 10035, 'inconsequenti': 4483, 'ungraci': 9588, 'bomber': 999, 'convoy': 1879, 'hauler': 4032, 'zine': 10344, 'sienc': 8123, 'femin': 3245, 'bauer': 734, 'unconvinc': 9520, 'smugli': 8291, 'textil': 9053, 'appt': 429, 'acker': 76, 'drunken': 2668, 'agil': 167, 'pester': 6720, 'srcurl': 8548, 'draftblog': 2620, 'lsd': 5389, 'chemist': 1478, 'shroomeri': 8104, 'smarti': 8270, 'templat': 9015, 'cherri': 1484, 'dubi': 2678, 'dampen': 2127, 'sentinel': 7957, 'hanford': 3981, 'councilman': 1932, 'committe': 1726, 'justli': 4894, 'wristwatch': 10225, 'judgement': 4863, 'homophobia': 4234, 'mend': 5653, 'burgeon': 1194, 'indian': 4500, 'cricket': 2006, 'sri': 8549, 'lanka': 5084, 'flatmat': 3351, 'imprint': 4445, 'shoudlnt': 8090, 'jacksonvil': 4734, 'seminar': 7939, 'inadequaci': 4456, 'linklat': 5265, 'confidenti': 1798, 'intermediari': 4628, 'pollicino': 6891, 'overeat': 6453, 'piddi': 6769, 'eurgh': 3010, 'scout': 7864, 'pinewood': 6789, 'cleat': 1598, 'cox': 1958, 'liv': 5290, 'pail': 6514, 'tommi': 9234, 'flashlight': 3349, 'asher': 496, 'distil': 2510, 'tantric': 8949, 'pri': 7025, 'partak': 6576, 'litt': 5287, 'carp': 1333, 'extremli': 3123, 'setup': 7986, 'ffxi': 3268, 'duh': 2688, 'flusher': 3404, 'preach': 6970, 'trumpet': 9396, 'eqaf': 2958, 'monopoli': 5856, 'cocktail': 1655, 'adrenalin': 123, 'inquisit': 4572, 'barcial': 698, 'surreal': 8835, 'etap': 2996, 'caledonia': 1242, 'gervas': 3686, 'unfollow': 9580, 'crown': 2032, 'decit': 2205, 'avalanch': 596, 'wesleyan': 10028, 'kitoben': 4996, 'playground': 6836, 'queezi': 7201, 'carcass': 1306, 'nordstrom': 6200, 'hatter': 4030, 'subpar': 8741, 'reproduct': 7476, 'everybitterthingissweet': 3030, 'jones': 4838, 'ineffect': 4515, 'chiuv': 1512, 'kaddish': 4900, 'daven': 2160, 'amud': 308, 'cantina': 1285, 'marginalis': 5528, 'council': 1930, 'becasu': 758, 'drift': 2648, 'decompress': 2210, 'freeer': 3517, 'eyelin': 3131, 'curler': 2080, 'atent': 534, 'misstreat': 5789, 'affeccion': 142, 'zoo': 10350, 'mag': 5449, 'cordial': 1897, 'exemplifi': 3072, 'appris': 423, 'approxim': 428, 'savior': 7805, 'disgest': 2465, 'eighth': 2809, 'suzann': 8850, 'vega': 9783, 'formal': 3460, 'inconsider': 4484, 'sissi': 8173, 'missionari': 5787, 'palcebowhor': 6525, 'patern': 6602, 'enquiri': 2920, 'solidar': 8363, 'iraq': 4677, 'ptl': 7140, 'dabbl': 2110, 'pubicli': 7144, 'creed': 1996, 'elit': 2830, 'mogul': 5821, 'comatos': 1704, 'fragil': 3489, 'kremlin': 5035, 'chechen': 1464, 'afghan': 149, 'mujahedin': 5949, 'newton': 6126, 'panther': 6544, 'dkang': 2540, 'acumen': 93, 'subscript': 8743, 'annot': 351, 'thequeenbuzz': 9084, 'mun': 5966, 'thump': 9151, 'inject': 4557, 'venom': 9801, 'tourett': 9276, 'unpredict': 9634, 'carnag': 1328, 'skudriv': 8206, 'becsus': 760, 'bacus': 648, 'passerbi': 6590, 'sulk': 8778, 'kiat': 4965, 'anal': 312, 'reddit': 7361, 'dispair': 2487, 'poser': 6926, 'libertin': 5220, 'jail': 4742, 'inhuman': 4553, 'netherland': 6102, 'macendarf': 5435, 'justquiltn': 4895, 'unfinish': 9576, 'thrifti': 9134, 'tdi': 8977, 'convert': 1873, 'currenc': 2082, 'radar': 7235, 'unnot': 9626, 'slink': 8236, 'invari': 4659, 'indirectli': 4507, 'manhandl': 5498, 'hertha': 4138, 'rejoic': 7411, 'err': 2971, 'juri': 4888, 'reincarn': 7407, 'arabia': 436, 'indigen': 4504, 'heater': 4080, 'muddl': 5945, 'wot': 10210, 'sail': 7742, 'salut': 7753, 'temp': 9011, 'rudderless': 7677, 'murua': 5976, 'wakeup': 9921, 'simpler': 8148, 'nourish': 6226, 'lajoi': 5071, 'famer': 3168, 'lowli': 5383, 'khezef': 4963, 'effeminaci': 2789, 'gettin': 3691, 'scad': 7813, 'nailart': 6015, 'headlamp': 4052, 'tent': 9031, 'dharavi': 2362, 'turnov': 9433, 'feelingless': 3237, 'nighter': 6151, 'hierarchi': 4155, 'shampoo': 8014, 'lather': 5101, 'chink': 1509, 'hinder': 4170, 'genentech': 3661, 'takeov': 8931, 'hernia': 4131, 'pageview': 6511, 'reaaallyyyy': 7295, 'jen': 4783, 'occup': 6289, 'rego': 7396, 'instant': 4594, 'refocu': 7380, 'epilept': 2954, 'mele': 5637, 'dp': 2615, 'pendant': 6662, 'mouss': 5916, 'swedish': 8867, 'turnip': 9431, 'metropolitan': 5690, 'mushi': 5981, 'feverishli': 3263, 'ship': 8059, 'inter': 4619, 'feat': 3215, 'bridgewat': 1104, 'reactor': 7300, 'rebel': 7326, 'alien': 229, 'wt': 10238, 'txl': 9460, 'ultralight': 9484, 'newcom': 6118, 'tangent': 8944, 'emma': 2860, 'hypnosi': 4347, 'porcupin': 6914, 'landscap': 5080, 'inexplic': 4522, 'unfound': 9583, 'slump': 8257, 'astray': 527, 'sonia': 8392, 'yixuan': 10296, 'atiqah': 541, 'shortli': 8086, 'circu': 1558, 'ambienc': 278, 'cantanker': 1283, 'marijuana': 5532, 'js': 4855, 'jilt': 4806, 'architect': 442, 'bee': 766, 'swore': 8889, 'gastric': 3636, 'iter': 4718, 'superdrug': 8800, 'slog': 8242, 'substanti': 8747, 'ml': 5804, 'waft': 9911, 'char': 1443, 'humil': 4311, 'bard': 699, 'hillari': 4168, 'elud': 2838, 'colin': 1684, 'entirelli': 2933, 'undertaken': 9540, 'marlow': 5540, 'ruthless': 7709, 'rapac': 7267, 'susanna': 8842, 'vist': 9870, 'devest': 2349, 'grave': 3840, 'andangri': 322, 'glint': 3741, 'patholog': 6605, 'overslept': 6471, 'drape': 2630, 'conect': 1794, 'winey': 10126, 'scummi': 7887, 'killer': 4974, 'autism': 587, 'witless': 10154, 'bontoc': 1007, 'ribbon': 7561, 'floss': 3389, 'sabbat': 7718, 'oxbow': 6490, 'kentucki': 4948, 'preak': 6972, 'sloan': 8240, 'utah': 9733, 'wept': 10025, 'logist': 5319, 'thatrupert': 9071, 'jam': 4748, 'biz': 901, 'kierkegaard': 4972, 'philosoph': 6744, 'interfer': 4625, 'stunt': 8718, 'headcold': 4050, 'intensifi': 4616, 'recruit': 7355, 'opiat': 6367, 'infant': 4523, 'claire': 1568, 'undecor': 9521, 'cornish': 1905, 'cornwal': 1906, 'imbib': 4406, 'incalcul': 4463, 'mischief': 5766, 'lovedi': 5376, 'cheesecak': 1473, 'seemad': 7920, 'nadia': 6007, 'neal': 6056, 'frapp': 3503, 'overtook': 6478, 'soulbitesblog': 8421, 'louder': 5367, 'raider': 7244, 'methink': 5685, 'egypt': 2801, 'disorganis': 2484, 'uuuugh': 9742, 'recours': 7351, 'cabeal': 1228, 'viral': 9859, 'hotlin': 4276, 'rev': 7532, 'reliant': 7426, 'soulmat': 8422, 'foibl': 3416, 'storytel': 8652, 'pew': 6732, 'inund': 4657, 'dissappear': 2499, 'qq': 7189, 'impoverish': 4441, 'freeston': 3520, 'fundament': 3586, 'democrat': 2267, 'alexand': 221, 'hectic': 4090, 'canadian': 1271, 'espa': 2981, 'hd': 4044, 'brethren': 1096, 'surg': 8828, 'murrelet': 5974, 'conductor': 1793, 'oiut': 6319, 'minibu': 5749, 'saddest': 7729, 'impot': 4440, 'faithsedg': 3159, 'archdioces': 440, 'cathedr': 1368, 'strateg': 8665, 'esqu': 2985, 'iam': 4353, 'bondmus': 1003, 'hickori': 4150, 'lenoir': 5186, 'morganton': 5879, 'lathi': 5102, 'yea': 10278, 'forebod': 3440, 'pillar': 6780, 'vietnam': 9836, 'tazi': 8972, 'devis': 2353, 'bia': 854, 'antholog': 366, 'lh': 5213, 'herd': 4128, 'mindless': 5741, 'cohort': 1671, 'inadaqu': 4454, 'vocalist': 9884, 'feminin': 3246, 'leaner': 5146, 'overrrrrrrrrrrr': 6466, 'sachet': 7722, 'brandish': 1074, 'abort': 24, 'overdon': 6451, 'exot': 3086, 'laden': 5063, 'biowar': 882, 'proxim': 7122, 'playroom': 6840, 'bombsit': 1000, 'conservatori': 1825, 'timelin': 9182, 'carseat': 1338, 'cinnamon': 1556, 'egan': 2797, 'kurt': 5044, 'intention': 4618, 'travelogu': 9334, 'june': 4882, 'peek': 6648, 'bough': 1036, 'cardiff': 1310, 'pervas': 6714, 'wagon': 9913, 'par': 6553, 'faculti': 3148, 'crossword': 2028, 'milkshak': 5726, 'tooth': 9248, 'habanero': 3934, 'rad': 7234, 'shirley': 8062, 'maclain': 5442, 'sub': 8729, 'abund': 39, 'extraordinari': 3118, 'invent': 4661, 'hail': 3950, 'ember': 2851, 'flake': 3339, 'whalente': 10038, 'benson': 820, 'monica': 5850, 'releg': 7419, 'wanatrib': 9936, 'spotlessli': 8514, 'gust': 3923, 'plein': 6849, 'dlpt': 2542, 'stressor': 8676, 'consign': 1828, 'goodwil': 3787, 'scarf': 7824, 'flux': 3407, 'biochemistri': 878, 'zambia': 10327, 'ransom': 7264, 'nanci': 6027, 'alotta': 259, 'mumbl': 5964, 'sonogram': 8395, 'coldplay': 1680, 'manicur': 5502, 'overton': 6477, 'jonni': 4840, 'of': 6302, 'cardiovascular': 1312, 'emoexaderist': 2862, 'sorta': 8417, 'evgeni': 3039, 'malkin': 5483, 'timmi': 9187, 'ytear': 10317, 'justwhen': 4896, 'futru': 3600, 'timesa': 9184, 'efeel': 2786, 'slit': 8239, 'tartandheath': 8955, 'louch': 5365, 'stud': 8706, 'revenu': 7540, 'disbelief': 2439, 'fixtur': 3332, 'jajaja': 4743, 'overtaken': 6474, 'greeneri': 3854, 'jogless': 4819, 'stripe': 8686, 'oogl': 6357, 'actress': 90, 'sexier': 7994, 'forefing': 3442, 'thumb': 9149, 'persev': 6700, 'idaho': 4364, 'kudo': 5040, 'summit': 8784, 'carla': 1327, 'burki': 1198, 'banish': 688, 'exhibition': 3080, 'newrhinegargoyl': 6122, 'adrasteiu': 122, 'eulalia': 3007, 'tho': 9118, 'incest': 4471, 'mar': 5520, 'prose': 7099, 'particulari': 6581, 'folksi': 3422, 'intercours': 4623, 'rawr': 7291, 'jillian': 4805, 'pineappl': 6788, 'grape': 3832, 'watermelon': 9972, 'berri': 829, 'chop': 1521, 'mint': 5757, 'liqueur': 5273, 'rum': 7690, 'drambui': 2628, 'documenti': 2551, 'ffayth': 3265, 'armpit': 461, 'hopper': 4256, 'dianam': 2374, 'cricnep': 2007, 'faint': 3154, 'lll': 5301, 'karmardav': 4920, 'peel': 6649, 'allerg': 239, 'distrust': 2520, 'tout': 9280, 'cogniz': 1667, 'cosmo': 1917, 'years': 10284, 'hamster': 3967, 'sylvanian': 8894, 'flock': 3380, 'fur': 3593, 'zeno': 10336, 'solver': 8372, 'sermon': 7975, 'scotti': 7863, 'snug': 8329, 'mural': 5971, 'painstakingli': 6517, 'ingeni': 4545, 'dummi': 2695, 'pariah': 6569, 'lve': 5427, 'homeland': 4221, 'mansion': 5512, 'plantar': 6825, 'fasciti': 3189, 'dissassoci': 2500, 'grudg': 3889, 'glow': 3754, 'jasmin': 4764, 'teapot': 8985, 'pretzel': 7018, 'downstair': 2607, 'athf': 538, 'sweatpant': 8864, 'ferri': 3252, 'armani': 457, 'blazer': 921, 'overthink': 6475, 'disband': 2438, 'server': 7978, 'lad': 5060, 'herbal': 4126, 'autonomi': 593, 'dispos': 2492, 'ukrainian': 9481, 'pani': 6538, 'nonbipartisan': 6186, 'aluminum': 272, 'deader': 2176, 'predawn': 6979, 'scape': 7819, 'goat': 3766, 'ehh': 2805, 'hideous': 4154, 'guili': 3907, 'befo': 773, 'tod': 9213, 'keeper': 4939, 'suzanna': 8851, 'idyl': 4378, 'vacation': 9749, 'batchmat': 725, 'aretha': 448, 'jamaica': 4749, 'thundershow': 9153, 'ginorm': 3715, 'earley': 2729, 'alan': 206, 'exfoli': 3076, 'mimic': 5735, 'longlast': 5337, 'winehous': 10124, 'ford': 3438, 'buoy': 1190, 'surrend': 8836, 'internetspher': 4633, 'sojourn': 8354, 'judi': 4865, 'glasberg': 3733, 'unduli': 9556, 'batteri': 732, 'detector': 2336, 'anthem': 365, 'practici': 6958, 'cult': 2064, 'falun': 3165, 'gong': 3782, 'bemus': 804, 'fray': 3508, 'spinner': 8483, 'detachedli': 2333, 'noseband': 6209, 'infus': 4543, 'liek': 5229, 'vienna': 9835, 'endors': 2897, 'litter': 5288, 'swingset': 8883, 'tiniest': 9193, 'curfew': 2075, 'hb': 4043, 'nemesi': 6084, 'tow': 9281, 'pickup': 6765, 'lo': 5303, 'orlando': 6401, 'hirsi': 4179, 'ingrid': 4549, 'sparsh': 8446, 'climax': 1608, 'quench': 7203, 'extinguish': 3115, 'mold': 5828, 'rivalri': 7601, 'riley': 7582, 'unseat': 9653, 'frilli': 3547, 'bloomer': 955, 'babydol': 633, 'heheheheh': 4099, 'dissatisfact': 2501, 'misus': 5798, 'apostroph': 405, 'bbc': 738, 'itv': 4723, 'jitteri': 4811, 'meh': 5632, 'looooong': 5342, 'benno': 819, 'motorcycl': 5905, 'slouchi': 8247, 'resili': 7495, 'var': 9767, 'bogart': 990, 'arvo': 486, 'benedictin': 811, 'monasteri': 5844, 'monast': 5843, 'statesmen': 8590, 'mob': 5808, 'lynch': 5430, 'contend': 1853, 'pediatrician': 6646, 'aaaand': 3, 'deterg': 2338, 'newli': 6121, 'addl': 102, 'emty': 2879, 'smelt': 8275, 'taint': 8925, 'jot': 4846, 'pestil': 6722, 'starvat': 8584, 'pepper': 6671, 'zico': 10340, 'leer': 5162, 'firsthand': 3323, 'outstretch': 6435, 'purposeless': 7173, 'hermion': 4130, 'crampi': 1971, 'spazzola': 8450, 'prima': 7030, 'andar': 323, 'dormir': 2590, 'weakest': 9981, 'dilig': 2402, 'underlin': 9532, 'oxtail': 6492, 'tomo': 9235, 'theofil': 9080, 'kastrioti': 4923, 'impenetr': 4426, 'crescent': 2001, 'havet': 4038, 'gloss': 3751, 'heed': 4095, 'lodg': 5314, 'oesophagu': 6301, 'insipid': 4585, 'boomer': 1015, 'oregon': 6391, 'unamerican': 9493, 'detent': 2337, 'figt': 3287, 'withdrawn': 10149, 'badman': 653, 'cammi': 1263, 'headless': 4053, 'shrink': 8103, 'riski': 7594, 'vari': 9768, 'imit': 4411, 'reminisc': 7444, 'millennia': 5728, 'brainstorm': 1068, 'vice': 9827, 'snoozel': 8319, 'contractu': 1863, 'vietnames': 9837, 'unbreak': 9502, 'writin': 10229, 'gs': 3893, 'dwindl': 2717, 'arsen': 472, 'mack': 5441, 'revamp': 7534, 'nik': 6158, 'dinn': 2414, 'roam': 7607, 'tunnel': 9423, 'oppon': 6372, 'disqualif': 2494, 'hawaiian': 4039, 'prettiest': 7016, 'starbuck': 8578, 'slower': 8250, 'serioulsi': 7973, 'jreyez': 4853, 'jenni': 4785, 'alll': 245, 'veryy': 9817, 'crunchi': 2043, 'waitros': 9919, 'shimmer': 8053, 'yearli': 10282, 'hollyoak': 4216, 'liriano': 5276, 'ardmor': 444, 'kaikoh': 4902, 'pilot': 6782, 'licenc': 5223, 'problemat': 7056, 'heighten': 4102, 'endlessli': 2895, 'riku': 7580, 'rub': 7671, 'extract': 3117, 'kindaish': 4982, 'sighhh': 8128, 'playwright': 6841, 'reid': 7404, 'posto': 6937, 'portugu': 6924, 'boredwithquinn': 1023, 'popey': 6908, 'cartoon': 1341, 'nano': 6029, 'levi': 5210, 'tread': 9339, 'osteopath': 6409, 'boulder': 1038, 'snappi': 8297, 'bayou': 736, 'cypress': 2106, 'wildlif': 10107, 'lest': 5198, 'unpav': 9629, 'undergradu': 9529, 'humanli': 4306, 'stub': 8701, 'shailen': 8005, 'annul': 356, 'sectret': 7911, 'egf': 2798, 'jar': 4762, 'sparkleappl': 8443, 'akward': 203, 'tizzi': 9206, 'haagen': 3933, 'daz': 2169, 'indisput': 4509, 'doorknob': 2582, 'cloest': 1620, 'growl': 3886, 'nevercontrari': 6111, 'jake': 4744, 'mongoos': 5849, 'tai': 8923, 'chi': 1489, 'hasan': 4019, 'modest': 5816, 'schadenfreud': 7836, 'voyeur': 9902, 'neurosurgeon': 6105, 'ick': 4360, 'feautur': 3218, 'selena': 7930, 'ruptur': 7700, 'skid': 8195, 'churchi': 1544, 'cheesi': 1474, 'hourglass': 4280, 'rfttttttttttsjiowefmklldkavsvdsbtwrsbdvfocxfibjxrklrgrmvaeridubneosdvfrwfd': 7555, 'gen': 3656, 'xer': 10254, 'finalist': 3299, 'expend': 3093, 'miscreant': 5767, 'diagnostician': 2367, 'lauper': 5113, 'sadlovequotesforhim': 7734, 'travi': 9336, 'crucial': 2034, 'expatri': 3090, 'budgetari': 1161, 'ant': 363, 'cudnt': 2058, 'fren': 3524, 'dat': 2152, 'rapid': 7270, 'br': 1057, 'roman': 7630, 'freaki': 3511, 'monarch': 5842, 'geograph': 3675, 'australian': 583, 'overemot': 6455, 'donna': 2570, 'jtwoo': 4858, 'fixabl': 3331, 'cuss': 2091, 'overconfid': 6449, 'mohdashif': 5823, 'underappreci': 9525, 'mcraven': 5602, 'ut': 9732, 'pluson': 6861, 'wilcfri': 10103, 'freud': 3534, 'irma': 4682, 'lifespan': 5232, 'twiggi': 9449, 'holder': 4205, 'neon': 6087, 'shizz': 8068, 'vancouv': 9762, 'sniff': 8307, 'rockett': 7619, 'stipul': 8635, 'skeer': 8188, 'allus': 250, 'massou': 5563, 'puter': 7181, 'invas': 4660, 'lik': 5245, 'debra': 2191, 'woodston': 10184, 'kansa': 4911, 'fiesti': 3278, 'haggl': 3943, 'nickey': 6139, 'out': 6415, 'popcorn': 6907, 'pinot': 6794, 'gri': 3860, 'obbi': 6270, 'consul': 1843, 'shinobi': 8058, 'infp': 4539, 'hassl': 4021, 'curli': 2081, 'tabbi': 8912, 'creek': 1997, 'meadow': 5607, 'fighter': 3284, 'upholst': 9699, 'timeless': 9181, 'gertrud': 3685, 'stuckin': 8705, 'discombobul': 2450, 'poster': 6935, 'bryangregorylewi': 1148, 'blogland': 943, 'dunnno': 2702, 'miniatur': 5748, 'dribbl': 2646, 'disput': 2493, 'imperfect': 4427, 'sexist': 7995, 'diss': 2498, 'fug': 3574, 'keynot': 4957, 'hypocrisi': 4348, 'wantig': 9942, 'yawn': 10274, 'thankk': 9066, 'mang': 5496, 'rpg': 7666, 'jrpg': 4854, 'righteous': 7575, 'yomi': 10303, 'unprofession': 9638, 'detroit': 2346, 'oiler': 6317, 'pt': 7137, 'gloom': 3748, 'overh': 6456, 'finest': 3305, 'ren': 7450, 'stimpi': 8629, 'gemini': 3655, 'scorpio': 7859, 'slr': 8252, 'goer': 3773, 'zz': 10356, 'keychain': 4956, 'tltg': 9208, 'delv': 2263, 'mystifi': 6001, 'karat': 4914, 'diagon': 2368, 'kendo': 4946, 'frog': 3551, 'downstream': 2608, 'motel': 5897, 'cleari': 1596, 'merson': 5674, 'badger': 651, 'ars': 471, 'wolfiewolfgang': 10169, 'numbingli': 6248, 'nuanc': 6239, 'nudist': 6243, 'snorkel': 8321, 'eclips': 2760, 'pond': 6898, 'scrambl': 7865, 'meticul': 5687, 'fright': 3545, 'winetast': 10125, 'neferet': 6074, 'kuribayashi': 5043, 'psssh': 7127, 'hesei': 4140, 'kamen': 4907, 'descend': 2309, 'sooooooooper': 8405, 'conclud': 1783, 'rocket': 7618, 'satir': 7791, 'springi': 8524, 'camwhor': 1268, 'pud': 7148, 'anotehr': 359, 'ftw': 3566, 'paramilitari': 6560, 'todi': 9219, 'decal': 2196, 'derid': 2306, 'apocalyps': 401, 'ica': 4357, 'loosen': 5346, 'infatu': 4525, 'vase': 9776, 'questionnair': 7207, 'buoi': 1189, 'tryin': 9401, 'gud': 3899, 'pal': 6523, 'understad': 9536, 'abt': 38, 'problemn': 7057, 'carin': 1325, 'cape': 1292, 'akron': 201, 'odkh': 6298, 'kilter': 4976, 'shameless': 8013, 'hottest': 4278, 'gunna': 3919, 'calmli': 1253, 'hymn': 4338, 'proffer': 7070, 'duet': 2687, 'tallest': 8939, 'oop': 6360, 'conqueror': 1815, 'pissi': 6804, 'dumbass': 2693, 'rukia': 7688, 'wiki': 10102, 'influx': 4536, 'alsway': 264, 'intub': 4655, 'ime': 4409, 'hunch': 4318, 'gop': 3791, 'drinki': 2652, 'lemur': 5180, 'slobbi': 8241, 'incestu': 4472, 'twoyear': 9458, 'abhorr': 16, 'clodia': 1619, 'everitt': 3029, 'kina': 4979, 'darkest': 2143, 'peic': 6655, 'bicycl': 861, 'obrian': 6279, 'characteris': 1445, 'wettest': 10033, 'rec': 7329, 'thompson': 9120, 'fluff': 3398, 'eepctqlhiafjwnrrma': 2783, 'permit': 6693, 'flour': 3391, 'tricki': 9367, 'complement': 1755, 'chic': 1491, 'mudblood': 5942, 'whatnot': 10041, 'hockney': 4199, 'saloon': 7750, 'underton': 9541, 'aj': 198, 'burnout': 1203, 'helena': 4109, 'bonham': 1005, 'carter': 1340, 'johnnykaj': 4823, 'scotch': 7860, 'expedit': 3092, 'amazing': 276, 'acim': 75, 'abraham': 27, 'caramel': 1301, 'syrup': 8907, 'shhh': 8046, 'laddi': 5062, 'crib': 2005, 'vantag': 9765, 'flagel': 3337, 'priest': 7029, 'hmm': 4186, 'rhyme': 7558, 'potion': 6943, 'dessen': 2325, 'retali': 7518, 'opera': 6365, 'shhhhhhh': 8047, 'hella': 4111, 'juggl': 4867, 'trigonometri': 9369, 'tute': 9434, 'shuffl': 8108, 'liabl': 5215, 'paulo': 6617, 'coelho': 1659, 'pend': 6661, 'miller': 5729, 'trickeri': 9366, 'fraudul': 3507, 'geographi': 3676, 'rosari': 7645, 'treacheri': 9338, 'xl': 10256, 'gim': 3711, 'effin': 2792, 'lulu': 5405, 'mover': 5920, 'blew': 929, 'supplic': 8815, 'celexa': 1394, 'se': 7889, 'spectra': 8462, 'gfb': 3695, 'bookworm': 1014, 'choc': 1514, 'bloc': 938, 'yawwwn': 10275, 'freshli': 3532, 'doodlesandscrapsofm': 2577, 'bal': 667, 'thackerey': 9060, 'palpabl': 6530, 'diazepam': 2379, 'clozapin': 1633, 'thatd': 9069, 'sepang': 7961, 'axilla': 622, 'morla': 5882, 'fluidli': 3401, 'jude': 4860, 'asciat': 492, 'nikola': 6161, 'torward': 9259, 'tryst': 9402, 'jurer': 4887, 'pulpit': 7152, 'efficaci': 2790, 'varsiti': 9774, 'tim': 9179, 'empathis': 2870, 'trailer': 9304, 'taxat': 8970, 'mayor': 5591, 'byron': 1224, 'haka': 3955, 'pointi': 6876, 'jog': 4818, 'overnight': 6462, 'ahem': 181, 'arti': 475, 'ahkman': 183, 'maniac': 5501, 'aboard': 22, 'gillard': 3710, 'undefin': 9522, 'bleh': 924, 'irrepar': 4687, 'nolean': 6181, 'wihtout': 10101, 'needin': 6070, 'beth': 838, 'kindda': 4983, 'brunch': 1143, 'waldo': 9923, 'flinch': 3374, 'airtim': 196, 'tin': 9188, 'chant': 1438, 'reverber': 7542, 'clammi': 1570, 'flaunt': 3354, 'cotton': 1923, 'barker': 706, 'proudli': 7113, 'mimm': 5736, 'thislifeissparkl': 9115, 'tinsel': 9194, 'headband': 4049, 'brooch': 1127, 'nashvil': 6039, 'refrenc': 7383, 'mallrat': 5485, 'torch': 9252, 'posh': 6928, 'cushi': 2089, 'clamour': 1571, 'exict': 3083, 'nanni': 6028, 'snark': 8299, 'avenu': 597, 'goin': 3774, 'moshav': 5893, 'dancin': 2132, 'beatl': 754, 'prosecutor': 7101, 'dc': 2172, 'blunder': 967, 'downtown': 2611, 'terrribl': 9047, 'livejourn': 5293, 'delet': 2253, 'ryota': 7716, 'keita': 4942, 'kota': 5032, 'undeni': 9523, 'iggi': 4383, 'azealea': 625, 'louboutin': 5364, 'rita': 7595, 'ora': 6382, 'vivienn': 9877, 'westwood': 10031, 'rural': 7701, 'vocref': 9885, 'ontolog': 6355, 'caterpillar': 1365, 'stylish': 8726, 'auction': 569, 'daley': 2119, 'bronz': 1126, 'wi': 10087, 'carnivor': 1330, 'councillor': 1931, 'audr': 574, 'antidepress': 370, 'miracul': 5762, 'brach': 1060, 'chipmunk': 1511, 'jonah': 4834, 'vultur': 9906, 'sic': 8115, 'psychiatri': 7129, 'gf': 3693, 'vivek': 9875, 'oberoi': 6272, 'herb': 4125, 'arrow': 470, 'jerom': 4792, 'supersensit': 8808, 'abbigail': 10, 'apraxia': 430, 'everyfuckingth': 3033, 'passiv': 6593, 'lovecraft': 5375, 'sparkli': 8444, 'policemen': 6885, 'mammal': 5488, 'overlap': 6459, 'squeek': 8539, 'underli': 9531, 'hachi': 3937, 'nobu': 6172, 'nana': 6025, 'riotousrambl': 7587, 'ps': 7125, 'odeon': 6297, 'portug': 6923, 'lev': 5208, 'eachoth': 2722, 'killjoy': 4975, 'terroris': 9046, 'isobelmeg': 4704, 'squirm': 8543, 'calf': 1243, 'ribcag': 7562, 'japan': 4760, 'manchest': 5493, 'aunti': 578, 'disconsol': 2453, 'crise': 2013, 'bungalow': 1183, 'pandora': 6535, 'cosmopolitian': 1918, 'monke': 5852, 'irrelev': 4686, 'braeden': 1063, 'calvin': 1257, 'beanbag': 748}\n"
     ]
    }
   ],
   "source": [
    "print(vectorizer.vocabulary_)"
   ]
  },
  {
   "cell_type": "markdown",
   "metadata": {},
   "source": [
    "Vocabulary is created from all the unique words which is tokenized from each sentences\n",
    "Each sentence is now with 11244 dimesnion (Feature Vector)"
   ]
  },
  {
   "cell_type": "markdown",
   "metadata": {},
   "source": [
    "                                        04. Building Base-Line Model (Logistic Regression)"
   ]
  },
  {
   "cell_type": "code",
   "execution_count": 34,
   "metadata": {},
   "outputs": [],
   "source": [
    "# Some required modules and libraries\n",
    "from sklearn.model_selection import GridSearchCV\n",
    "from sklearn.metrics import auc, make_scorer, recall_score, f1_score, accuracy_score, precision_score, confusion_matrix\n",
    "from sklearn import metrics\n",
    "from sklearn.metrics import classification_report"
   ]
  },
  {
   "cell_type": "code",
   "execution_count": 35,
   "metadata": {},
   "outputs": [
    {
     "data": {
      "text/plain": [
       "0.855"
      ]
     },
     "execution_count": 35,
     "metadata": {},
     "output_type": "execute_result"
    }
   ],
   "source": [
    "from sklearn.linear_model import LogisticRegression\n",
    "classifier = LogisticRegression(class_weight='balanced')\n",
    "classifier.fit(X_train,train_y)\n",
    "score = classifier.score(X_test,test_y)\n",
    "score"
   ]
  },
  {
   "cell_type": "code",
   "execution_count": 36,
   "metadata": {},
   "outputs": [
    {
     "data": {
      "text/plain": [
       "array([4, 4, 0, ..., 2, 0, 4])"
      ]
     },
     "execution_count": 36,
     "metadata": {},
     "output_type": "execute_result"
    }
   ],
   "source": [
    "pred=classifier.predict(X_train)\n",
    "pred"
   ]
  },
  {
   "cell_type": "code",
   "execution_count": 37,
   "metadata": {},
   "outputs": [
    {
     "data": {
      "text/html": [
       "<div>\n",
       "<style scoped>\n",
       "    .dataframe tbody tr th:only-of-type {\n",
       "        vertical-align: middle;\n",
       "    }\n",
       "\n",
       "    .dataframe tbody tr th {\n",
       "        vertical-align: top;\n",
       "    }\n",
       "\n",
       "    .dataframe thead th {\n",
       "        text-align: right;\n",
       "    }\n",
       "</style>\n",
       "<table border=\"1\" class=\"dataframe\">\n",
       "  <thead>\n",
       "    <tr style=\"text-align: right;\">\n",
       "      <th></th>\n",
       "      <th>actual</th>\n",
       "      <th>pred</th>\n",
       "    </tr>\n",
       "  </thead>\n",
       "  <tbody>\n",
       "    <tr>\n",
       "      <th>0</th>\n",
       "      <td>4</td>\n",
       "      <td>4</td>\n",
       "    </tr>\n",
       "    <tr>\n",
       "      <th>1</th>\n",
       "      <td>4</td>\n",
       "      <td>4</td>\n",
       "    </tr>\n",
       "    <tr>\n",
       "      <th>2</th>\n",
       "      <td>0</td>\n",
       "      <td>0</td>\n",
       "    </tr>\n",
       "    <tr>\n",
       "      <th>3</th>\n",
       "      <td>3</td>\n",
       "      <td>3</td>\n",
       "    </tr>\n",
       "    <tr>\n",
       "      <th>4</th>\n",
       "      <td>0</td>\n",
       "      <td>0</td>\n",
       "    </tr>\n",
       "  </tbody>\n",
       "</table>\n",
       "</div>"
      ],
      "text/plain": [
       "   actual  pred\n",
       "0       4     4\n",
       "1       4     4\n",
       "2       0     0\n",
       "3       3     3\n",
       "4       0     0"
      ]
     },
     "execution_count": 37,
     "metadata": {},
     "output_type": "execute_result"
    }
   ],
   "source": [
    "predicted_actuals=pd.DataFrame({'actual':list(train_y),'pred':pred})\n",
    "predicted_actuals.head()"
   ]
  },
  {
   "cell_type": "code",
   "execution_count": 38,
   "metadata": {},
   "outputs": [
    {
     "data": {
      "text/html": [
       "<div>\n",
       "<style scoped>\n",
       "    .dataframe tbody tr th:only-of-type {\n",
       "        vertical-align: middle;\n",
       "    }\n",
       "\n",
       "    .dataframe tbody tr th {\n",
       "        vertical-align: top;\n",
       "    }\n",
       "\n",
       "    .dataframe thead th {\n",
       "        text-align: right;\n",
       "    }\n",
       "</style>\n",
       "<table border=\"1\" class=\"dataframe\">\n",
       "  <thead>\n",
       "    <tr style=\"text-align: right;\">\n",
       "      <th></th>\n",
       "      <th>actual</th>\n",
       "      <th>pred</th>\n",
       "      <th>correct_prediction</th>\n",
       "    </tr>\n",
       "  </thead>\n",
       "  <tbody>\n",
       "    <tr>\n",
       "      <th>0</th>\n",
       "      <td>4</td>\n",
       "      <td>4</td>\n",
       "      <td>1</td>\n",
       "    </tr>\n",
       "    <tr>\n",
       "      <th>1</th>\n",
       "      <td>4</td>\n",
       "      <td>4</td>\n",
       "      <td>1</td>\n",
       "    </tr>\n",
       "    <tr>\n",
       "      <th>2</th>\n",
       "      <td>0</td>\n",
       "      <td>0</td>\n",
       "      <td>1</td>\n",
       "    </tr>\n",
       "    <tr>\n",
       "      <th>3</th>\n",
       "      <td>3</td>\n",
       "      <td>3</td>\n",
       "      <td>1</td>\n",
       "    </tr>\n",
       "    <tr>\n",
       "      <th>4</th>\n",
       "      <td>0</td>\n",
       "      <td>0</td>\n",
       "      <td>1</td>\n",
       "    </tr>\n",
       "  </tbody>\n",
       "</table>\n",
       "</div>"
      ],
      "text/plain": [
       "   actual  pred  correct_prediction\n",
       "0       4     4                   1\n",
       "1       4     4                   1\n",
       "2       0     0                   1\n",
       "3       3     3                   1\n",
       "4       0     0                   1"
      ]
     },
     "execution_count": 38,
     "metadata": {},
     "output_type": "execute_result"
    }
   ],
   "source": [
    "import numpy as np\n",
    "predicted_actuals['correct_prediction']=np.where(predicted_actuals['pred']==predicted_actuals['actual'],1,0)\n",
    "predicted_actuals.head()"
   ]
  },
  {
   "cell_type": "code",
   "execution_count": 39,
   "metadata": {},
   "outputs": [
    {
     "data": {
      "text/html": [
       "<div>\n",
       "<style scoped>\n",
       "    .dataframe tbody tr th:only-of-type {\n",
       "        vertical-align: middle;\n",
       "    }\n",
       "\n",
       "    .dataframe tbody tr th {\n",
       "        vertical-align: top;\n",
       "    }\n",
       "\n",
       "    .dataframe thead th {\n",
       "        text-align: right;\n",
       "    }\n",
       "</style>\n",
       "<table border=\"1\" class=\"dataframe\">\n",
       "  <thead>\n",
       "    <tr style=\"text-align: right;\">\n",
       "      <th>correct_prediction</th>\n",
       "      <th>0</th>\n",
       "      <th>1</th>\n",
       "      <th>All</th>\n",
       "    </tr>\n",
       "    <tr>\n",
       "      <th>actual</th>\n",
       "      <th></th>\n",
       "      <th></th>\n",
       "      <th></th>\n",
       "    </tr>\n",
       "  </thead>\n",
       "  <tbody>\n",
       "    <tr>\n",
       "      <th>0</th>\n",
       "      <td>67</td>\n",
       "      <td>2092</td>\n",
       "      <td>2159</td>\n",
       "    </tr>\n",
       "    <tr>\n",
       "      <th>1</th>\n",
       "      <td>94</td>\n",
       "      <td>1843</td>\n",
       "      <td>1937</td>\n",
       "    </tr>\n",
       "    <tr>\n",
       "      <th>2</th>\n",
       "      <td>334</td>\n",
       "      <td>5028</td>\n",
       "      <td>5362</td>\n",
       "    </tr>\n",
       "    <tr>\n",
       "      <th>3</th>\n",
       "      <td>53</td>\n",
       "      <td>1251</td>\n",
       "      <td>1304</td>\n",
       "    </tr>\n",
       "    <tr>\n",
       "      <th>4</th>\n",
       "      <td>176</td>\n",
       "      <td>4490</td>\n",
       "      <td>4666</td>\n",
       "    </tr>\n",
       "    <tr>\n",
       "      <th>5</th>\n",
       "      <td>7</td>\n",
       "      <td>565</td>\n",
       "      <td>572</td>\n",
       "    </tr>\n",
       "    <tr>\n",
       "      <th>All</th>\n",
       "      <td>731</td>\n",
       "      <td>15269</td>\n",
       "      <td>16000</td>\n",
       "    </tr>\n",
       "  </tbody>\n",
       "</table>\n",
       "</div>"
      ],
      "text/plain": [
       "correct_prediction    0      1    All\n",
       "actual                               \n",
       "0                    67   2092   2159\n",
       "1                    94   1843   1937\n",
       "2                   334   5028   5362\n",
       "3                    53   1251   1304\n",
       "4                   176   4490   4666\n",
       "5                     7    565    572\n",
       "All                 731  15269  16000"
      ]
     },
     "execution_count": 39,
     "metadata": {},
     "output_type": "execute_result"
    }
   ],
   "source": [
    "pd.crosstab(predicted_actuals['actual'],predicted_actuals['correct_prediction'],margins=True)"
   ]
  },
  {
   "cell_type": "code",
   "execution_count": 40,
   "metadata": {},
   "outputs": [
    {
     "data": {
      "text/plain": [
       "0.9543125"
      ]
     },
     "execution_count": 40,
     "metadata": {},
     "output_type": "execute_result"
    }
   ],
   "source": [
    "accuracy=accuracy_score(train_y,pred)\n",
    "accuracy"
   ]
  },
  {
   "cell_type": "code",
   "execution_count": 41,
   "metadata": {},
   "outputs": [
    {
     "data": {
      "text/html": [
       "<div>\n",
       "<style scoped>\n",
       "    .dataframe tbody tr th:only-of-type {\n",
       "        vertical-align: middle;\n",
       "    }\n",
       "\n",
       "    .dataframe tbody tr th {\n",
       "        vertical-align: top;\n",
       "    }\n",
       "\n",
       "    .dataframe thead th {\n",
       "        text-align: right;\n",
       "    }\n",
       "</style>\n",
       "<table border=\"1\" class=\"dataframe\">\n",
       "  <thead>\n",
       "    <tr style=\"text-align: right;\">\n",
       "      <th>correct_prediction</th>\n",
       "      <th>0</th>\n",
       "      <th>1</th>\n",
       "      <th>All</th>\n",
       "    </tr>\n",
       "    <tr>\n",
       "      <th>actual</th>\n",
       "      <th></th>\n",
       "      <th></th>\n",
       "      <th></th>\n",
       "    </tr>\n",
       "  </thead>\n",
       "  <tbody>\n",
       "    <tr>\n",
       "      <th>0</th>\n",
       "      <td>41</td>\n",
       "      <td>234</td>\n",
       "      <td>275</td>\n",
       "    </tr>\n",
       "    <tr>\n",
       "      <th>1</th>\n",
       "      <td>40</td>\n",
       "      <td>184</td>\n",
       "      <td>224</td>\n",
       "    </tr>\n",
       "    <tr>\n",
       "      <th>2</th>\n",
       "      <td>91</td>\n",
       "      <td>604</td>\n",
       "      <td>695</td>\n",
       "    </tr>\n",
       "    <tr>\n",
       "      <th>3</th>\n",
       "      <td>38</td>\n",
       "      <td>121</td>\n",
       "      <td>159</td>\n",
       "    </tr>\n",
       "    <tr>\n",
       "      <th>4</th>\n",
       "      <td>71</td>\n",
       "      <td>510</td>\n",
       "      <td>581</td>\n",
       "    </tr>\n",
       "    <tr>\n",
       "      <th>5</th>\n",
       "      <td>9</td>\n",
       "      <td>57</td>\n",
       "      <td>66</td>\n",
       "    </tr>\n",
       "    <tr>\n",
       "      <th>All</th>\n",
       "      <td>290</td>\n",
       "      <td>1710</td>\n",
       "      <td>2000</td>\n",
       "    </tr>\n",
       "  </tbody>\n",
       "</table>\n",
       "</div>"
      ],
      "text/plain": [
       "correct_prediction    0     1   All\n",
       "actual                             \n",
       "0                    41   234   275\n",
       "1                    40   184   224\n",
       "2                    91   604   695\n",
       "3                    38   121   159\n",
       "4                    71   510   581\n",
       "5                     9    57    66\n",
       "All                 290  1710  2000"
      ]
     },
     "execution_count": 41,
     "metadata": {},
     "output_type": "execute_result"
    }
   ],
   "source": [
    "import numpy as np\n",
    "pred=classifier.predict(X_test)\n",
    "predicted_actuals=pd.DataFrame({'actual':list(test_y),'pred':pred})\n",
    "predicted_actuals['correct_prediction']=np.where(predicted_actuals['pred']==predicted_actuals['actual'],1,0)\n",
    "pd.crosstab(predicted_actuals['actual'],predicted_actuals['correct_prediction'],margins=True)"
   ]
  },
  {
   "cell_type": "code",
   "execution_count": 42,
   "metadata": {},
   "outputs": [
    {
     "data": {
      "text/plain": [
       "['Log_model.pkl']"
      ]
     },
     "execution_count": 42,
     "metadata": {},
     "output_type": "execute_result"
    }
   ],
   "source": [
    "from sklearn.externals import joblib\n",
    "# Save the model for future purpose\n",
    "joblib.dump(classifier,'Log_model.pkl')"
   ]
  },
  {
   "cell_type": "code",
   "execution_count": 43,
   "metadata": {},
   "outputs": [
    {
     "name": "stdout",
     "output_type": "stream",
     "text": [
      "0.855\n"
     ]
    }
   ],
   "source": [
    "# load the model from disk\n",
    "loaded_model = joblib.load('Log_model.pkl')\n",
    "result = loaded_model.score(X_test,test_y)\n",
    "print(result)"
   ]
  },
  {
   "cell_type": "markdown",
   "metadata": {},
   "source": [
    "                                            05. Building Traditional Models "
   ]
  },
  {
   "cell_type": "markdown",
   "metadata": {},
   "source": [
    "                                                  a. Random Forest Model"
   ]
  },
  {
   "cell_type": "code",
   "execution_count": 29,
   "metadata": {},
   "outputs": [],
   "source": [
    "# Random Forest Classifier\n",
    "from sklearn.ensemble import RandomForestClassifier"
   ]
  },
  {
   "cell_type": "code",
   "execution_count": 75,
   "metadata": {},
   "outputs": [
    {
     "data": {
      "text/plain": [
       "{'max_depth': 34, 'n_estimators': 100}"
      ]
     },
     "execution_count": 75,
     "metadata": {},
     "output_type": "execute_result"
    }
   ],
   "source": [
    "# Choosing the optimal parameter for the classifier                     \n",
    "param_grid = [{'max_depth':[30,32,34,36],'n_estimators':[100]}]\n",
    "scorer={'accuracy_score': make_scorer(accuracy_score)}\n",
    "\n",
    "#RF = RandomForestClassifier(random_state = 123,criterion='entropy',class_weight='balanced',max_features='sqrt')\n",
    "RF = RandomForestClassifier(random_state = 123,criterion='entropy',class_weight='balanced')\n",
    "\n",
    "RF_GS=GridSearchCV(RF,param_grid=param_grid,scoring=scorer,refit='accuracy_score',cv=10,n_jobs=-1)\n",
    "RF_GS.fit(X_train,train_y)  \n",
    "RF_GS.best_params_"
   ]
  },
  {
   "cell_type": "code",
   "execution_count": 76,
   "metadata": {},
   "outputs": [
    {
     "data": {
      "text/plain": [
       "0.804125"
      ]
     },
     "execution_count": 76,
     "metadata": {},
     "output_type": "execute_result"
    }
   ],
   "source": [
    "RF_GS.best_score_"
   ]
  },
  {
   "cell_type": "code",
   "execution_count": 30,
   "metadata": {},
   "outputs": [
    {
     "data": {
      "text/plain": [
       "RandomForestClassifier(bootstrap=True, class_weight='balanced',\n",
       "            criterion='entropy', max_depth=34, max_features='auto',\n",
       "            max_leaf_nodes=None, min_impurity_decrease=0.0,\n",
       "            min_impurity_split=None, min_samples_leaf=1,\n",
       "            min_samples_split=2, min_weight_fraction_leaf=0.0,\n",
       "            n_estimators=100, n_jobs=1, oob_score=False, random_state=123,\n",
       "            verbose=0, warm_start=False)"
      ]
     },
     "execution_count": 30,
     "metadata": {},
     "output_type": "execute_result"
    }
   ],
   "source": [
    "# Build the model with the optimal parameter\n",
    "RF_1 = RandomForestClassifier(random_state = 123,n_estimators=100,criterion='entropy',class_weight='balanced',max_depth=34)\n",
    "#RF_1 = RandomForestClassifier(random_state = 123,n_estimators=3000,criterion='entropy',class_weight='balanced',max_depth=64,max_features='sqrt')\n",
    "RF_1.fit(X_train,train_y)"
   ]
  },
  {
   "cell_type": "code",
   "execution_count": 31,
   "metadata": {},
   "outputs": [
    {
     "data": {
      "text/plain": [
       "0.9113125"
      ]
     },
     "execution_count": 31,
     "metadata": {},
     "output_type": "execute_result"
    }
   ],
   "source": [
    "# predict on test set\n",
    "pred_test_RF=RF_1.predict(X_train)\n",
    "metrics.accuracy_score(train_y,pred_test_RF)"
   ]
  },
  {
   "cell_type": "code",
   "execution_count": 32,
   "metadata": {},
   "outputs": [
    {
     "data": {
      "text/plain": [
       "0.8085"
      ]
     },
     "execution_count": 32,
     "metadata": {},
     "output_type": "execute_result"
    }
   ],
   "source": [
    "# predict on test set\n",
    "pred_test_RF=RF_1.predict(X_test)\n",
    "metrics.accuracy_score(test_y,pred_test_RF)"
   ]
  },
  {
   "cell_type": "markdown",
   "metadata": {},
   "source": [
    "                                                  b. Support Vector Machine"
   ]
  },
  {
   "cell_type": "code",
   "execution_count": 33,
   "metadata": {},
   "outputs": [],
   "source": [
    "from sklearn.svm import SVC"
   ]
  },
  {
   "cell_type": "code",
   "execution_count": 55,
   "metadata": {},
   "outputs": [
    {
     "data": {
      "text/plain": [
       "{'C': 100}"
      ]
     },
     "execution_count": 55,
     "metadata": {},
     "output_type": "execute_result"
    }
   ],
   "source": [
    "# # Choosing the optimal parameter for the classifier                     \n",
    "param_grid=[{'C':[0.1,10,100,200,300]}]\n",
    "scorer={'f1_score': make_scorer(f1_score)}\n",
    "\n",
    "SVM_clf=SVC(class_weight='balanced',kernel='rbf',gamma=0.1)\n",
    "SVM_GS=GridSearchCV(SVM_clf,param_grid=param_grid, scoring=scorer,refit='f1_score',cv=3,n_jobs=-1)\n",
    "model_GS=SVM_GS.fit(X_train,train_y)\n",
    "model_GS.best_params_"
   ]
  },
  {
   "cell_type": "code",
   "execution_count": 56,
   "metadata": {},
   "outputs": [
    {
     "data": {
      "text/plain": [
       "0.7947617992574961"
      ]
     },
     "execution_count": 56,
     "metadata": {},
     "output_type": "execute_result"
    }
   ],
   "source": [
    "model_GS.best_score_"
   ]
  },
  {
   "cell_type": "code",
   "execution_count": 34,
   "metadata": {},
   "outputs": [],
   "source": [
    "#Build the model with the optimal parameter\n",
    "SVM_inst=SVC(kernel='rbf',class_weight='balanced',C=100,gamma=0.1)\n",
    "SVM_1=SVM_inst.fit(X_train,train_y)"
   ]
  },
  {
   "cell_type": "code",
   "execution_count": 35,
   "metadata": {},
   "outputs": [
    {
     "data": {
      "text/plain": [
       "0.8331996792301523"
      ]
     },
     "execution_count": 35,
     "metadata": {},
     "output_type": "execute_result"
    }
   ],
   "source": [
    "# predict the test set\n",
    "test_p=SVM_1.predict(X_test)\n",
    "metrics.f1_score(test_y,test_p) "
   ]
  },
  {
   "cell_type": "code",
   "execution_count": 36,
   "metadata": {},
   "outputs": [
    {
     "data": {
      "text/plain": [
       "0.9115646258503401"
      ]
     },
     "execution_count": 36,
     "metadata": {},
     "output_type": "execute_result"
    }
   ],
   "source": [
    "accuracy_score(test_y,test_p)"
   ]
  },
  {
   "cell_type": "code",
   "execution_count": 37,
   "metadata": {},
   "outputs": [
    {
     "data": {
      "text/plain": [
       "array([[3249,   95],\n",
       "       [ 321, 1039]], dtype=int64)"
      ]
     },
     "execution_count": 37,
     "metadata": {},
     "output_type": "execute_result"
    }
   ],
   "source": [
    "confusion_mat=confusion_matrix(test_y,test_p)\n",
    "confusion_mat"
   ]
  },
  {
   "cell_type": "code",
   "execution_count": 38,
   "metadata": {},
   "outputs": [
    {
     "name": "stdout",
     "output_type": "stream",
     "text": [
      "             precision    recall  f1-score   support\n",
      "\n",
      "          0       0.91      0.97      0.94      3344\n",
      "          1       0.92      0.76      0.83      1360\n",
      "\n",
      "avg / total       0.91      0.91      0.91      4704\n",
      "\n"
     ]
    }
   ],
   "source": [
    "report=classification_report(test_y,test_p)\n",
    "print(report)"
   ]
  },
  {
   "cell_type": "code",
   "execution_count": 40,
   "metadata": {},
   "outputs": [
    {
     "data": {
      "image/png": "[encoded data removed]",
      "text/plain": [
       "<Figure size 432x288 with 2 Axes>"
      ]
     },
     "metadata": {},
     "output_type": "display_data"
    }
   ],
   "source": [
    "%matplotlib inline\n",
    "import matplotlib.pyplot as plt\n",
    "import seaborn as sns\n",
    "ax=plt.subplot()\n",
    "sns.heatmap(confusion_mat,annot=True,ax=ax);\n",
    "# labels, title\n",
    "ax.set_xlabel('Predicted values');ax.set_ylabel('Actual Values');ax.set_title('Confusion Matrix for SVM')\n",
    "ax.xaxis.set_ticklabels(['Non_ADF','ADF']);ax.yaxis.set_ticklabels(['Non_ADF','ADF']);"
   ]
  },
  {
   "cell_type": "markdown",
   "metadata": {},
   "source": [
    "                                          Test the generalization of the model (Cross_Validation)"
   ]
  },
  {
   "cell_type": "code",
   "execution_count": 69,
   "metadata": {},
   "outputs": [
    {
     "data": {
      "text/plain": [
       "0.794761810534331"
      ]
     },
     "execution_count": 69,
     "metadata": {},
     "output_type": "execute_result"
    }
   ],
   "source": [
    "import warnings\n",
    "from sklearn.cross_validation import cross_val_score\n",
    "cross_val=cross_val_score(SVM_1,X_train,train_y,cv=3,scoring='f1',n_jobs=-1)\n",
    "cross_val.mean()"
   ]
  },
  {
   "cell_type": "markdown",
   "metadata": {},
   "source": [
    "                                                  C. Adaptive Boosting"
   ]
  },
  {
   "cell_type": "code",
   "execution_count": 70,
   "metadata": {},
   "outputs": [],
   "source": [
    "from sklearn.tree import DecisionTreeClassifier\n",
    "from sklearn.ensemble import AdaBoostClassifier\n",
    "estimator=DecisionTreeClassifier(max_depth=3,random_state=100,class_weight='balanced')\n",
    "AB= AdaBoostClassifier(base_estimator=estimator,random_state=100)"
   ]
  },
  {
   "cell_type": "code",
   "execution_count": 71,
   "metadata": {},
   "outputs": [
    {
     "data": {
      "text/plain": [
       "0.7560652727324192"
      ]
     },
     "execution_count": 71,
     "metadata": {},
     "output_type": "execute_result"
    }
   ],
   "source": [
    "# Choosing the Optimal Parameter using Grid Search\n",
    "paramgrid={'n_estimators':[200,300,400,500,600],'learning_rate':[0.3,0.5,0.6,0.7,1]}\n",
    "scorer={'f1_score': make_scorer(f1_score)}\n",
    "AdaGS=GridSearchCV(AB,param_grid=paramgrid,scoring=scorer,refit='f1_score',cv=3,n_jobs=-1)\n",
    "AdaBo_Model=AdaGS.fit(X_train,train_y)\n",
    "AdaBo_Model.best_score_"
   ]
  },
  {
   "cell_type": "code",
   "execution_count": 72,
   "metadata": {},
   "outputs": [
    {
     "data": {
      "text/plain": [
       "{'learning_rate': 1, 'n_estimators': 300}"
      ]
     },
     "execution_count": 72,
     "metadata": {},
     "output_type": "execute_result"
    }
   ],
   "source": [
    "AdaBo_Model.best_params_"
   ]
  },
  {
   "cell_type": "markdown",
   "metadata": {},
   "source": [
    "                                         Build the model with the optimal parameter"
   ]
  },
  {
   "cell_type": "code",
   "execution_count": 73,
   "metadata": {},
   "outputs": [],
   "source": [
    "AB_1= AdaBoostClassifier(base_estimator=estimator,n_estimators=300,learning_rate=1,random_state=100)\n",
    "m1=AB_1.fit(X_train,train_y)"
   ]
  },
  {
   "cell_type": "code",
   "execution_count": 74,
   "metadata": {},
   "outputs": [
    {
     "data": {
      "text/plain": [
       "0.7701348081576219"
      ]
     },
     "execution_count": 74,
     "metadata": {},
     "output_type": "execute_result"
    }
   ],
   "source": [
    "# predict on test set\n",
    "pred_test_boost=m1.predict(X_test)\n",
    "metrics.f1_score(test_y,pred_test_boost)"
   ]
  },
  {
   "cell_type": "markdown",
   "metadata": {},
   "source": [
    "                                                D. Gradient Boosting Model"
   ]
  },
  {
   "cell_type": "code",
   "execution_count": 80,
   "metadata": {},
   "outputs": [],
   "source": [
    "from sklearn.ensemble import GradientBoostingClassifier\n",
    "GBM=GradientBoostingClassifier(random_state=100,max_depth=6,max_features='sqrt')"
   ]
  },
  {
   "cell_type": "code",
   "execution_count": 81,
   "metadata": {},
   "outputs": [
    {
     "data": {
      "text/plain": [
       "0.7957887910907437"
      ]
     },
     "execution_count": 81,
     "metadata": {},
     "output_type": "execute_result"
    }
   ],
   "source": [
    "# Choosing the Optimal Parameter using Grid Search\n",
    "paramgrid={'n_estimators':[500,700,900,1200,1400],'learning_rate':[0.4,0.5,0.6,0.8,1]}\n",
    "scorer={'f1_score': make_scorer(f1_score)}\n",
    "GBMCV=GridSearchCV(GBM,param_grid=paramgrid,scoring=scorer,refit='f1_score',cv=3,n_jobs=-1)\n",
    "GBM_Model=GBMCV.fit(X_train,train_y)\n",
    "GBM_Model.best_score_"
   ]
  },
  {
   "cell_type": "code",
   "execution_count": 77,
   "metadata": {},
   "outputs": [
    {
     "data": {
      "text/plain": [
       "{'learning_rate': 0.4, 'n_estimators': 1400}"
      ]
     },
     "execution_count": 77,
     "metadata": {},
     "output_type": "execute_result"
    }
   ],
   "source": [
    "GBM_Model.best_params_"
   ]
  },
  {
   "cell_type": "markdown",
   "metadata": {},
   "source": [
    "                                          Build the model with the optimal parameter"
   ]
  },
  {
   "cell_type": "code",
   "execution_count": 82,
   "metadata": {},
   "outputs": [],
   "source": [
    "GBM_model=GradientBoostingClassifier(max_depth=6,learning_rate=0.4,n_estimators=1400,random_state=100,max_features='sqrt')\n",
    "GBM_model=GBM_model.fit(X_train,train_y)"
   ]
  },
  {
   "cell_type": "code",
   "execution_count": 83,
   "metadata": {},
   "outputs": [
    {
     "data": {
      "text/plain": [
       "0.822095238095238"
      ]
     },
     "execution_count": 83,
     "metadata": {},
     "output_type": "execute_result"
    }
   ],
   "source": [
    "# predict on test set\n",
    "test_Pred=GBM_model.predict(X_test)\n",
    "metrics.f1_score(test_y,test_Pred)"
   ]
  },
  {
   "cell_type": "code",
   "execution_count": 398,
   "metadata": {},
   "outputs": [
    {
     "data": {
      "text/plain": [
       "array([4, 3, 1, ..., 3, 2, 4])"
      ]
     },
     "execution_count": 398,
     "metadata": {},
     "output_type": "execute_result"
    }
   ],
   "source": [
    "## Label Encoding ##\n",
    "# Import label encoder \n",
    "from sklearn import preprocessing \n",
    "  \n",
    "# label_encoder object knows how to understand word labels. \n",
    "label_encoder = preprocessing.LabelEncoder() \n",
    "  \n",
    "# Encode labels in column 'species'. \n",
    "train_yy= label_encoder.fit_transform(train_y) \n",
    "\n",
    "test_yy=label_encoder.fit_transform(test_y)\n",
    "test_yy"
   ]
  },
  {
   "cell_type": "markdown",
   "metadata": {},
   "source": [
    "                                              06. Implementing Neural Network"
   ]
  },
  {
   "cell_type": "code",
   "execution_count": 80,
   "metadata": {},
   "outputs": [
    {
     "name": "stderr",
     "output_type": "stream",
     "text": [
      "Using TensorFlow backend.\n"
     ]
    }
   ],
   "source": [
    "from keras.models import Sequential\n",
    "from keras import layers"
   ]
  },
  {
   "cell_type": "code",
   "execution_count": 81,
   "metadata": {},
   "outputs": [
    {
     "data": {
      "text/plain": [
       "(16000, 10357)"
      ]
     },
     "execution_count": 81,
     "metadata": {},
     "output_type": "execute_result"
    }
   ],
   "source": [
    "X_train.shape"
   ]
  },
  {
   "cell_type": "code",
   "execution_count": 82,
   "metadata": {},
   "outputs": [
    {
     "data": {
      "text/plain": [
       "10357"
      ]
     },
     "execution_count": 82,
     "metadata": {},
     "output_type": "execute_result"
    }
   ],
   "source": [
    "input_dim = X_train.shape[1] # Setting the input dimension i.e length of feature vector - 11244\n",
    "input_dim"
   ]
  },
  {
   "cell_type": "code",
   "execution_count": 83,
   "metadata": {},
   "outputs": [],
   "source": [
    "# Create the Model\n",
    "model = Sequential()\n",
    "model.add(layers.Dense(100, kernel_initializer = 'uniform',input_dim=input_dim, activation='relu'))\n",
    "model.add(layers.Dense(80, kernel_initializer = 'uniform',input_dim=input_dim, activation='relu'))\n",
    "model.add(layers.Dense(50, kernel_initializer = 'uniform',input_dim=input_dim, activation='relu'))\n",
    "\n",
    "model.add(layers.Dense(22,kernel_initializer = 'uniform',activation='relu'))\n",
    "model.add(layers.Dense(11, activation='sigmoid'))"
   ]
  },
  {
   "cell_type": "code",
   "execution_count": 84,
   "metadata": {},
   "outputs": [
    {
     "name": "stdout",
     "output_type": "stream",
     "text": [
      "Model: \"sequential_1\"\n",
      "_________________________________________________________________\n",
      "Layer (type)                 Output Shape              Param #   \n",
      "=================================================================\n",
      "dense_1 (Dense)              (None, 100)               1035800   \n",
      "_________________________________________________________________\n",
      "dense_2 (Dense)              (None, 80)                8080      \n",
      "_________________________________________________________________\n",
      "dense_3 (Dense)              (None, 50)                4050      \n",
      "_________________________________________________________________\n",
      "dense_4 (Dense)              (None, 22)                1122      \n",
      "_________________________________________________________________\n",
      "dense_5 (Dense)              (None, 11)                253       \n",
      "=================================================================\n",
      "Total params: 1,049,305\n",
      "Trainable params: 1,049,305\n",
      "Non-trainable params: 0\n",
      "_________________________________________________________________\n"
     ]
    }
   ],
   "source": [
    "# Compile the Model\n",
    "model.compile(loss='sparse_categorical_crossentropy', optimizer='adam', metrics=['accuracy'])\n",
    "model.summary()"
   ]
  },
  {
   "cell_type": "code",
   "execution_count": 86,
   "metadata": {
    "scrolled": true
   },
   "outputs": [
    {
     "name": "stdout",
     "output_type": "stream",
     "text": [
      "WARNING:tensorflow:From C:\\Users\\H343380\\AppData\\Local\\Continuum\\anaconda33\\lib\\site-packages\\tensorflow\\python\\ops\\math_grad.py:1250: add_dispatch_support.<locals>.wrapper (from tensorflow.python.ops.array_ops) is deprecated and will be removed in a future version.\n",
      "Instructions for updating:\n",
      "Use tf.where in 2.0, which has the same broadcast rule as np.where\n",
      "WARNING:tensorflow:From C:\\Users\\H343380\\AppData\\Local\\Continuum\\anaconda33\\lib\\site-packages\\keras\\backend\\tensorflow_backend.py:422: The name tf.global_variables is deprecated. Please use tf.compat.v1.global_variables instead.\n",
      "\n",
      "Train on 16000 samples, validate on 2000 samples\n",
      "Epoch 1/100\n",
      "16000/16000 [==============================] - 15s 928us/step - loss: 1.7964 - accuracy: 0.2944 - val_loss: 1.6715 - val_accuracy: 0.3475\n",
      "Epoch 2/100\n",
      "16000/16000 [==============================] - 15s 964us/step - loss: 1.3842 - accuracy: 0.3421 - val_loss: 1.0755 - val_accuracy: 0.3695\n",
      "Epoch 3/100\n",
      "16000/16000 [==============================] - 16s 1ms/step - loss: 0.8833 - accuracy: 0.4010 - val_loss: 1.0041 - val_accuracy: 0.3775\n",
      "Epoch 4/100\n",
      "16000/16000 [==============================] - 14s 873us/step - loss: 0.7316 - accuracy: 0.4281 - val_loss: 1.0610 - val_accuracy: 0.3870\n",
      "Epoch 5/100\n",
      "16000/16000 [==============================] - 15s 931us/step - loss: 0.6668 - accuracy: 0.4691 - val_loss: 1.2421 - val_accuracy: 0.4060\n",
      "Epoch 6/100\n",
      "16000/16000 [==============================] - 17s 1ms/step - loss: 0.6277 - accuracy: 0.4775 - val_loss: 1.1490 - val_accuracy: 0.4150\n",
      "Epoch 7/100\n",
      "16000/16000 [==============================] - 17s 1ms/step - loss: 0.6020 - accuracy: 0.4847 - val_loss: 1.2838 - val_accuracy: 0.4085\n",
      "Epoch 8/100\n",
      "16000/16000 [==============================] - 16s 1ms/step - loss: 0.5839 - accuracy: 0.4937 - val_loss: 1.2106 - val_accuracy: 0.4300\n",
      "Epoch 9/100\n",
      "16000/16000 [==============================] - 16s 1ms/step - loss: 0.5597 - accuracy: 0.5161 - val_loss: 1.2628 - val_accuracy: 0.4490\n",
      "Epoch 10/100\n",
      "16000/16000 [==============================] - 19s 1ms/step - loss: 0.4700 - accuracy: 0.5710 - val_loss: 1.0952 - val_accuracy: 0.4915\n",
      "Epoch 11/100\n",
      "16000/16000 [==============================] - 27s 2ms/step - loss: 0.4305 - accuracy: 0.5820 - val_loss: 1.3423 - val_accuracy: 0.4825\n",
      "Epoch 12/100\n",
      "16000/16000 [==============================] - 21s 1ms/step - loss: 0.4109 - accuracy: 0.5857 - val_loss: 1.2163 - val_accuracy: 0.4975\n",
      "Epoch 13/100\n",
      "16000/16000 [==============================] - 25s 2ms/step - loss: 0.3989 - accuracy: 0.5884 - val_loss: 1.3077 - val_accuracy: 0.4995\n",
      "Epoch 14/100\n",
      "16000/16000 [==============================] - 20s 1ms/step - loss: 0.3948 - accuracy: 0.5956 - val_loss: 1.3433 - val_accuracy: 0.5105\n",
      "Epoch 15/100\n",
      "16000/16000 [==============================] - 21s 1ms/step - loss: 0.3889 - accuracy: 0.5996 - val_loss: 1.5244 - val_accuracy: 0.4885\n",
      "Epoch 16/100\n",
      "16000/16000 [==============================] - 18s 1ms/step - loss: 0.3859 - accuracy: 0.6018 - val_loss: 1.5423 - val_accuracy: 0.4940\n",
      "Epoch 17/100\n",
      "16000/16000 [==============================] - 14s 845us/step - loss: 0.3853 - accuracy: 0.6048 - val_loss: 1.6222 - val_accuracy: 0.4975\n",
      "Epoch 18/100\n",
      "16000/16000 [==============================] - 13s 842us/step - loss: 0.3840 - accuracy: 0.6059 - val_loss: 1.3871 - val_accuracy: 0.5270\n",
      "Epoch 19/100\n",
      "16000/16000 [==============================] - 14s 878us/step - loss: 0.3925 - accuracy: 0.6093 - val_loss: 1.4684 - val_accuracy: 0.5010\n",
      "Epoch 20/100\n",
      "16000/16000 [==============================] - 15s 907us/step - loss: 0.3912 - accuracy: 0.6033 - val_loss: 1.5742 - val_accuracy: 0.4945s\n",
      "Epoch 21/100\n",
      "16000/16000 [==============================] - 14s 875us/step - loss: 0.3873 - accuracy: 0.6096 - val_loss: 1.7673 - val_accuracy: 0.4985\n",
      "Epoch 22/100\n",
      "16000/16000 [==============================] - 14s 864us/step - loss: 0.3836 - accuracy: 0.6140 - val_loss: 1.6147 - val_accuracy: 0.5000\n",
      "Epoch 23/100\n",
      "16000/16000 [==============================] - 14s 882us/step - loss: 0.3823 - accuracy: 0.6204 - val_loss: 1.5821 - val_accuracy: 0.5120\n",
      "Epoch 24/100\n",
      "16000/16000 [==============================] - 14s 885us/step - loss: 0.3833 - accuracy: 0.6292 - val_loss: 1.6233 - val_accuracy: 0.5075\n",
      "Epoch 25/100\n",
      "16000/16000 [==============================] - 14s 858us/step - loss: 0.3826 - accuracy: 0.6277 - val_loss: 1.6716 - val_accuracy: 0.5135\n",
      "Epoch 26/100\n",
      "16000/16000 [==============================] - 15s 906us/step - loss: 0.3143 - accuracy: 0.7201 - val_loss: 1.3129 - val_accuracy: 0.6920\n",
      "Epoch 27/100\n",
      "16000/16000 [==============================] - 15s 939us/step - loss: 0.1660 - accuracy: 0.8751 - val_loss: 1.2625 - val_accuracy: 0.7105\n",
      "Epoch 28/100\n",
      "16000/16000 [==============================] - 15s 917us/step - loss: 0.1340 - accuracy: 0.8817 - val_loss: 1.2345 - val_accuracy: 0.7305\n",
      "Epoch 29/100\n",
      "16000/16000 [==============================] - 16s 1ms/step - loss: 0.1219 - accuracy: 0.8991 - val_loss: 1.3030 - val_accuracy: 0.7140\n",
      "Epoch 30/100\n",
      "16000/16000 [==============================] - 18s 1ms/step - loss: 0.1175 - accuracy: 0.8911 - val_loss: 1.3321 - val_accuracy: 0.7050\n",
      "Epoch 31/100\n",
      "16000/16000 [==============================] - 14s 884us/step - loss: 0.1152 - accuracy: 0.8936 - val_loss: 1.3785 - val_accuracy: 0.7195\n",
      "Epoch 32/100\n",
      "16000/16000 [==============================] - 14s 869us/step - loss: 0.1136 - accuracy: 0.8898 - val_loss: 1.4106 - val_accuracy: 0.7070\n",
      "Epoch 33/100\n",
      "16000/16000 [==============================] - 14s 887us/step - loss: 0.1132 - accuracy: 0.8816 - val_loss: 1.4128 - val_accuracy: 0.7060\n",
      "Epoch 34/100\n",
      "16000/16000 [==============================] - 14s 890us/step - loss: 0.1159 - accuracy: 0.8856 - val_loss: 1.4577 - val_accuracy: 0.7045\n",
      "Epoch 35/100\n",
      "16000/16000 [==============================] - 14s 858us/step - loss: 0.1130 - accuracy: 0.8831 - val_loss: 1.5062 - val_accuracy: 0.6990\n",
      "Epoch 36/100\n",
      "16000/16000 [==============================] - 14s 905us/step - loss: 0.1146 - accuracy: 0.8836 - val_loss: 1.5353 - val_accuracy: 0.7165\n",
      "Epoch 37/100\n",
      "16000/16000 [==============================] - 16s 984us/step - loss: 0.1112 - accuracy: 0.8934 - val_loss: 1.5581 - val_accuracy: 0.7050\n",
      "Epoch 38/100\n",
      "16000/16000 [==============================] - 13s 842us/step - loss: 0.1117 - accuracy: 0.8941 - val_loss: 1.5192 - val_accuracy: 0.7120\n",
      "Epoch 39/100\n",
      "16000/16000 [==============================] - 14s 902us/step - loss: 0.1112 - accuracy: 0.8976 - val_loss: 1.5869 - val_accuracy: 0.7170\n",
      "Epoch 40/100\n",
      "16000/16000 [==============================] - 14s 853us/step - loss: 0.1114 - accuracy: 0.8954 - val_loss: 1.4762 - val_accuracy: 0.7310\n",
      "Epoch 41/100\n",
      "16000/16000 [==============================] - 15s 946us/step - loss: 0.1113 - accuracy: 0.8898 - val_loss: 1.5760 - val_accuracy: 0.6995\n",
      "Epoch 42/100\n",
      "16000/16000 [==============================] - 14s 849us/step - loss: 0.1112 - accuracy: 0.8984 - val_loss: 1.6143 - val_accuracy: 0.6900\n",
      "Epoch 43/100\n",
      "16000/16000 [==============================] - 14s 877us/step - loss: 0.1117 - accuracy: 0.8891 - val_loss: 1.5922 - val_accuracy: 0.7060\n",
      "Epoch 44/100\n",
      "16000/16000 [==============================] - 14s 891us/step - loss: 0.1093 - accuracy: 0.9005 - val_loss: 1.7450 - val_accuracy: 0.7075\n",
      "Epoch 45/100\n",
      "16000/16000 [==============================] - 14s 905us/step - loss: 0.1103 - accuracy: 0.9018 - val_loss: 1.6187 - val_accuracy: 0.7185\n",
      "Epoch 46/100\n",
      "16000/16000 [==============================] - 14s 850us/step - loss: 0.1088 - accuracy: 0.9035 - val_loss: 1.6590 - val_accuracy: 0.7155\n",
      "Epoch 47/100\n",
      "16000/16000 [==============================] - 14s 893us/step - loss: 0.1078 - accuracy: 0.9033 - val_loss: 1.7467 - val_accuracy: 0.7125\n",
      "Epoch 48/100\n",
      "16000/16000 [==============================] - 14s 860us/step - loss: 0.1094 - accuracy: 0.9123 - val_loss: 1.6669 - val_accuracy: 0.7070\n",
      "Epoch 49/100\n",
      "16000/16000 [==============================] - 14s 880us/step - loss: 0.1075 - accuracy: 0.9055 - val_loss: 1.6935 - val_accuracy: 0.7065\n",
      "Epoch 50/100\n",
      "16000/16000 [==============================] - 21s 1ms/step - loss: 0.1130 - accuracy: 0.9091 - val_loss: 1.8763 - val_accuracy: 0.6825\n",
      "Epoch 51/100\n",
      "16000/16000 [==============================] - 13s 822us/step - loss: 0.1097 - accuracy: 0.8923 - val_loss: 1.7433 - val_accuracy: 0.6970\n",
      "Epoch 52/100\n",
      "16000/16000 [==============================] - 13s 837us/step - loss: 0.1093 - accuracy: 0.8982 - val_loss: 1.8460 - val_accuracy: 0.6910\n",
      "Epoch 53/100\n",
      "16000/16000 [==============================] - 14s 881us/step - loss: 0.1081 - accuracy: 0.9020 - val_loss: 1.7507 - val_accuracy: 0.7075\n",
      "Epoch 54/100\n",
      "16000/16000 [==============================] - 13s 832us/step - loss: 0.1075 - accuracy: 0.9043 - val_loss: 1.7342 - val_accuracy: 0.7075\n",
      "Epoch 55/100\n",
      "16000/16000 [==============================] - 14s 895us/step - loss: 0.1071 - accuracy: 0.9025 - val_loss: 1.6853 - val_accuracy: 0.7110\n",
      "Epoch 56/100\n",
      "16000/16000 [==============================] - 14s 865us/step - loss: 0.1075 - accuracy: 0.9045 - val_loss: 1.7899 - val_accuracy: 0.7065\n",
      "Epoch 57/100\n",
      "16000/16000 [==============================] - 16s 994us/step - loss: 0.1067 - accuracy: 0.9006 - val_loss: 1.6927 - val_accuracy: 0.7185\n",
      "Epoch 58/100\n",
      "16000/16000 [==============================] - 16s 1ms/step - loss: 0.1052 - accuracy: 0.9016 - val_loss: 1.7499 - val_accuracy: 0.7130\n",
      "Epoch 59/100\n",
      "16000/16000 [==============================] - 16s 1ms/step - loss: 0.1053 - accuracy: 0.9010 - val_loss: 1.7762 - val_accuracy: 0.7170\n",
      "Epoch 60/100\n",
      "16000/16000 [==============================] - 14s 852us/step - loss: 0.1054 - accuracy: 0.9126 - val_loss: 1.7463 - val_accuracy: 0.7235\n",
      "Epoch 61/100\n",
      "16000/16000 [==============================] - 13s 822us/step - loss: 0.1049 - accuracy: 0.9143 - val_loss: 1.7897 - val_accuracy: 0.7120\n",
      "Epoch 62/100\n",
      "16000/16000 [==============================] - 12s 770us/step - loss: 0.1071 - accuracy: 0.9193 - val_loss: 1.8749 - val_accuracy: 0.7170\n",
      "Epoch 63/100\n",
      "16000/16000 [==============================] - 11s 683us/step - loss: 0.1125 - accuracy: 0.9186 - val_loss: 1.8380 - val_accuracy: 0.7240\n",
      "Epoch 64/100\n",
      "16000/16000 [==============================] - 8s 487us/step - loss: 0.1087 - accuracy: 0.9139 - val_loss: 1.7925 - val_accuracy: 0.7120\n",
      "Epoch 65/100\n",
      "16000/16000 [==============================] - 10s 608us/step - loss: 0.1067 - accuracy: 0.9054 - val_loss: 1.7978 - val_accuracy: 0.7260\n",
      "Epoch 66/100\n",
      "16000/16000 [==============================] - 16s 971us/step - loss: 0.1043 - accuracy: 0.9329 - val_loss: 1.9586 - val_accuracy: 0.7075\n",
      "Epoch 67/100\n",
      "16000/16000 [==============================] - 14s 859us/step - loss: 0.1039 - accuracy: 0.9195 - val_loss: 1.8672 - val_accuracy: 0.7235\n",
      "Epoch 68/100\n",
      "16000/16000 [==============================] - 14s 883us/step - loss: 0.1042 - accuracy: 0.9138 - val_loss: 1.9005 - val_accuracy: 0.7190\n",
      "Epoch 69/100\n",
      "16000/16000 [==============================] - 14s 905us/step - loss: 0.1059 - accuracy: 0.9201 - val_loss: 2.0137 - val_accuracy: 0.7070\n",
      "Epoch 70/100\n",
      "16000/16000 [==============================] - 19s 1ms/step - loss: 0.1048 - accuracy: 0.9130 - val_loss: 1.8365 - val_accuracy: 0.7305\n",
      "Epoch 71/100\n",
      "16000/16000 [==============================] - 28s 2ms/step - loss: 0.1048 - accuracy: 0.9364 - val_loss: 1.7914 - val_accuracy: 0.7340\n",
      "Epoch 72/100\n",
      "16000/16000 [==============================] - 21s 1ms/step - loss: 0.1049 - accuracy: 0.9295 - val_loss: 1.9046 - val_accuracy: 0.7190\n",
      "Epoch 73/100\n",
      "16000/16000 [==============================] - 21s 1ms/step - loss: 0.1061 - accuracy: 0.9233 - val_loss: 1.9047 - val_accuracy: 0.7065\n",
      "Epoch 74/100\n",
      "16000/16000 [==============================] - 20s 1ms/step - loss: 0.1047 - accuracy: 0.9087 - val_loss: 1.9807 - val_accuracy: 0.7120\n",
      "Epoch 75/100\n",
      "16000/16000 [==============================] - 22s 1ms/step - loss: 0.1058 - accuracy: 0.9090 - val_loss: 2.0040 - val_accuracy: 0.7110\n",
      "Epoch 76/100\n",
      "16000/16000 [==============================] - 20s 1ms/step - loss: 0.1044 - accuracy: 0.9191 - val_loss: 1.9341 - val_accuracy: 0.7205\n",
      "Epoch 77/100\n",
      "16000/16000 [==============================] - 14s 881us/step - loss: 0.1042 - accuracy: 0.9244 - val_loss: 1.9554 - val_accuracy: 0.7180\n",
      "Epoch 78/100\n",
      "16000/16000 [==============================] - 14s 902us/step - loss: 0.1030 - accuracy: 0.9232 - val_loss: 1.9525 - val_accuracy: 0.7195\n",
      "Epoch 79/100\n",
      "16000/16000 [==============================] - 13s 821us/step - loss: 0.1040 - accuracy: 0.9259 - val_loss: 1.9777 - val_accuracy: 0.7135\n",
      "Epoch 80/100\n",
      "16000/16000 [==============================] - 13s 810us/step - loss: 0.1032 - accuracy: 0.9201 - val_loss: 2.0076 - val_accuracy: 0.7160\n",
      "Epoch 81/100\n",
      "16000/16000 [==============================] - 14s 881us/step - loss: 0.1029 - accuracy: 0.9252 - val_loss: 2.0286 - val_accuracy: 0.7150\n",
      "Epoch 82/100\n",
      "16000/16000 [==============================] - 15s 958us/step - loss: 0.1034 - accuracy: 0.9218 - val_loss: 2.0269 - val_accuracy: 0.7190\n",
      "Epoch 83/100\n",
      "16000/16000 [==============================] - 14s 881us/step - loss: 0.1044 - accuracy: 0.9399 - val_loss: 1.8505 - val_accuracy: 0.7365\n",
      "Epoch 84/100\n",
      "16000/16000 [==============================] - 15s 934us/step - loss: 0.1046 - accuracy: 0.9449 - val_loss: 1.6815 - val_accuracy: 0.7435\n",
      "Epoch 85/100\n",
      "16000/16000 [==============================] - 15s 936us/step - loss: 0.1060 - accuracy: 0.9531 - val_loss: 2.0237 - val_accuracy: 0.7455\n",
      "Epoch 86/100\n",
      "16000/16000 [==============================] - 15s 913us/step - loss: 0.1088 - accuracy: 0.9692 - val_loss: 1.7841 - val_accuracy: 0.7395\n",
      "Epoch 87/100\n",
      "16000/16000 [==============================] - 15s 912us/step - loss: 0.1047 - accuracy: 0.9589 - val_loss: 1.8170 - val_accuracy: 0.7675\n",
      "Epoch 88/100\n",
      "16000/16000 [==============================] - 14s 877us/step - loss: 0.1035 - accuracy: 0.9782 - val_loss: 1.9616 - val_accuracy: 0.7480\n",
      "Epoch 89/100\n",
      "16000/16000 [==============================] - 19s 1ms/step - loss: 0.1057 - accuracy: 0.9690 - val_loss: 1.8561 - val_accuracy: 0.7540\n",
      "Epoch 90/100\n",
      "16000/16000 [==============================] - 14s 886us/step - loss: 0.1046 - accuracy: 0.9632 - val_loss: 1.8576 - val_accuracy: 0.7395\n",
      "Epoch 91/100\n",
      "16000/16000 [==============================] - 14s 888us/step - loss: 0.1039 - accuracy: 0.9600 - val_loss: 1.9678 - val_accuracy: 0.7505\n",
      "Epoch 92/100\n",
      "16000/16000 [==============================] - 14s 905us/step - loss: 0.1024 - accuracy: 0.9756 - val_loss: 1.9436 - val_accuracy: 0.7480\n",
      "Epoch 93/100\n",
      "16000/16000 [==============================] - 14s 845us/step - loss: 0.1016 - accuracy: 0.9584 - val_loss: 1.9289 - val_accuracy: 0.7590\n",
      "Epoch 94/100\n",
      "16000/16000 [==============================] - 13s 822us/step - loss: 0.1015 - accuracy: 0.9724 - val_loss: 1.9064 - val_accuracy: 0.7570\n",
      "Epoch 95/100\n",
      "16000/16000 [==============================] - 15s 935us/step - loss: 0.1022 - accuracy: 0.9636 - val_loss: 1.9482 - val_accuracy: 0.7620\n",
      "Epoch 96/100\n",
      "16000/16000 [==============================] - 14s 892us/step - loss: 0.1022 - accuracy: 0.9670 - val_loss: 2.0054 - val_accuracy: 0.7450\n",
      "Epoch 97/100\n",
      "16000/16000 [==============================] - 15s 920us/step - loss: 0.1016 - accuracy: 0.9642 - val_loss: 1.9932 - val_accuracy: 0.7450\n",
      "Epoch 98/100\n",
      "16000/16000 [==============================] - 14s 856us/step - loss: 0.0933 - accuracy: 0.9739 - val_loss: 1.9706 - val_accuracy: 0.7555\n",
      "Epoch 99/100\n",
      "16000/16000 [==============================] - 14s 878us/step - loss: 0.0426 - accuracy: 0.9904 - val_loss: 1.7293 - val_accuracy: 0.7745\n",
      "Epoch 100/100\n",
      "16000/16000 [==============================] - 15s 925us/step - loss: 0.0223 - accuracy: 0.9941 - val_loss: 1.6585 - val_accuracy: 0.7810\n"
     ]
    }
   ],
   "source": [
    "# Fit the Model\n",
    "history=model.fit(X_train,train_y,epochs=100,verbose=True,validation_data=(X_test,test_y),batch_size=50)"
   ]
  },
  {
   "cell_type": "code",
   "execution_count": 92,
   "metadata": {},
   "outputs": [
    {
     "name": "stdout",
     "output_type": "stream",
     "text": [
      "Testing Accuracy:0.8869047619047619\n"
     ]
    }
   ],
   "source": [
    "# Evaluate the Model\n",
    "loss, accuracy = model.evaluate(X_test,test_y,verbose=False)\n",
    "print(\"Testing Accuracy:{}\".format(accuracy))"
   ]
  },
  {
   "cell_type": "code",
   "execution_count": 93,
   "metadata": {},
   "outputs": [],
   "source": [
    "y_pred = model.predict(X_test) # Probabilities\n",
    "y_pred = (y_pred > 0.5)        # Labels"
   ]
  },
  {
   "cell_type": "code",
   "execution_count": 94,
   "metadata": {},
   "outputs": [
    {
     "data": {
      "text/plain": [
       "0.8071065989847716"
      ]
     },
     "execution_count": 94,
     "metadata": {},
     "output_type": "execute_result"
    }
   ],
   "source": [
    "f1_score(test_y,y_pred)"
   ]
  },
  {
   "cell_type": "code",
   "execution_count": 95,
   "metadata": {},
   "outputs": [],
   "source": [
    "import matplotlib.pyplot as plt\n",
    "plt.style.use('ggplot')\n",
    "\n",
    "def plot_history(history):\n",
    "    acc = history.history['acc']\n",
    "    val_acc = history.history['val_acc']\n",
    "    loss = history.history['loss']\n",
    "    val_loss = history.history['val_loss']\n",
    "    x = range(1, len(acc) + 1)\n",
    "\n",
    "    plt.figure(figsize=(12, 5))\n",
    "    plt.subplot(1, 2, 1)\n",
    "    plt.plot(x, acc, 'b', label='Training acc')\n",
    "    plt.plot(x, val_acc, 'r', label='Validation acc')\n",
    "    plt.title('Training and validation accuracy')\n",
    "    plt.legend()\n",
    "    plt.subplot(1, 2, 2)\n",
    "    plt.plot(x, loss, 'b', label='Training loss')\n",
    "    plt.plot(x, val_loss, 'r', label='Validation loss')\n",
    "    plt.title('Training and validation loss')\n",
    "    plt.legend()"
   ]
  },
  {
   "cell_type": "code",
   "execution_count": 96,
   "metadata": {},
   "outputs": [
    {
     "data": {
      "image/png": "[encoded data removed]",
      "text/plain": [
       "<Figure size 864x360 with 2 Axes>"
      ]
     },
     "metadata": {},
     "output_type": "display_data"
    }
   ],
   "source": [
    "plot_history(history)"
   ]
  },
  {
   "cell_type": "markdown",
   "metadata": {},
   "source": [
    "                                           07. Word Embedings and Embedding layer                     "
   ]
  },
  {
   "cell_type": "code",
   "execution_count": 105,
   "metadata": {},
   "outputs": [],
   "source": [
    "from sklearn.model_selection import train_test_split"
   ]
  },
  {
   "cell_type": "code",
   "execution_count": 106,
   "metadata": {},
   "outputs": [],
   "source": [
    "#data=df.copy()"
   ]
  },
  {
   "cell_type": "code",
   "execution_count": 271,
   "metadata": {},
   "outputs": [],
   "source": [
    "sentences = data['final_tweet'].values # Raw tweet data\n",
    "y = data['sentiment'].values"
   ]
  },
  {
   "cell_type": "code",
   "execution_count": 272,
   "metadata": {},
   "outputs": [],
   "source": [
    "train_x,test_x,train_y,test_y = train_test_split(sentences, y, test_size=0.2, random_state=1000)"
   ]
  },
  {
   "cell_type": "code",
   "execution_count": 283,
   "metadata": {},
   "outputs": [
    {
     "data": {
      "text/plain": [
       "array([9, 5, 9, ..., 7, 5, 4])"
      ]
     },
     "execution_count": 283,
     "metadata": {},
     "output_type": "execute_result"
    }
   ],
   "source": [
    "# Encode labels in column 'species'. \n",
    "train_yy= label_encoder.fit_transform(train_y) \n",
    "\n",
    "test_yy=label_encoder.fit_transform(test_y)\n",
    "test_yy"
   ]
  },
  {
   "cell_type": "code",
   "execution_count": 273,
   "metadata": {},
   "outputs": [
    {
     "name": "stdout",
     "output_type": "stream",
     "text": [
      "['one', 'got', 'phone', 'told', 'tell', 'brat', 'temptation', 'could', 'pass', 'thanks']\n",
      "[13, 5, 148, 311, 163, 2831, 1962, 36, 664, 34]\n"
     ]
    }
   ],
   "source": [
    "# Word Embeddings represent each word as vectors\n",
    "from keras.preprocessing.text import Tokenizer\n",
    "\n",
    "tokenizer = Tokenizer(num_words=15000)  # num_words is assumed from previous calculation\n",
    "tokenizer.fit_on_texts(train_x)\n",
    "\n",
    "X_train_Embed = tokenizer.texts_to_sequences(train_x) # passing raw train data\n",
    "X_test_Embed = tokenizer.texts_to_sequences(test_x)   # passing raw text data\n",
    " \n",
    "vocab_size = len(tokenizer.word_index) + 1  # Adding 1 because of reserved 0 index\n",
    "\n",
    "print(train_x[2])\n",
    "print(X_train_Embed[2]) # To get a feel"
   ]
  },
  {
   "cell_type": "code",
   "execution_count": 274,
   "metadata": {},
   "outputs": [
    {
     "data": {
      "text/plain": [
       "5369"
      ]
     },
     "execution_count": 274,
     "metadata": {},
     "output_type": "execute_result"
    }
   ],
   "source": [
    "vocab_size # Future use"
   ]
  },
  {
   "cell_type": "markdown",
   "metadata": {},
   "source": [
    "By using word embedding, we end up with varying vector dimension for each sentence. To counter this, we can use pad_sequence() which simply pads the sequence of words with zeros."
   ]
  },
  {
   "cell_type": "markdown",
   "metadata": {},
   "source": [
    "                                                       Pad sequence"
   ]
  },
  {
   "cell_type": "code",
   "execution_count": 275,
   "metadata": {},
   "outputs": [],
   "source": [
    "from keras.preprocessing.sequence import pad_sequences\n",
    "maxlen = 40\n",
    "X_train = pad_sequences(X_train_Embed, padding='post', maxlen=maxlen)\n",
    "X_test = pad_sequences(X_test_Embed, padding='post', maxlen=maxlen)"
   ]
  },
  {
   "cell_type": "code",
   "execution_count": 276,
   "metadata": {},
   "outputs": [
    {
     "name": "stdout",
     "output_type": "stream",
     "text": [
      "[ 230 1077  167   67  196  110  230  338 1266    0    0    0    0    0\n",
      "    0    0    0    0    0    0    0    0    0    0    0    0    0    0\n",
      "    0    0    0    0    0    0    0    0    0    0    0    0]\n"
     ]
    }
   ],
   "source": [
    "print(X_train[0, :])"
   ]
  },
  {
   "cell_type": "markdown",
   "metadata": {},
   "source": [
    "                                         Model -2 Keras Embedding Layer - To learn a new embedding space "
   ]
  },
  {
   "cell_type": "code",
   "execution_count": 277,
   "metadata": {},
   "outputs": [],
   "source": [
    "from keras.models import Sequential\n",
    "from keras import layers\n",
    "from keras.layers import Dropout"
   ]
  },
  {
   "cell_type": "code",
   "execution_count": 294,
   "metadata": {},
   "outputs": [],
   "source": [
    "embedding_dim =20\n",
    "# Create Model\n",
    "model_2 = Sequential()\n",
    "model_2.add(layers.Embedding(input_dim=vocab_size, output_dim=embedding_dim, input_length=maxlen))\n",
    "model_2.add(layers.Flatten())\n",
    "model_2.add(layers.Dense(10, kernel_initializer = 'uniform',activation='relu'))\n",
    "model_2.add(layers.Dense(10, kernel_initializer = 'uniform',activation='relu'))\n",
    "model_2.add(layers.Dense(10, kernel_initializer = 'uniform',activation='relu'))\n",
    "model_2.add(layers.Dense(10, kernel_initializer = 'uniform',activation='relu'))\n",
    "model_2.add(layers.Dense(10, kernel_initializer = 'uniform',activation='relu'))\n",
    "model_2.add(layers.Dense(10, kernel_initializer = 'uniform',activation='relu'))\n",
    "\n",
    "model_2.add(layers.Dense(11, activation='sigmoid'))"
   ]
  },
  {
   "cell_type": "code",
   "execution_count": 295,
   "metadata": {},
   "outputs": [
    {
     "name": "stdout",
     "output_type": "stream",
     "text": [
      "Model: \"sequential_14\"\n",
      "_________________________________________________________________\n",
      "Layer (type)                 Output Shape              Param #   \n",
      "=================================================================\n",
      "embedding_6 (Embedding)      (None, 40, 20)            107380    \n",
      "_________________________________________________________________\n",
      "flatten_6 (Flatten)          (None, 800)               0         \n",
      "_________________________________________________________________\n",
      "dense_43 (Dense)             (None, 10)                8010      \n",
      "_________________________________________________________________\n",
      "dense_44 (Dense)             (None, 10)                110       \n",
      "_________________________________________________________________\n",
      "dense_45 (Dense)             (None, 10)                110       \n",
      "_________________________________________________________________\n",
      "dense_46 (Dense)             (None, 10)                110       \n",
      "_________________________________________________________________\n",
      "dense_47 (Dense)             (None, 10)                110       \n",
      "_________________________________________________________________\n",
      "dense_48 (Dense)             (None, 10)                110       \n",
      "_________________________________________________________________\n",
      "dense_49 (Dense)             (None, 11)                121       \n",
      "=================================================================\n",
      "Total params: 116,061\n",
      "Trainable params: 116,061\n",
      "Non-trainable params: 0\n",
      "_________________________________________________________________\n"
     ]
    }
   ],
   "source": [
    "# Compile Model\n",
    "model_2.compile(optimizer='adam',loss='sparse_categorical_crossentropy',metrics=['accuracy'])\n",
    "model_2.summary()"
   ]
  },
  {
   "cell_type": "code",
   "execution_count": 296,
   "metadata": {},
   "outputs": [
    {
     "name": "stdout",
     "output_type": "stream",
     "text": [
      "Train on 4382 samples, validate on 1096 samples\n",
      "Epoch 1/50\n",
      "4382/4382 [==============================] - 4s 827us/step - loss: 2.3734 - accuracy: 0.2257 - val_loss: 2.3077 - val_accuracy: 0.2400\n",
      "Epoch 2/50\n",
      "4382/4382 [==============================] - 1s 263us/step - loss: 2.1194 - accuracy: 0.2277 - val_loss: 1.9871 - val_accuracy: 0.2400\n",
      "Epoch 3/50\n",
      "4382/4382 [==============================] - 1s 271us/step - loss: 2.0316 - accuracy: 0.2277 - val_loss: 1.9765 - val_accuracy: 0.2400\n",
      "Epoch 4/50\n",
      "4382/4382 [==============================] - 2s 366us/step - loss: 2.0131 - accuracy: 0.2277 - val_loss: 1.9582 - val_accuracy: 0.2400\n",
      "Epoch 5/50\n",
      "4382/4382 [==============================] - 1s 223us/step - loss: 1.9644 - accuracy: 0.2277 - val_loss: 1.9444 - val_accuracy: 0.2400\n",
      "Epoch 6/50\n",
      "4382/4382 [==============================] - 1s 254us/step - loss: 1.8672 - accuracy: 0.2277 - val_loss: 1.9874 - val_accuracy: 0.2400\n",
      "Epoch 7/50\n",
      "4382/4382 [==============================] - 1s 185us/step - loss: 1.7911 - accuracy: 0.2277 - val_loss: 2.0422 - val_accuracy: 0.2400\n",
      "Epoch 8/50\n",
      "4382/4382 [==============================] - 1s 141us/step - loss: 1.7289 - accuracy: 0.2462 - val_loss: 2.1537 - val_accuracy: 0.2190\n",
      "Epoch 9/50\n",
      "4382/4382 [==============================] - 0s 108us/step - loss: 1.6665 - accuracy: 0.2750 - val_loss: 2.2943 - val_accuracy: 0.2281\n",
      "Epoch 10/50\n",
      "4382/4382 [==============================] - 0s 104us/step - loss: 1.5984 - accuracy: 0.2930 - val_loss: 2.4796 - val_accuracy: 0.2217\n",
      "Epoch 11/50\n",
      "4382/4382 [==============================] - 1s 120us/step - loss: 1.5168 - accuracy: 0.3161 - val_loss: 2.6752 - val_accuracy: 0.2026\n",
      "Epoch 12/50\n",
      "4382/4382 [==============================] - 1s 138us/step - loss: 1.4377 - accuracy: 0.3432 - val_loss: 2.9326 - val_accuracy: 0.1889\n",
      "Epoch 13/50\n",
      "4382/4382 [==============================] - 1s 145us/step - loss: 1.3732 - accuracy: 0.3635 - val_loss: 3.1535 - val_accuracy: 0.1907\n",
      "Epoch 14/50\n",
      "4382/4382 [==============================] - 3s 652us/step - loss: 1.3202 - accuracy: 0.3717 - val_loss: 3.4072 - val_accuracy: 0.1953\n",
      "Epoch 15/50\n",
      "4382/4382 [==============================] - 3s 734us/step - loss: 1.2737 - accuracy: 0.3907 - val_loss: 3.6785 - val_accuracy: 0.1962\n",
      "Epoch 16/50\n",
      "4382/4382 [==============================] - 1s 288us/step - loss: 1.2239 - accuracy: 0.3962 - val_loss: 3.8222 - val_accuracy: 0.1880\n",
      "Epoch 17/50\n",
      "4382/4382 [==============================] - 1s 154us/step - loss: 1.1806 - accuracy: 0.3916 - val_loss: 4.1752 - val_accuracy: 0.1971\n",
      "Epoch 18/50\n",
      "4382/4382 [==============================] - 1s 192us/step - loss: 1.1406 - accuracy: 0.3921 - val_loss: 4.1971 - val_accuracy: 0.1925\n",
      "Epoch 19/50\n",
      "4382/4382 [==============================] - 1s 228us/step - loss: 1.1071 - accuracy: 0.3957 - val_loss: 4.4153 - val_accuracy: 0.1889\n",
      "Epoch 20/50\n",
      "4382/4382 [==============================] - 1s 133us/step - loss: 1.0718 - accuracy: 0.4019 - val_loss: 4.5305 - val_accuracy: 0.1934\n",
      "Epoch 21/50\n",
      "4382/4382 [==============================] - 1s 117us/step - loss: 1.0490 - accuracy: 0.4124 - val_loss: 4.7463 - val_accuracy: 0.1807\n",
      "Epoch 22/50\n",
      "4382/4382 [==============================] - 0s 103us/step - loss: 1.0173 - accuracy: 0.4181 - val_loss: 4.8440 - val_accuracy: 0.1889\n",
      "Epoch 23/50\n",
      "4382/4382 [==============================] - 0s 99us/step - loss: 0.9880 - accuracy: 0.4286 - val_loss: 5.0005 - val_accuracy: 0.1916\n",
      "Epoch 24/50\n",
      "4382/4382 [==============================] - 0s 107us/step - loss: 0.9673 - accuracy: 0.4067 - val_loss: 4.8848 - val_accuracy: 0.1834\n",
      "Epoch 25/50\n",
      "4382/4382 [==============================] - 0s 102us/step - loss: 0.9510 - accuracy: 0.3987 - val_loss: 5.1002 - val_accuracy: 0.1779\n",
      "Epoch 26/50\n",
      "4382/4382 [==============================] - 0s 106us/step - loss: 0.9299 - accuracy: 0.4003 - val_loss: 5.2641 - val_accuracy: 0.1770\n",
      "Epoch 27/50\n",
      "4382/4382 [==============================] - 0s 107us/step - loss: 0.9242 - accuracy: 0.4167 - val_loss: 5.2443 - val_accuracy: 0.1843\n",
      "Epoch 28/50\n",
      "4382/4382 [==============================] - 0s 99us/step - loss: 0.9107 - accuracy: 0.4151 - val_loss: 5.2284 - val_accuracy: 0.1825\n",
      "Epoch 29/50\n",
      "4382/4382 [==============================] - 0s 104us/step - loss: 0.9018 - accuracy: 0.4220 - val_loss: 5.3043 - val_accuracy: 0.1797\n",
      "Epoch 30/50\n",
      "4382/4382 [==============================] - 1s 160us/step - loss: 0.8766 - accuracy: 0.4315 - val_loss: 5.3397 - val_accuracy: 0.1788\n",
      "Epoch 31/50\n",
      "4382/4382 [==============================] - 2s 366us/step - loss: 0.8653 - accuracy: 0.4306 - val_loss: 5.2539 - val_accuracy: 0.1779\n",
      "Epoch 32/50\n",
      "4382/4382 [==============================] - 2s 459us/step - loss: 0.8452 - accuracy: 0.4402 - val_loss: 5.4507 - val_accuracy: 0.1779\n",
      "Epoch 33/50\n",
      "4382/4382 [==============================] - 2s 529us/step - loss: 0.8338 - accuracy: 0.4505 - val_loss: 5.5043 - val_accuracy: 0.1761\n",
      "Epoch 34/50\n",
      "4382/4382 [==============================] - 3s 592us/step - loss: 0.8221 - accuracy: 0.4560 - val_loss: 5.4941 - val_accuracy: 0.1770\n",
      "Epoch 35/50\n",
      "4382/4382 [==============================] - 3s 744us/step - loss: 0.8098 - accuracy: 0.4589 - val_loss: 5.7202 - val_accuracy: 0.1697\n",
      "Epoch 36/50\n",
      "4382/4382 [==============================] - 4s 937us/step - loss: 0.8128 - accuracy: 0.4623 - val_loss: 5.5449 - val_accuracy: 0.1661\n",
      "Epoch 37/50\n",
      "4382/4382 [==============================] - 3s 608us/step - loss: 0.7955 - accuracy: 0.4651 - val_loss: 5.7441 - val_accuracy: 0.1661\n",
      "Epoch 38/50\n",
      "4382/4382 [==============================] - 2s 473us/step - loss: 0.7899 - accuracy: 0.4660 - val_loss: 5.7832 - val_accuracy: 0.1606\n",
      "Epoch 39/50\n",
      "4382/4382 [==============================] - 4s 924us/step - loss: 0.7781 - accuracy: 0.4703 - val_loss: 5.7593 - val_accuracy: 0.1615\n",
      "Epoch 40/50\n",
      "4382/4382 [==============================] - 2s 403us/step - loss: 0.7671 - accuracy: 0.4724 - val_loss: 5.7980 - val_accuracy: 0.1588\n",
      "Epoch 41/50\n",
      "4382/4382 [==============================] - 1s 210us/step - loss: 0.7619 - accuracy: 0.4719 - val_loss: 5.7146 - val_accuracy: 0.1606\n",
      "Epoch 42/50\n",
      "4382/4382 [==============================] - 1s 188us/step - loss: 0.7541 - accuracy: 0.4715 - val_loss: 5.9369 - val_accuracy: 0.1679\n",
      "Epoch 43/50\n",
      "4382/4382 [==============================] - 2s 361us/step - loss: 0.7430 - accuracy: 0.4724 - val_loss: 5.8924 - val_accuracy: 0.1588\n",
      "Epoch 44/50\n",
      "4382/4382 [==============================] - 2s 437us/step - loss: 0.7318 - accuracy: 0.4756 - val_loss: 5.9742 - val_accuracy: 0.1578\n",
      "Epoch 45/50\n",
      "4382/4382 [==============================] - 2s 343us/step - loss: 0.7295 - accuracy: 0.4756 - val_loss: 6.0144 - val_accuracy: 0.1624\n",
      "Epoch 46/50\n",
      "4382/4382 [==============================] - 1s 120us/step - loss: 0.7216 - accuracy: 0.4765 - val_loss: 6.0754 - val_accuracy: 0.1624\n",
      "Epoch 47/50\n",
      "4382/4382 [==============================] - 0s 103us/step - loss: 0.7215 - accuracy: 0.4765 - val_loss: 6.0896 - val_accuracy: 0.1578\n",
      "Epoch 48/50\n",
      "4382/4382 [==============================] - 0s 109us/step - loss: 0.7281 - accuracy: 0.4756 - val_loss: 6.0031 - val_accuracy: 0.1642\n",
      "Epoch 49/50\n",
      "4382/4382 [==============================] - 1s 143us/step - loss: 0.7226 - accuracy: 0.4760 - val_loss: 6.0996 - val_accuracy: 0.1606\n",
      "Epoch 50/50\n",
      "4382/4382 [==============================] - 1s 214us/step - loss: 0.7216 - accuracy: 0.4747 - val_loss: 6.1851 - val_accuracy: 0.1578\n"
     ]
    }
   ],
   "source": [
    "# Fit the Model\n",
    "history = model_2.fit(X_train,train_yy,epochs=50,verbose=True,validation_data=(X_test,test_yy), batch_size=50)"
   ]
  },
  {
   "cell_type": "code",
   "execution_count": 117,
   "metadata": {},
   "outputs": [
    {
     "name": "stdout",
     "output_type": "stream",
     "text": [
      "Testing Accuracy: 0.9043367346938775\n"
     ]
    }
   ],
   "source": [
    "# Evaluate the Model\n",
    "loss, accuracy = model_2.evaluate(X_test,test_y, verbose=False)\n",
    "print(\"Testing Accuracy: {}\".format(accuracy))"
   ]
  },
  {
   "cell_type": "code",
   "execution_count": 118,
   "metadata": {},
   "outputs": [],
   "source": [
    "y_pred = model_2.predict(X_test)\n",
    "y_pred = (y_pred > 0.5)"
   ]
  },
  {
   "cell_type": "code",
   "execution_count": 119,
   "metadata": {},
   "outputs": [
    {
     "data": {
      "text/plain": [
       "0.830316742081448"
      ]
     },
     "execution_count": 119,
     "metadata": {},
     "output_type": "execute_result"
    }
   ],
   "source": [
    "f1_score(test_y,y_pred)"
   ]
  },
  {
   "cell_type": "code",
   "execution_count": 120,
   "metadata": {},
   "outputs": [
    {
     "data": {
      "image/png": "[encoded data removed]",
      "text/plain": [
       "<Figure size 864x360 with 2 Axes>"
      ]
     },
     "metadata": {},
     "output_type": "display_data"
    }
   ],
   "source": [
    "plot_history(history)"
   ]
  },
  {
   "cell_type": "markdown",
   "metadata": {},
   "source": [
    "                                         07. Model using Convolutional Neural Network"
   ]
  },
  {
   "cell_type": "code",
   "execution_count": 121,
   "metadata": {},
   "outputs": [],
   "source": [
    "embedding_dim=100\n",
    "model_3 = Sequential()\n",
    "model_3.add(layers.Embedding(input_dim=vocab_size, output_dim=embedding_dim, input_length=maxlen))\n",
    "model_3.add(layers.Conv1D(128, 5, activation='relu'))\n",
    "model_3.add(layers.MaxPooling1D(5))\n",
    "model_3.add(layers.Conv1D(64, 4, activation='relu'))\n",
    "model_3.add(layers.Conv1D(32, 3, activation='relu'))\n",
    "model_3.add(layers.Flatten())\n",
    "model_3.add(layers.Dense(10, activation='relu'))\n",
    "model_3.add(layers.Dense(1, activation='sigmoid'))"
   ]
  },
  {
   "cell_type": "code",
   "execution_count": 122,
   "metadata": {},
   "outputs": [
    {
     "name": "stdout",
     "output_type": "stream",
     "text": [
      "_________________________________________________________________\n",
      "Layer (type)                 Output Shape              Param #   \n",
      "=================================================================\n",
      "embedding_2 (Embedding)      (None, 40, 100)           1605000   \n",
      "_________________________________________________________________\n",
      "conv1d_1 (Conv1D)            (None, 36, 128)           64128     \n",
      "_________________________________________________________________\n",
      "max_pooling1d_1 (MaxPooling1 (None, 7, 128)            0         \n",
      "_________________________________________________________________\n",
      "conv1d_2 (Conv1D)            (None, 4, 64)             32832     \n",
      "_________________________________________________________________\n",
      "conv1d_3 (Conv1D)            (None, 2, 32)             6176      \n",
      "_________________________________________________________________\n",
      "flatten_2 (Flatten)          (None, 64)                0         \n",
      "_________________________________________________________________\n",
      "dense_9 (Dense)              (None, 10)                650       \n",
      "_________________________________________________________________\n",
      "dense_10 (Dense)             (None, 1)                 11        \n",
      "=================================================================\n",
      "Total params: 1,708,797\n",
      "Trainable params: 1,708,797\n",
      "Non-trainable params: 0\n",
      "_________________________________________________________________\n"
     ]
    }
   ],
   "source": [
    "# Compile the Model\n",
    "model_3.compile(optimizer='adam',loss='binary_crossentropy',metrics=['accuracy'])\n",
    "model_3.summary()"
   ]
  },
  {
   "cell_type": "code",
   "execution_count": 123,
   "metadata": {},
   "outputs": [
    {
     "name": "stdout",
     "output_type": "stream",
     "text": [
      "Train on 18812 samples, validate on 4704 samples\n",
      "Epoch 1/2\n",
      "18812/18812 [==============================] - 60s 3ms/step - loss: 0.3622 - acc: 0.8415 - val_loss: 0.2633 - val_acc: 0.8933\n",
      "Epoch 2/2\n",
      "18812/18812 [==============================] - 58s 3ms/step - loss: 0.1419 - acc: 0.9489 - val_loss: 0.2401 - val_acc: 0.9101\n"
     ]
    }
   ],
   "source": [
    "# Fit the Model\n",
    "history = model_3.fit(X_train,train_y,epochs=2,verbose=True,validation_data=(X_test,test_y), batch_size=25)"
   ]
  },
  {
   "cell_type": "code",
   "execution_count": 124,
   "metadata": {},
   "outputs": [
    {
     "name": "stdout",
     "output_type": "stream",
     "text": [
      "Testing Accuracy:  0.9100765306122449\n"
     ]
    }
   ],
   "source": [
    "# Evaluate the Model\n",
    "loss, accuracy = model_3.evaluate(X_test,test_y, verbose=False)\n",
    "print(\"Testing Accuracy:  {}\".format(accuracy))"
   ]
  },
  {
   "cell_type": "code",
   "execution_count": 125,
   "metadata": {},
   "outputs": [],
   "source": [
    "y_pred = model_3.predict(X_test)\n",
    "y_pred = (y_pred > 0.5)"
   ]
  },
  {
   "cell_type": "code",
   "execution_count": 126,
   "metadata": {},
   "outputs": [
    {
     "data": {
      "text/plain": [
       "0.8399545970488081"
      ]
     },
     "execution_count": 126,
     "metadata": {},
     "output_type": "execute_result"
    }
   ],
   "source": [
    "f1_score(test_y,y_pred)"
   ]
  },
  {
   "cell_type": "code",
   "execution_count": 127,
   "metadata": {},
   "outputs": [
    {
     "data": {
      "text/plain": [
       "0.9100765306122449"
      ]
     },
     "execution_count": 127,
     "metadata": {},
     "output_type": "execute_result"
    }
   ],
   "source": [
    "accuracy_score(test_y,y_pred)"
   ]
  },
  {
   "cell_type": "code",
   "execution_count": 137,
   "metadata": {},
   "outputs": [
    {
     "data": {
      "text/plain": [
       "array([[3171,  173],\n",
       "       [ 250, 1110]], dtype=int64)"
      ]
     },
     "execution_count": 137,
     "metadata": {},
     "output_type": "execute_result"
    }
   ],
   "source": [
    "con_mat=confusion_matrix(test_y,y_pred)\n",
    "con_mat"
   ]
  },
  {
   "cell_type": "code",
   "execution_count": 143,
   "metadata": {},
   "outputs": [
    {
     "name": "stdout",
     "output_type": "stream",
     "text": [
      "             precision    recall  f1-score   support\n",
      "\n",
      "          0       0.93      0.95      0.94      3344\n",
      "          1       0.87      0.82      0.84      1360\n",
      "\n",
      "avg / total       0.91      0.91      0.91      4704\n",
      "\n"
     ]
    }
   ],
   "source": [
    "report=classification_report(test_y,y_pred)\n",
    "print(report)"
   ]
  },
  {
   "cell_type": "code",
   "execution_count": 145,
   "metadata": {},
   "outputs": [
    {
     "data": {
      "image/png": "[encoded data removed]",
      "text/plain": [
       "<Figure size 432x288 with 2 Axes>"
      ]
     },
     "metadata": {},
     "output_type": "display_data"
    }
   ],
   "source": [
    "%matplotlib inline\n",
    "import seaborn as sns\n",
    "ax=plt.subplot()\n",
    "sns.heatmap(con_mat,annot=True,ax=ax);\n",
    "# labels, title\n",
    "ax.set_xlabel('Predicted values');ax.set_ylabel('Actual Values');ax.set_title('Confusion Matrix for CNN')\n",
    "ax.xaxis.set_ticklabels(['Non_ADF','ADF']);ax.yaxis.set_ticklabels(['Non_ADF','ADF']);"
   ]
  },
  {
   "cell_type": "markdown",
   "metadata": {},
   "source": [
    "                                                 Cross Validation for CNN"
   ]
  },
  {
   "cell_type": "code",
   "execution_count": 135,
   "metadata": {},
   "outputs": [
    {
     "name": "stdout",
     "output_type": "stream",
     "text": [
      "Accuracy 87.60963163959829 %\n",
      "Accuracy 89.37968426183392 %\n",
      "Accuracy 87.36842104312525 %\n",
      "Mean Accuracy 88.11924564818582\n"
     ]
    }
   ],
   "source": [
    "from sklearn.model_selection import StratifiedKFold\n",
    "import numpy\n",
    "# fix random seed for reproducibility\n",
    "seed = 7\n",
    "numpy.random.seed(seed)# define 3-fold cross validation test\n",
    "X=X_train\n",
    "Y=train_y\n",
    "kfold = StratifiedKFold(n_splits=3, shuffle=True, random_state=seed)\n",
    "cvscores = []\n",
    "for train, test in kfold.split(X,Y):\n",
    "    #create model\n",
    "    embedding_dim=100\n",
    "    model = Sequential()\n",
    "    model.add(layers.Embedding(input_dim=vocab_size, output_dim=embedding_dim, input_length=maxlen))\n",
    "    model.add(layers.Conv1D(128, 5, activation='relu'))\n",
    "    model.add(layers.MaxPooling1D(5))\n",
    "    model.add(layers.Conv1D(64, 4, activation='relu'))\n",
    "    model.add(layers.Conv1D(32, 3, activation='relu'))\n",
    "    model.add(layers.Flatten())\n",
    "    model.add(layers.Dense(10, activation='relu'))\n",
    "    model.add(layers.Dense(1, activation='sigmoid'))\n",
    "    #Compile model\n",
    "    model.compile(loss='binary_crossentropy', optimizer='adam', metrics=['accuracy'])\n",
    "    #Fit the model\n",
    "    model.fit(X[train],Y[train], epochs=2, batch_size=25, verbose=0)\n",
    "    # evaluate the model\n",
    "    scores = model.evaluate(X[test],Y[test], verbose=0)\n",
    "    print(\"Accuracy {} %\".format(scores[1]*100))\n",
    "    cvscores.append(scores[1] * 100)\n",
    "print(\"Mean Accuracy {}\".format(numpy.mean(cvscores)))"
   ]
  },
  {
   "cell_type": "markdown",
   "metadata": {},
   "source": [
    "                                                  09. Conclusion"
   ]
  },
  {
   "cell_type": "markdown",
   "metadata": {},
   "source": [
    " With this study, we analyed, cleaned the raw twitter data using (Tokenization etc) and extracted the features with the help of Bags of Model (BOW) and Word Embeddings. And we started with base line and traditional ML models. In a aim to achieve better f_score metric, we implemented Neural network and Convolution Neural Network models.\n",
    "Finally as per our business requirement, classification model for Adverse Drug Reaction and Non-Adverse Reaction from twitter text data with a descent f_score of 84 (CNN Model) is ready to deploy."
   ]
  }
 ],
 "metadata": {
  "kernelspec": {
   "display_name": "Python 3",
   "language": "python",
   "name": "python3"
  },
  "language_info": {
   "codemirror_mode": {
    "name": "ipython",
    "version": 3
   },
   "file_extension": ".py",
   "mimetype": "text/x-python",
   "name": "python",
   "nbconvert_exporter": "python",
   "pygments_lexer": "ipython3",
   "version": "3.6.5"
  }
 },
 "nbformat": 4,
 "nbformat_minor": 2
}
